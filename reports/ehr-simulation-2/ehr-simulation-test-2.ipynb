{
 "cells": [
  {
   "cell_type": "markdown",
   "metadata": {},
   "source": [
    "<img src=\"resources/header.png\"/>"
   ]
  },
  {
   "cell_type": "markdown",
   "metadata": {},
   "source": [
    "### Setting up the Jupyter environment"
   ]
  },
  {
   "cell_type": "code",
   "execution_count": 14,
   "metadata": {},
   "outputs": [
    {
     "name": "stdout",
     "output_type": "stream",
     "text": [
      "The jupyter_probcomp.magics extension is already loaded. To reload it, use:\n",
      "  %reload_ext jupyter_probcomp.magics\n"
     ]
    }
   ],
   "source": [
    "%load_ext jupyter_probcomp.magics"
   ]
  },
  {
   "cell_type": "code",
   "execution_count": 15,
   "metadata": {},
   "outputs": [
    {
     "data": {
      "application/javascript": [
       "//   Copyright (c) 2010-2016, MIT Probabilistic Computing Project\n",
       "//\n",
       "//   Licensed under the Apache License, Version 2.0 (the \"License\");\n",
       "//   you may not use this file except in compliance with the License.\n",
       "//   You may obtain a copy of the License at\n",
       "//\n",
       "//       http://www.apache.org/licenses/LICENSE-2.0\n",
       "//\n",
       "//   Unless required by applicable law or agreed to in writing, software\n",
       "//   distributed under the License is distributed on an \"AS IS\" BASIS,\n",
       "//   WITHOUT WARRANTIES OR CONDITIONS OF ANY KIND, either express or implied.\n",
       "//   See the License for the specific language governing permissions and\n",
       "//   limitations under the License.\n",
       "\n",
       "var myCell = element\n",
       "window.VizGPMReady = new Promise(resolve => {\n",
       "  $.getScript('https://probcomp-2.csail.mit.edu/vizgpm/vizgpm.js', function() {\n",
       "    myCell.append('Loaded VizGPM v' + VizGPM.version);\n",
       "    $.getScript('https://cdnjs.cloudflare.com/ajax/libs/lodash.js/4.17.4/lodash.js', function() {\n",
       "      myCell.append('Loaded lodash v' + _.VERSION);\n",
       "      VizGPM._ = _.noConflict();\n",
       "      resolve(VizGPM)\n",
       "    });\n",
       "  })\n",
       "})\n"
      ],
      "text/plain": [
       "<IPython.core.display.Javascript object>"
      ]
     },
     "execution_count": 15,
     "metadata": {},
     "output_type": "execute_result"
    }
   ],
   "source": [
    "%matplotlib inline\n",
    "%vizgpm inline"
   ]
  },
  {
   "cell_type": "markdown",
   "metadata": {},
   "source": [
    "### Creating a BayesDB `.bdb` file on disk"
   ]
  },
  {
   "cell_type": "code",
   "execution_count": 16,
   "metadata": {},
   "outputs": [
    {
     "data": {
      "text/plain": [
       "u'Loaded: resources/ehr_sim_2.bdb'"
      ]
     },
     "execution_count": 16,
     "metadata": {},
     "output_type": "execute_result"
    }
   ],
   "source": [
    "#!rm -f resources/ehr_sim_2.bdb\n",
    "%bayesdb resources/ehr_sim_2.bdb"
   ]
  },
  {
   "cell_type": "markdown",
   "metadata": {},
   "source": [
    "### Ingesting data from a `.csv` file into a BayesDB table"
   ]
  },
  {
   "cell_type": "code",
   "execution_count": 17,
   "metadata": {},
   "outputs": [
    {
     "name": "stderr",
     "output_type": "stream",
     "text": [
      "Table already exists: 'ds'\n"
     ]
    }
   ],
   "source": [
    "%bql CREATE TABLE \"ds\" FROM 'data/fictional_prototype.csv'"
   ]
  },
  {
   "cell_type": "code",
   "execution_count": 18,
   "metadata": {},
   "outputs": [
    {
     "name": "stdout",
     "output_type": "stream",
     "text": [
      "Nullified 0 cells\n"
     ]
    }
   ],
   "source": [
    "%bql .nullify ds ''"
   ]
  },
  {
   "cell_type": "markdown",
   "metadata": {},
   "source": [
    "### Running basic queries on the table using BQL and SQL"
   ]
  },
  {
   "cell_type": "code",
   "execution_count": 19,
   "metadata": {},
   "outputs": [
    {
     "data": {
      "text/html": [
       "<div>\n",
       "<table border=\"1\" class=\"dataframe\">\n",
       "  <thead>\n",
       "    <tr style=\"text-align: right;\">\n",
       "      <th></th>\n",
       "      <th>id</th>\n",
       "      <th>gender</th>\n",
       "      <th>age_group</th>\n",
       "      <th>encounter_id</th>\n",
       "      <th>encounter_class</th>\n",
       "      <th>encounter_type</th>\n",
       "      <th>event_type</th>\n",
       "      <th>event_title</th>\n",
       "      <th>event_detail</th>\n",
       "      <th>event_year</th>\n",
       "      <th>event_month</th>\n",
       "      <th>start_day</th>\n",
       "      <th>end_day</th>\n",
       "      <th>duration_days</th>\n",
       "      <th>location_map_id</th>\n",
       "    </tr>\n",
       "  </thead>\n",
       "  <tbody>\n",
       "    <tr>\n",
       "      <th>0</th>\n",
       "      <td>1AB5C92</td>\n",
       "      <td>Female</td>\n",
       "      <td>25 - 29</td>\n",
       "      <td>42230255</td>\n",
       "      <td>Inpatient</td>\n",
       "      <td>Inpatient Acute</td>\n",
       "      <td>Encounter Only</td>\n",
       "      <td>Child, Youth &amp; Family</td>\n",
       "      <td>Maternity</td>\n",
       "      <td>2013</td>\n",
       "      <td>1</td>\n",
       "      <td>660</td>\n",
       "      <td>662</td>\n",
       "      <td>2</td>\n",
       "      <td>1673</td>\n",
       "    </tr>\n",
       "    <tr>\n",
       "      <th>1</th>\n",
       "      <td>1AB5C92</td>\n",
       "      <td>Female</td>\n",
       "      <td>25 - 29</td>\n",
       "      <td>20125520</td>\n",
       "      <td>Inpatient</td>\n",
       "      <td>MHAS - Residential</td>\n",
       "      <td>Encounter Only</td>\n",
       "      <td>Mental Health</td>\n",
       "      <td>Adult Psychiatry</td>\n",
       "      <td>2015</td>\n",
       "      <td>12</td>\n",
       "      <td>1594</td>\n",
       "      <td>1614</td>\n",
       "      <td>20</td>\n",
       "      <td>874</td>\n",
       "    </tr>\n",
       "    <tr>\n",
       "      <th>2</th>\n",
       "      <td>1AB5C92</td>\n",
       "      <td>Female</td>\n",
       "      <td>25 - 29</td>\n",
       "      <td>36191729</td>\n",
       "      <td>Inpatient</td>\n",
       "      <td>MHAS - Acute Care</td>\n",
       "      <td>Encounter Only</td>\n",
       "      <td>Mental Health</td>\n",
       "      <td>Adult Psychiatry</td>\n",
       "      <td>2011</td>\n",
       "      <td>6</td>\n",
       "      <td>31</td>\n",
       "      <td>48</td>\n",
       "      <td>17</td>\n",
       "      <td>903</td>\n",
       "    </tr>\n",
       "    <tr>\n",
       "      <th>3</th>\n",
       "      <td>1AB5C92</td>\n",
       "      <td>Female</td>\n",
       "      <td>25 - 29</td>\n",
       "      <td>86996036</td>\n",
       "      <td>Recurring</td>\n",
       "      <td>Open Encounter</td>\n",
       "      <td>Encounter Only</td>\n",
       "      <td>Mental Health</td>\n",
       "      <td>Adult Psychiatry</td>\n",
       "      <td>2016</td>\n",
       "      <td>5</td>\n",
       "      <td>11</td>\n",
       "      <td>165</td>\n",
       "      <td>154</td>\n",
       "      <td>601</td>\n",
       "    </tr>\n",
       "    <tr>\n",
       "      <th>4</th>\n",
       "      <td>1AB5C92</td>\n",
       "      <td>Female</td>\n",
       "      <td>25 - 29</td>\n",
       "      <td>55289445</td>\n",
       "      <td>Recurring</td>\n",
       "      <td>Open Encounter</td>\n",
       "      <td>Encounter Only</td>\n",
       "      <td>Mental Health</td>\n",
       "      <td>Adult Psychiatry</td>\n",
       "      <td>2009</td>\n",
       "      <td>7</td>\n",
       "      <td>0</td>\n",
       "      <td>810</td>\n",
       "      <td>810</td>\n",
       "      <td>1261</td>\n",
       "    </tr>\n",
       "  </tbody>\n",
       "</table>\n",
       "</div>"
      ],
      "text/plain": [
       "        id  gender age_group  encounter_id encounter_class  \\\n",
       "0  1AB5C92  Female   25 - 29      42230255       Inpatient   \n",
       "1  1AB5C92  Female   25 - 29      20125520       Inpatient   \n",
       "2  1AB5C92  Female   25 - 29      36191729       Inpatient   \n",
       "3  1AB5C92  Female   25 - 29      86996036       Recurring   \n",
       "4  1AB5C92  Female   25 - 29      55289445       Recurring   \n",
       "\n",
       "       encounter_type      event_type            event_title  \\\n",
       "0     Inpatient Acute  Encounter Only  Child, Youth & Family   \n",
       "1  MHAS - Residential  Encounter Only          Mental Health   \n",
       "2   MHAS - Acute Care  Encounter Only          Mental Health   \n",
       "3      Open Encounter  Encounter Only          Mental Health   \n",
       "4      Open Encounter  Encounter Only          Mental Health   \n",
       "\n",
       "       event_detail  event_year  event_month  start_day  end_day  \\\n",
       "0         Maternity        2013            1        660      662   \n",
       "1  Adult Psychiatry        2015           12       1594     1614   \n",
       "2  Adult Psychiatry        2011            6         31       48   \n",
       "3  Adult Psychiatry        2016            5         11      165   \n",
       "4  Adult Psychiatry        2009            7          0      810   \n",
       "\n",
       "   duration_days  location_map_id  \n",
       "0              2             1673  \n",
       "1             20              874  \n",
       "2             17              903  \n",
       "3            154              601  \n",
       "4            810             1261  "
      ]
     },
     "execution_count": 19,
     "metadata": {},
     "output_type": "execute_result"
    }
   ],
   "source": [
    "%bql SELECT * FROM \"ds\" LIMIT 5;"
   ]
  },
  {
   "cell_type": "markdown",
   "metadata": {},
   "source": [
    "We can also find the total number of records (i.e. countries)."
   ]
  },
  {
   "cell_type": "code",
   "execution_count": 20,
   "metadata": {},
   "outputs": [
    {
     "data": {
      "text/html": [
       "<div>\n",
       "<table border=\"1\" class=\"dataframe\">\n",
       "  <thead>\n",
       "    <tr style=\"text-align: right;\">\n",
       "      <th></th>\n",
       "      <th>\"COUNT\"(*)</th>\n",
       "    </tr>\n",
       "  </thead>\n",
       "  <tbody>\n",
       "    <tr>\n",
       "      <th>0</th>\n",
       "      <td>325</td>\n",
       "    </tr>\n",
       "  </tbody>\n",
       "</table>\n",
       "</div>"
      ],
      "text/plain": [
       "   \"COUNT\"(*)\n",
       "0         325"
      ]
     },
     "execution_count": 20,
     "metadata": {},
     "output_type": "execute_result"
    }
   ],
   "source": [
    "%bql SELECT COUNT(*) FROM \"ds\";"
   ]
  },
  {
   "cell_type": "markdown",
   "metadata": {},
   "source": [
    "### Creating a BayesDB population for the Gapminder data"
   ]
  },
  {
   "cell_type": "code",
   "execution_count": 21,
   "metadata": {},
   "outputs": [
    {
     "data": {
      "text/html": [
       "<div>\n",
       "<table border=\"1\" class=\"dataframe\">\n",
       "  <thead>\n",
       "    <tr style=\"text-align: right;\">\n",
       "      <th></th>\n",
       "      <th>column</th>\n",
       "      <th>stattype</th>\n",
       "      <th>num_distinct</th>\n",
       "      <th>reason</th>\n",
       "    </tr>\n",
       "  </thead>\n",
       "  <tbody>\n",
       "    <tr>\n",
       "      <th>0</th>\n",
       "      <td>id</td>\n",
       "      <td>nominal</td>\n",
       "      <td>10</td>\n",
       "      <td>The values are nonnumerical.</td>\n",
       "    </tr>\n",
       "    <tr>\n",
       "      <th>1</th>\n",
       "      <td>gender</td>\n",
       "      <td>nominal</td>\n",
       "      <td>2</td>\n",
       "      <td>The values are nonnumerical.</td>\n",
       "    </tr>\n",
       "    <tr>\n",
       "      <th>2</th>\n",
       "      <td>age_group</td>\n",
       "      <td>nominal</td>\n",
       "      <td>7</td>\n",
       "      <td>The values are nonnumerical.</td>\n",
       "    </tr>\n",
       "    <tr>\n",
       "      <th>3</th>\n",
       "      <td>encounter_id</td>\n",
       "      <td>numerical</td>\n",
       "      <td>220</td>\n",
       "      <td>There are at least 20 unique numerical values...</td>\n",
       "    </tr>\n",
       "    <tr>\n",
       "      <th>4</th>\n",
       "      <td>encounter_class</td>\n",
       "      <td>nominal</td>\n",
       "      <td>6</td>\n",
       "      <td>The values are nonnumerical.</td>\n",
       "    </tr>\n",
       "    <tr>\n",
       "      <th>5</th>\n",
       "      <td>encounter_type</td>\n",
       "      <td>nominal</td>\n",
       "      <td>10</td>\n",
       "      <td>The values are nonnumerical.</td>\n",
       "    </tr>\n",
       "    <tr>\n",
       "      <th>6</th>\n",
       "      <td>event_type</td>\n",
       "      <td>nominal</td>\n",
       "      <td>6</td>\n",
       "      <td>The values are nonnumerical.</td>\n",
       "    </tr>\n",
       "    <tr>\n",
       "      <th>7</th>\n",
       "      <td>event_title</td>\n",
       "      <td>nominal</td>\n",
       "      <td>10</td>\n",
       "      <td>The values are nonnumerical.</td>\n",
       "    </tr>\n",
       "    <tr>\n",
       "      <th>8</th>\n",
       "      <td>event_detail</td>\n",
       "      <td>nominal</td>\n",
       "      <td>80</td>\n",
       "      <td>The values are nonnumerical.</td>\n",
       "    </tr>\n",
       "    <tr>\n",
       "      <th>9</th>\n",
       "      <td>event_year</td>\n",
       "      <td>nominal</td>\n",
       "      <td>10</td>\n",
       "      <td>There are fewer than 20 distinct numerical va...</td>\n",
       "    </tr>\n",
       "    <tr>\n",
       "      <th>10</th>\n",
       "      <td>event_month</td>\n",
       "      <td>nominal</td>\n",
       "      <td>12</td>\n",
       "      <td>There are fewer than 20 distinct numerical va...</td>\n",
       "    </tr>\n",
       "    <tr>\n",
       "      <th>11</th>\n",
       "      <td>start_day</td>\n",
       "      <td>numerical</td>\n",
       "      <td>208</td>\n",
       "      <td>There are at least 20 unique numerical values...</td>\n",
       "    </tr>\n",
       "    <tr>\n",
       "      <th>12</th>\n",
       "      <td>end_day</td>\n",
       "      <td>numerical</td>\n",
       "      <td>218</td>\n",
       "      <td>There are at least 20 unique numerical values...</td>\n",
       "    </tr>\n",
       "    <tr>\n",
       "      <th>13</th>\n",
       "      <td>duration_days</td>\n",
       "      <td>numerical</td>\n",
       "      <td>45</td>\n",
       "      <td>There are at least 20 unique numerical values...</td>\n",
       "    </tr>\n",
       "    <tr>\n",
       "      <th>14</th>\n",
       "      <td>location_map_id</td>\n",
       "      <td>numerical</td>\n",
       "      <td>90</td>\n",
       "      <td>There are at least 20 unique numerical values...</td>\n",
       "    </tr>\n",
       "  </tbody>\n",
       "</table>\n",
       "</div>"
      ],
      "text/plain": [
       "             column   stattype  num_distinct  \\\n",
       "0                id    nominal            10   \n",
       "1            gender    nominal             2   \n",
       "2         age_group    nominal             7   \n",
       "3      encounter_id  numerical           220   \n",
       "4   encounter_class    nominal             6   \n",
       "5    encounter_type    nominal            10   \n",
       "6        event_type    nominal             6   \n",
       "7       event_title    nominal            10   \n",
       "8      event_detail    nominal            80   \n",
       "9        event_year    nominal            10   \n",
       "10      event_month    nominal            12   \n",
       "11        start_day  numerical           208   \n",
       "12          end_day  numerical           218   \n",
       "13    duration_days  numerical            45   \n",
       "14  location_map_id  numerical            90   \n",
       "\n",
       "                                               reason  \n",
       "0                        The values are nonnumerical.  \n",
       "1                        The values are nonnumerical.  \n",
       "2                        The values are nonnumerical.  \n",
       "3    There are at least 20 unique numerical values...  \n",
       "4                        The values are nonnumerical.  \n",
       "5                        The values are nonnumerical.  \n",
       "6                        The values are nonnumerical.  \n",
       "7                        The values are nonnumerical.  \n",
       "8                        The values are nonnumerical.  \n",
       "9    There are fewer than 20 distinct numerical va...  \n",
       "10   There are fewer than 20 distinct numerical va...  \n",
       "11   There are at least 20 unique numerical values...  \n",
       "12   There are at least 20 unique numerical values...  \n",
       "13   There are at least 20 unique numerical values...  \n",
       "14   There are at least 20 unique numerical values...  "
      ]
     },
     "execution_count": 21,
     "metadata": {},
     "output_type": "execute_result"
    }
   ],
   "source": [
    "%mml GUESS SCHEMA FOR \"ds\""
   ]
  },
  {
   "cell_type": "code",
   "execution_count": 22,
   "metadata": {},
   "outputs": [
    {
     "data": {
      "text/html": [
       "<div>\n",
       "<table border=\"1\" class=\"dataframe\">\n",
       "  <thead>\n",
       "    <tr style=\"text-align: right;\">\n",
       "      <th></th>\n",
       "    </tr>\n",
       "  </thead>\n",
       "  <tbody>\n",
       "  </tbody>\n",
       "</table>\n",
       "</div>"
      ],
      "text/plain": [
       "Empty DataFrame\n",
       "Columns: []\n",
       "Index: []"
      ]
     },
     "execution_count": 22,
     "metadata": {},
     "output_type": "execute_result"
    }
   ],
   "source": [
    "%%mml\n",
    "DROP METAMODEL IF EXISTS \"ehr_schema\";\n",
    "DROP POPULATION IF EXISTS \"ehr_population\";\n",
    "CREATE POPULATION \"ehr_population\" FOR \"ds\" WITH SCHEMA (\n",
    "    -- Use the guesses from the previous cell for all variables.\n",
    "    GUESS STATTYPES FOR (*);\n",
    "\n",
    "    -- Manually override incorrectly guessed statistical types.\n",
    "    MODEL\n",
    "    \"encounter_id\", \"location_map_id\"\n",
    "    AS NOMINAL;\n",
    ");"
   ]
  },
  {
   "cell_type": "markdown",
   "metadata": {},
   "source": [
    "### Creating an analysis schema for the population using CrossCat"
   ]
  },
  {
   "cell_type": "code",
   "execution_count": 23,
   "metadata": {},
   "outputs": [
    {
     "data": {
      "text/html": [
       "<div>\n",
       "<table border=\"1\" class=\"dataframe\">\n",
       "  <thead>\n",
       "    <tr style=\"text-align: right;\">\n",
       "      <th></th>\n",
       "    </tr>\n",
       "  </thead>\n",
       "  <tbody>\n",
       "  </tbody>\n",
       "</table>\n",
       "</div>"
      ],
      "text/plain": [
       "Empty DataFrame\n",
       "Columns: []\n",
       "Index: []"
      ]
     },
     "execution_count": 23,
     "metadata": {},
     "output_type": "execute_result"
    }
   ],
   "source": [
    "%mml CREATE ANALYSIS SCHEMA \"ehr_schema\" FOR \"ehr_population\" WITH BASELINE crosscat();"
   ]
  },
  {
   "cell_type": "markdown",
   "metadata": {},
   "source": [
    "After specifying the `ehr_schema` analysis schema, we now need to initialize `ANALYSES` for the schema. We can think of an `ANALYSIS SCHEMA` as specifying a hypothesis space of explanations for the data generating process for the population, and each `ANALYSIS` is a candidate hypothesis. We start by creating only 1 analysis, which is initialized __randomly__."
   ]
  },
  {
   "cell_type": "code",
   "execution_count": 24,
   "metadata": {},
   "outputs": [
    {
     "data": {
      "text/html": [
       "<div>\n",
       "<table border=\"1\" class=\"dataframe\">\n",
       "  <thead>\n",
       "    <tr style=\"text-align: right;\">\n",
       "      <th></th>\n",
       "    </tr>\n",
       "  </thead>\n",
       "  <tbody>\n",
       "  </tbody>\n",
       "</table>\n",
       "</div>"
      ],
      "text/plain": [
       "Empty DataFrame\n",
       "Columns: []\n",
       "Index: []"
      ]
     },
     "execution_count": 24,
     "metadata": {},
     "output_type": "execute_result"
    }
   ],
   "source": [
    "%mml INITIALIZE 32 ANALYSIS FOR \"ehr_schema\";"
   ]
  },
  {
   "cell_type": "markdown",
   "metadata": {},
   "source": [
    "### Using BQL to query CrossCat models"
   ]
  },
  {
   "cell_type": "code",
   "execution_count": 25,
   "metadata": {},
   "outputs": [
    {
     "data": {
      "application/javascript": [
       "//   Copyright (c) 2010-2016, MIT Probabilistic Computing Project\n",
       "//\n",
       "//   Licensed under the Apache License, Version 2.0 (the \"License\");\n",
       "//   you may not use this file except in compliance with the License.\n",
       "//   You may obtain a copy of the License at\n",
       "//\n",
       "//       http://www.apache.org/licenses/LICENSE-2.0\n",
       "//\n",
       "//   Unless required by applicable law or agreed to in writing, software\n",
       "//   distributed under the License is distributed on an \"AS IS\" BASIS,\n",
       "//   WITHOUT WARRANTIES OR CONDITIONS OF ANY KIND, either express or implied.\n",
       "//   See the License for the specific language governing permissions and\n",
       "//   limitations under the License.\n",
       "\n",
       "\n",
       "function heatmap(df, labels) {\n",
       "  var myCell = element.is('.output_subarea') ? element : element.next();\n",
       "  if (typeof VizGPMReady === 'undefined') {\n",
       "    throw new Error('VizGPM Display Library not loaded')\n",
       "  }\n",
       "\n",
       "  if (df.columns.length !== 3) {\n",
       "    throw new Error('Must be 3 columns of data');\n",
       "  }\n",
       "\n",
       "  const toggleClass = (element, className, state) => {\n",
       "    element.classList[state ? 'add' : 'remove'](className)\n",
       "  }\n",
       "\n",
       "  // convert the data to an MI object for VizGPM\n",
       "  var associations = {}\n",
       "  const columns = new Set();\n",
       "  for (const [col0, col1, value] of df.data) {\n",
       "    columns.add(col0);\n",
       "    columns.add(col1);\n",
       "    if (!associations[col0]) {\n",
       "      associations[col0] = {}\n",
       "    }\n",
       "    associations[col0][col1] = value\n",
       "  }\n",
       "\n",
       "  function between(col1, col2) {\n",
       "    return associations[col1][col2]\n",
       "  }\n",
       "\n",
       "  // This is what VizGPM expects for the mutual info charts\n",
       "  var mi = { target: labels || [...columns], between: between }\n",
       "\n",
       "  var container = $('<div style=\"display: flex; flex-direction: row;\">')\n",
       "    .appendTo(myCell);\n",
       "\n",
       "  var depProbContainer = $('<div style=\"flex: 1 1 100%;\">').appendTo(container);\n",
       "  var columnListContainer = $('<div style=\"flex: 0 0 200px;\">').appendTo(container);\n",
       "\n",
       "  $(\"<style>.vizgpm-column-list .selected-columns-list .details{display: none !important;}</style>\").appendTo(container);\n",
       "\n",
       "  VizGPMReady.then(function(VizGPM) {\n",
       "    const _ = VizGPM._;\n",
       "\n",
       "    const SP = VizGPM.StateProperty\n",
       "\n",
       "    const schema = [...columns].map(name => ({name}));\n",
       "\n",
       "    var stateManager = new VizGPM.StateManager({\n",
       "      [SP.SCHEMA]: {columns: schema},\n",
       "      columns: [...columns],\n",
       "      [SP.SELECTED_COLUMN_NAMES]: [],\n",
       "      [SP.GET_COLUMN_FUNCTION]: col =>\n",
       "        VizGPM.GpmHandler.prototype._getColumn.call(stateManager, col),\n",
       "    });\n",
       "\n",
       "    // var debug = $('<pre>').appendTo(element);\n",
       "    // stateManager.subscribe(function(newState) {\n",
       "    //   const showState = Object.assign({}, newState.state);\n",
       "    //   delete showState.schema;\n",
       "    //   delete showState.rows;\n",
       "    //   debug.text(JSON.stringify(showState, false, '  '))\n",
       "    // })\n",
       "\n",
       "    const chart = new VizGPM.ZoomableColumnAssociation({\n",
       "      root: depProbContainer[0],\n",
       "      stateManager: stateManager,\n",
       "      // subgridClass: SingleSelectSubgrid,\n",
       "      associationFn: function() {\n",
       "        return mi\n",
       "      },\n",
       "      // subgridConfig: {\n",
       "        // cellSelectedFn: ({ xColumn, yColumn, selectedColumns: [x, y = x] = [] }) =>\n",
       "          // xColumn === x && yColumn === y,\n",
       "      // },\n",
       "      // miniMapConfig: {\n",
       "        // cellSelectedFn: ({ xColumn, yColumn, selectedColumns: [x, y = x] = [] }) =>\n",
       "          // xColumn === x || yColumn === y,\n",
       "      // },\n",
       "    })\n",
       "\n",
       "    const columnList = new VizGPM.UI.ColumnList({\n",
       "      root: columnListContainer[0],\n",
       "      stateManager,\n",
       "    })\n",
       "  })\n",
       "}\n",
       "heatmap({\"columns\":[\"name0\",\"name1\",\"value\"],\"index\":[0,1,2,3,4,5,6,7,8,9,10,11,12,13,14,15,16,17,18,19,20,21,22,23,24,25,26,27,28,29,30,31,32,33,34,35,36,37,38,39,40,41,42,43,44,45,46,47,48,49,50,51,52,53,54,55,56,57,58,59,60,61,62,63,64,65,66,67,68,69,70,71,72,73,74,75,76,77,78,79,80,81,82,83,84,85,86,87,88,89,90,91,92,93,94,95,96,97,98,99,100,101,102,103,104,105,106,107,108,109,110,111,112,113,114,115,116,117,118,119,120,121,122,123,124,125,126,127,128,129,130,131,132,133,134,135,136,137,138,139,140,141,142,143,144,145,146,147,148,149,150,151,152,153,154,155,156,157,158,159,160,161,162,163,164,165,166,167,168,169,170,171,172,173,174,175,176,177,178,179,180,181,182,183,184,185,186,187,188,189,190,191,192,193,194,195,196,197,198,199,200,201,202,203,204,205,206,207,208,209,210,211,212,213,214,215,216,217,218,219,220,221,222,223,224],\"data\":[[\"id\",\"id\",1.0],[\"id\",\"gender\",0.5],[\"id\",\"age_group\",0.53125],[\"id\",\"encounter_id\",0.5],[\"id\",\"encounter_class\",0.46875],[\"id\",\"encounter_type\",0.5],[\"id\",\"event_type\",0.5],[\"id\",\"event_title\",0.4375],[\"id\",\"event_detail\",0.46875],[\"id\",\"event_year\",0.53125],[\"id\",\"event_month\",0.53125],[\"id\",\"start_day\",0.5],[\"id\",\"end_day\",0.46875],[\"id\",\"duration_days\",0.53125],[\"id\",\"location_map_id\",0.59375],[\"gender\",\"id\",0.5],[\"gender\",\"gender\",1.0],[\"gender\",\"age_group\",0.53125],[\"gender\",\"encounter_id\",0.5625],[\"gender\",\"encounter_class\",0.375],[\"gender\",\"encounter_type\",0.5],[\"gender\",\"event_type\",0.40625],[\"gender\",\"event_title\",0.4375],[\"gender\",\"event_detail\",0.34375],[\"gender\",\"event_year\",0.53125],[\"gender\",\"event_month\",0.4375],[\"gender\",\"start_day\",0.46875],[\"gender\",\"end_day\",0.4375],[\"gender\",\"duration_days\",0.46875],[\"gender\",\"location_map_id\",0.46875],[\"age_group\",\"id\",0.53125],[\"age_group\",\"gender\",0.53125],[\"age_group\",\"age_group\",1.0],[\"age_group\",\"encounter_id\",0.59375],[\"age_group\",\"encounter_class\",0.4375],[\"age_group\",\"encounter_type\",0.53125],[\"age_group\",\"event_type\",0.53125],[\"age_group\",\"event_title\",0.375],[\"age_group\",\"event_detail\",0.4375],[\"age_group\",\"event_year\",0.46875],[\"age_group\",\"event_month\",0.59375],[\"age_group\",\"start_day\",0.5],[\"age_group\",\"end_day\",0.5625],[\"age_group\",\"duration_days\",0.46875],[\"age_group\",\"location_map_id\",0.46875],[\"encounter_id\",\"id\",0.5],[\"encounter_id\",\"gender\",0.5625],[\"encounter_id\",\"age_group\",0.59375],[\"encounter_id\",\"encounter_id\",1.0],[\"encounter_id\",\"encounter_class\",0.46875],[\"encounter_id\",\"encounter_type\",0.5625],[\"encounter_id\",\"event_type\",0.5],[\"encounter_id\",\"event_title\",0.5],[\"encounter_id\",\"event_detail\",0.5],[\"encounter_id\",\"event_year\",0.53125],[\"encounter_id\",\"event_month\",0.53125],[\"encounter_id\",\"start_day\",0.46875],[\"encounter_id\",\"end_day\",0.5],[\"encounter_id\",\"duration_days\",0.5625],[\"encounter_id\",\"location_map_id\",0.5],[\"encounter_class\",\"id\",0.46875],[\"encounter_class\",\"gender\",0.375],[\"encounter_class\",\"age_group\",0.4375],[\"encounter_class\",\"encounter_id\",0.46875],[\"encounter_class\",\"encounter_class\",1.0],[\"encounter_class\",\"encounter_type\",0.5],[\"encounter_class\",\"event_type\",0.53125],[\"encounter_class\",\"event_title\",0.46875],[\"encounter_class\",\"event_detail\",0.4375],[\"encounter_class\",\"event_year\",0.46875],[\"encounter_class\",\"event_month\",0.4375],[\"encounter_class\",\"start_day\",0.4375],[\"encounter_class\",\"end_day\",0.4375],[\"encounter_class\",\"duration_days\",0.46875],[\"encounter_class\",\"location_map_id\",0.53125],[\"encounter_type\",\"id\",0.5],[\"encounter_type\",\"gender\",0.5],[\"encounter_type\",\"age_group\",0.53125],[\"encounter_type\",\"encounter_id\",0.5625],[\"encounter_type\",\"encounter_class\",0.5],[\"encounter_type\",\"encounter_type\",1.0],[\"encounter_type\",\"event_type\",0.5],[\"encounter_type\",\"event_title\",0.46875],[\"encounter_type\",\"event_detail\",0.40625],[\"encounter_type\",\"event_year\",0.53125],[\"encounter_type\",\"event_month\",0.5625],[\"encounter_type\",\"start_day\",0.53125],[\"encounter_type\",\"end_day\",0.53125],[\"encounter_type\",\"duration_days\",0.5],[\"encounter_type\",\"location_map_id\",0.5],[\"event_type\",\"id\",0.5],[\"event_type\",\"gender\",0.40625],[\"event_type\",\"age_group\",0.53125],[\"event_type\",\"encounter_id\",0.5],[\"event_type\",\"encounter_class\",0.53125],[\"event_type\",\"encounter_type\",0.5],[\"event_type\",\"event_type\",1.0],[\"event_type\",\"event_title\",0.4375],[\"event_type\",\"event_detail\",0.4375],[\"event_type\",\"event_year\",0.53125],[\"event_type\",\"event_month\",0.5625],[\"event_type\",\"start_day\",0.5625],[\"event_type\",\"end_day\",0.5],[\"event_type\",\"duration_days\",0.40625],[\"event_type\",\"location_map_id\",0.53125],[\"event_title\",\"id\",0.4375],[\"event_title\",\"gender\",0.4375],[\"event_title\",\"age_group\",0.375],[\"event_title\",\"encounter_id\",0.5],[\"event_title\",\"encounter_class\",0.46875],[\"event_title\",\"encounter_type\",0.46875],[\"event_title\",\"event_type\",0.4375],[\"event_title\",\"event_title\",1.0],[\"event_title\",\"event_detail\",0.46875],[\"event_title\",\"event_year\",0.46875],[\"event_title\",\"event_month\",0.40625],[\"event_title\",\"start_day\",0.46875],[\"event_title\",\"end_day\",0.40625],[\"event_title\",\"duration_days\",0.5],[\"event_title\",\"location_map_id\",0.46875],[\"event_detail\",\"id\",0.46875],[\"event_detail\",\"gender\",0.34375],[\"event_detail\",\"age_group\",0.4375],[\"event_detail\",\"encounter_id\",0.5],[\"event_detail\",\"encounter_class\",0.4375],[\"event_detail\",\"encounter_type\",0.40625],[\"event_detail\",\"event_type\",0.4375],[\"event_detail\",\"event_title\",0.46875],[\"event_detail\",\"event_detail\",1.0],[\"event_detail\",\"event_year\",0.375],[\"event_detail\",\"event_month\",0.46875],[\"event_detail\",\"start_day\",0.46875],[\"event_detail\",\"end_day\",0.375],[\"event_detail\",\"duration_days\",0.40625],[\"event_detail\",\"location_map_id\",0.5],[\"event_year\",\"id\",0.53125],[\"event_year\",\"gender\",0.53125],[\"event_year\",\"age_group\",0.46875],[\"event_year\",\"encounter_id\",0.53125],[\"event_year\",\"encounter_class\",0.46875],[\"event_year\",\"encounter_type\",0.53125],[\"event_year\",\"event_type\",0.53125],[\"event_year\",\"event_title\",0.46875],[\"event_year\",\"event_detail\",0.375],[\"event_year\",\"event_year\",1.0],[\"event_year\",\"event_month\",0.46875],[\"event_year\",\"start_day\",0.5625],[\"event_year\",\"end_day\",0.46875],[\"event_year\",\"duration_days\",0.46875],[\"event_year\",\"location_map_id\",0.5625],[\"event_month\",\"id\",0.53125],[\"event_month\",\"gender\",0.4375],[\"event_month\",\"age_group\",0.59375],[\"event_month\",\"encounter_id\",0.53125],[\"event_month\",\"encounter_class\",0.4375],[\"event_month\",\"encounter_type\",0.5625],[\"event_month\",\"event_type\",0.5625],[\"event_month\",\"event_title\",0.40625],[\"event_month\",\"event_detail\",0.46875],[\"event_month\",\"event_year\",0.46875],[\"event_month\",\"event_month\",1.0],[\"event_month\",\"start_day\",0.4375],[\"event_month\",\"end_day\",0.46875],[\"event_month\",\"duration_days\",0.5],[\"event_month\",\"location_map_id\",0.46875],[\"start_day\",\"id\",0.5],[\"start_day\",\"gender\",0.46875],[\"start_day\",\"age_group\",0.5],[\"start_day\",\"encounter_id\",0.46875],[\"start_day\",\"encounter_class\",0.4375],[\"start_day\",\"encounter_type\",0.53125],[\"start_day\",\"event_type\",0.5625],[\"start_day\",\"event_title\",0.46875],[\"start_day\",\"event_detail\",0.46875],[\"start_day\",\"event_year\",0.5625],[\"start_day\",\"event_month\",0.4375],[\"start_day\",\"start_day\",1.0],[\"start_day\",\"end_day\",0.53125],[\"start_day\",\"duration_days\",0.5],[\"start_day\",\"location_map_id\",0.5625],[\"end_day\",\"id\",0.46875],[\"end_day\",\"gender\",0.4375],[\"end_day\",\"age_group\",0.5625],[\"end_day\",\"encounter_id\",0.5],[\"end_day\",\"encounter_class\",0.4375],[\"end_day\",\"encounter_type\",0.53125],[\"end_day\",\"event_type\",0.5],[\"end_day\",\"event_title\",0.40625],[\"end_day\",\"event_detail\",0.375],[\"end_day\",\"event_year\",0.46875],[\"end_day\",\"event_month\",0.46875],[\"end_day\",\"start_day\",0.53125],[\"end_day\",\"end_day\",1.0],[\"end_day\",\"duration_days\",0.5],[\"end_day\",\"location_map_id\",0.4375],[\"duration_days\",\"id\",0.53125],[\"duration_days\",\"gender\",0.46875],[\"duration_days\",\"age_group\",0.46875],[\"duration_days\",\"encounter_id\",0.5625],[\"duration_days\",\"encounter_class\",0.46875],[\"duration_days\",\"encounter_type\",0.5],[\"duration_days\",\"event_type\",0.40625],[\"duration_days\",\"event_title\",0.5],[\"duration_days\",\"event_detail\",0.40625],[\"duration_days\",\"event_year\",0.46875],[\"duration_days\",\"event_month\",0.5],[\"duration_days\",\"start_day\",0.5],[\"duration_days\",\"end_day\",0.5],[\"duration_days\",\"duration_days\",1.0],[\"duration_days\",\"location_map_id\",0.5],[\"location_map_id\",\"id\",0.59375],[\"location_map_id\",\"gender\",0.46875],[\"location_map_id\",\"age_group\",0.46875],[\"location_map_id\",\"encounter_id\",0.5],[\"location_map_id\",\"encounter_class\",0.53125],[\"location_map_id\",\"encounter_type\",0.5],[\"location_map_id\",\"event_type\",0.53125],[\"location_map_id\",\"event_title\",0.46875],[\"location_map_id\",\"event_detail\",0.5],[\"location_map_id\",\"event_year\",0.5625],[\"location_map_id\",\"event_month\",0.46875],[\"location_map_id\",\"start_day\",0.5625],[\"location_map_id\",\"end_day\",0.4375],[\"location_map_id\",\"duration_days\",0.5],[\"location_map_id\",\"location_map_id\",1.0]]},[\"gender\", \"event_type\", \"id\", \"location_map_id\", \"event_year\", \"start_day\", \"duration_days\", \"end_day\", \"age_group\", \"event_month\", \"encounter_id\", \"encounter_type\", \"event_detail\", \"encounter_class\", \"event_title\"])"
      ],
      "text/plain": [
       "<IPython.core.display.Javascript object>"
      ]
     },
     "execution_count": 25,
     "metadata": {},
     "output_type": "execute_result"
    }
   ],
   "source": [
    "%bql .interactive_heatmap ESTIMATE DEPENDENCE PROBABILITY FROM PAIRWISE VARIABLES OF ehr_population;"
   ]
  },
  {
   "cell_type": "markdown",
   "metadata": {},
   "source": [
    "### Improving Crosscat hypotheses using MML `ANALYZE`"
   ]
  },
  {
   "cell_type": "code",
   "execution_count": 26,
   "metadata": {},
   "outputs": [
    {
     "name": "stdout",
     "output_type": "stream",
     "text": [
      "Multiprocessing turned on from off.\n",
      "0\n",
      "Completed: 1000 iterations in 270.800277 seconds.\n",
      "Completed: 1000 iterations in 302.370852 seconds.\n",
      "Completed: 1000 iterations in 305.193932 seconds.\n",
      "Completed: 1000 iterations in 305.642898 seconds.\n",
      "Completed: 1000 iterations in 308.581548 seconds.\n",
      "Completed: 1000 iterations in 311.817513 seconds.\n",
      "Completed: 1000 iterations in 313.825451 seconds.\n",
      "Completed: 1000 iterations in 347.897187 seconds.\n",
      "Completed: 1000 iterations in 353.126159 seconds.\n",
      "Completed: 1000 iterations in 371.838956 seconds.\n",
      "elapsed = 377.750384092\n",
      "1\n",
      "Completed: 1000 iterations in 302.197135 seconds.\n",
      "Completed: 1000 iterations in 302.487561 seconds.\n",
      "Completed: 1000 iterations in 306.693234 seconds.\n",
      "Completed: 1000 iterations in 311.108525 seconds.\n",
      "Completed: 1000 iterations in 313.767776 seconds.\n",
      "Completed: 1000 iterations in 314.105441 seconds.\n",
      "Completed: 1000 iterations in 333.456297 seconds.\n",
      "Completed: 1000 iterations in 334.646916 seconds.\n",
      "Completed: 1000 iterations in 335.257082 seconds.\n",
      "Completed: 1000 iterations in 335.356465 seconds.\n",
      "Completed: 1000 iterations in 336.093149 seconds.\n",
      "Completed: 1000 iterations in 338.318810 seconds.\n",
      "Completed: 1000 iterations in 352.134670 seconds.\n",
      "Completed: 1000 iterations in 355.427392 seconds.\n",
      "Completed: 1000 iterations in 396.291123 seconds.\n",
      "elapsed = 780.634015083\n",
      "2\n",
      "Completed: 1000 iterations in 301.362084 seconds.\n",
      "Completed: 1000 iterations in 301.442522 seconds.\n",
      "Completed: 1000 iterations in 303.055501 seconds.\n",
      "Completed: 1000 iterations in 307.660724 seconds.\n",
      "Completed: 1000 iterations in 308.970698 seconds.\n",
      "Completed: 1000 iterations in 312.789163 seconds.\n",
      "Completed: 1000 iterations in 337.604617 seconds.\n",
      "Completed: 1000 iterations in 353.071961 seconds.\n",
      "Completed: 1000 iterations in 356.040221 seconds.\n",
      "Completed: 1000 iterations in 382.843867 seconds.\n",
      "elapsed = 1169.81117702\n",
      "3\n",
      "Completed: 1000 iterations in 269.305264 seconds.\n",
      "Completed: 1000 iterations in 300.619249 seconds.\n",
      "Completed: 1000 iterations in 311.557575 seconds.\n",
      "Completed: 1000 iterations in 330.075127 seconds.\n",
      "Completed: 1000 iterations in 330.076577 seconds.\n",
      "Completed: 1000 iterations in 330.787319 seconds.\n",
      "Completed: 1000 iterations in 330.885257 seconds.\n",
      "Completed: 1000 iterations in 333.142846 seconds.\n",
      "Completed: 1000 iterations in 333.621278 seconds.\n",
      "Completed: 1000 iterations in 334.067897 seconds.\n",
      "Completed: 1000 iterations in 337.217387 seconds.\n",
      "Completed: 1000 iterations in 352.655931 seconds.\n",
      "Completed: 1000 iterations in 358.006902 seconds.\n",
      "Completed: 1000 iterations in 378.888955 seconds.\n",
      "elapsed = 1555.30609512\n",
      "4\n",
      "Completed: 1000 iterations in 302.999087 seconds.\n",
      "Completed: 1000 iterations in 309.151352 seconds.\n",
      "Completed: 1000 iterations in 311.756427 seconds.\n",
      "Completed: 1000 iterations in 329.508481 seconds.\n",
      "Completed: 1000 iterations in 329.993597 seconds.\n",
      "Completed: 1000 iterations in 331.644899 seconds.\n",
      "Completed: 1000 iterations in 334.080914 seconds.\n",
      "Completed: 1000 iterations in 338.435620 seconds.\n",
      "Completed: 1000 iterations in 357.962210 seconds.\n",
      "Completed: 1000 iterations in 358.941601 seconds.\n",
      "Completed: 1000 iterations in 383.134233 seconds.\n",
      "elapsed = 1946.18740702\n"
     ]
    }
   ],
   "source": [
    "%multiprocess on\n",
    "import time\n",
    "\n",
    "start = time.time()\n",
    "for i in range(5):\n",
    "    print i\n",
    "    %mml ANALYZE \"ehr_schema\" FOR 1000 ITERATIONS WAIT (OPTIMIZED);\n",
    "    end = time.time()\n",
    "    print 'elapsed = %s' % (end-start)"
   ]
  },
  {
   "cell_type": "code",
   "execution_count": 46,
   "metadata": {},
   "outputs": [
    {
     "data": {
      "application/javascript": [
       "//   Copyright (c) 2010-2016, MIT Probabilistic Computing Project\n",
       "//\n",
       "//   Licensed under the Apache License, Version 2.0 (the \"License\");\n",
       "//   you may not use this file except in compliance with the License.\n",
       "//   You may obtain a copy of the License at\n",
       "//\n",
       "//       http://www.apache.org/licenses/LICENSE-2.0\n",
       "//\n",
       "//   Unless required by applicable law or agreed to in writing, software\n",
       "//   distributed under the License is distributed on an \"AS IS\" BASIS,\n",
       "//   WITHOUT WARRANTIES OR CONDITIONS OF ANY KIND, either express or implied.\n",
       "//   See the License for the specific language governing permissions and\n",
       "//   limitations under the License.\n",
       "\n",
       "\n",
       "function heatmap(df, labels) {\n",
       "  var myCell = element.is('.output_subarea') ? element : element.next();\n",
       "  if (typeof VizGPMReady === 'undefined') {\n",
       "    throw new Error('VizGPM Display Library not loaded')\n",
       "  }\n",
       "\n",
       "  if (df.columns.length !== 3) {\n",
       "    throw new Error('Must be 3 columns of data');\n",
       "  }\n",
       "\n",
       "  const toggleClass = (element, className, state) => {\n",
       "    element.classList[state ? 'add' : 'remove'](className)\n",
       "  }\n",
       "\n",
       "  // convert the data to an MI object for VizGPM\n",
       "  var associations = {}\n",
       "  const columns = new Set();\n",
       "  for (const [col0, col1, value] of df.data) {\n",
       "    columns.add(col0);\n",
       "    columns.add(col1);\n",
       "    if (!associations[col0]) {\n",
       "      associations[col0] = {}\n",
       "    }\n",
       "    associations[col0][col1] = value\n",
       "  }\n",
       "\n",
       "  function between(col1, col2) {\n",
       "    return associations[col1][col2]\n",
       "  }\n",
       "\n",
       "  // This is what VizGPM expects for the mutual info charts\n",
       "  var mi = { target: labels || [...columns], between: between }\n",
       "\n",
       "  var container = $('<div style=\"display: flex; flex-direction: row;\">')\n",
       "    .appendTo(myCell);\n",
       "\n",
       "  var depProbContainer = $('<div style=\"flex: 1 1 100%;\">').appendTo(container);\n",
       "  var columnListContainer = $('<div style=\"flex: 0 0 200px;\">').appendTo(container);\n",
       "\n",
       "  $(\"<style>.vizgpm-column-list .selected-columns-list .details{display: none !important;}</style>\").appendTo(container);\n",
       "\n",
       "  VizGPMReady.then(function(VizGPM) {\n",
       "    const _ = VizGPM._;\n",
       "\n",
       "    const SP = VizGPM.StateProperty\n",
       "\n",
       "    const schema = [...columns].map(name => ({name}));\n",
       "\n",
       "    var stateManager = new VizGPM.StateManager({\n",
       "      [SP.SCHEMA]: {columns: schema},\n",
       "      columns: [...columns],\n",
       "      [SP.SELECTED_COLUMN_NAMES]: [],\n",
       "      [SP.GET_COLUMN_FUNCTION]: col =>\n",
       "        VizGPM.GpmHandler.prototype._getColumn.call(stateManager, col),\n",
       "    });\n",
       "\n",
       "    // var debug = $('<pre>').appendTo(element);\n",
       "    // stateManager.subscribe(function(newState) {\n",
       "    //   const showState = Object.assign({}, newState.state);\n",
       "    //   delete showState.schema;\n",
       "    //   delete showState.rows;\n",
       "    //   debug.text(JSON.stringify(showState, false, '  '))\n",
       "    // })\n",
       "\n",
       "    const chart = new VizGPM.ZoomableColumnAssociation({\n",
       "      root: depProbContainer[0],\n",
       "      stateManager: stateManager,\n",
       "      // subgridClass: SingleSelectSubgrid,\n",
       "      associationFn: function() {\n",
       "        return mi\n",
       "      },\n",
       "      // subgridConfig: {\n",
       "        // cellSelectedFn: ({ xColumn, yColumn, selectedColumns: [x, y = x] = [] }) =>\n",
       "          // xColumn === x && yColumn === y,\n",
       "      // },\n",
       "      // miniMapConfig: {\n",
       "        // cellSelectedFn: ({ xColumn, yColumn, selectedColumns: [x, y = x] = [] }) =>\n",
       "          // xColumn === x || yColumn === y,\n",
       "      // },\n",
       "    })\n",
       "\n",
       "    const columnList = new VizGPM.UI.ColumnList({\n",
       "      root: columnListContainer[0],\n",
       "      stateManager,\n",
       "    })\n",
       "  })\n",
       "}\n",
       "heatmap({\"columns\":[\"name0\",\"name1\",\"value\"],\"index\":[0,1,2,3,4,5,6,7,8,9,10,11,12,13,14,15,16,17,18,19,20,21,22,23,24,25,26,27,28,29,30,31,32,33,34,35,36,37,38,39,40,41,42,43,44,45,46,47,48,49,50,51,52,53,54,55,56,57,58,59,60,61,62,63,64,65,66,67,68,69,70,71,72,73,74,75,76,77,78,79,80,81,82,83,84,85,86,87,88,89,90,91,92,93,94,95,96,97,98,99,100,101,102,103,104,105,106,107,108,109,110,111,112,113,114,115,116,117,118,119,120,121,122,123,124,125,126,127,128,129,130,131,132,133,134,135,136,137,138,139,140,141,142,143,144,145,146,147,148,149,150,151,152,153,154,155,156,157,158,159,160,161,162,163,164,165,166,167,168,169,170,171,172,173,174,175,176,177,178,179,180,181,182,183,184,185,186,187,188,189,190,191,192,193,194,195,196,197,198,199,200,201,202,203,204,205,206,207,208,209,210,211,212,213,214,215,216,217,218,219,220,221,222,223,224],\"data\":[[\"id\",\"id\",1.0],[\"id\",\"gender\",1.0],[\"id\",\"age_group\",1.0],[\"id\",\"encounter_id\",0.875],[\"id\",\"encounter_class\",0.78125],[\"id\",\"encounter_type\",0.78125],[\"id\",\"event_type\",0.84375],[\"id\",\"event_title\",0.84375],[\"id\",\"event_detail\",0.78125],[\"id\",\"event_year\",0.875],[\"id\",\"event_month\",0.875],[\"id\",\"start_day\",0.875],[\"id\",\"end_day\",0.875],[\"id\",\"duration_days\",0.625],[\"id\",\"location_map_id\",0.78125],[\"gender\",\"id\",1.0],[\"gender\",\"gender\",1.0],[\"gender\",\"age_group\",1.0],[\"gender\",\"encounter_id\",0.875],[\"gender\",\"encounter_class\",0.78125],[\"gender\",\"encounter_type\",0.78125],[\"gender\",\"event_type\",0.84375],[\"gender\",\"event_title\",0.84375],[\"gender\",\"event_detail\",0.78125],[\"gender\",\"event_year\",0.875],[\"gender\",\"event_month\",0.875],[\"gender\",\"start_day\",0.875],[\"gender\",\"end_day\",0.875],[\"gender\",\"duration_days\",0.625],[\"gender\",\"location_map_id\",0.78125],[\"age_group\",\"id\",1.0],[\"age_group\",\"gender\",1.0],[\"age_group\",\"age_group\",1.0],[\"age_group\",\"encounter_id\",0.875],[\"age_group\",\"encounter_class\",0.78125],[\"age_group\",\"encounter_type\",0.78125],[\"age_group\",\"event_type\",0.84375],[\"age_group\",\"event_title\",0.84375],[\"age_group\",\"event_detail\",0.78125],[\"age_group\",\"event_year\",0.875],[\"age_group\",\"event_month\",0.875],[\"age_group\",\"start_day\",0.875],[\"age_group\",\"end_day\",0.875],[\"age_group\",\"duration_days\",0.625],[\"age_group\",\"location_map_id\",0.78125],[\"encounter_id\",\"id\",0.875],[\"encounter_id\",\"gender\",0.875],[\"encounter_id\",\"age_group\",0.875],[\"encounter_id\",\"encounter_id\",1.0],[\"encounter_id\",\"encounter_class\",0.90625],[\"encounter_id\",\"encounter_type\",0.90625],[\"encounter_id\",\"event_type\",0.96875],[\"encounter_id\",\"event_title\",0.96875],[\"encounter_id\",\"event_detail\",0.90625],[\"encounter_id\",\"event_year\",1.0],[\"encounter_id\",\"event_month\",1.0],[\"encounter_id\",\"start_day\",1.0],[\"encounter_id\",\"end_day\",1.0],[\"encounter_id\",\"duration_days\",0.65625],[\"encounter_id\",\"location_map_id\",0.90625],[\"encounter_class\",\"id\",0.78125],[\"encounter_class\",\"gender\",0.78125],[\"encounter_class\",\"age_group\",0.78125],[\"encounter_class\",\"encounter_id\",0.90625],[\"encounter_class\",\"encounter_class\",1.0],[\"encounter_class\",\"encounter_type\",1.0],[\"encounter_class\",\"event_type\",0.9375],[\"encounter_class\",\"event_title\",0.9375],[\"encounter_class\",\"event_detail\",1.0],[\"encounter_class\",\"event_year\",0.90625],[\"encounter_class\",\"event_month\",0.90625],[\"encounter_class\",\"start_day\",0.90625],[\"encounter_class\",\"end_day\",0.90625],[\"encounter_class\",\"duration_days\",0.75],[\"encounter_class\",\"location_map_id\",1.0],[\"encounter_type\",\"id\",0.78125],[\"encounter_type\",\"gender\",0.78125],[\"encounter_type\",\"age_group\",0.78125],[\"encounter_type\",\"encounter_id\",0.90625],[\"encounter_type\",\"encounter_class\",1.0],[\"encounter_type\",\"encounter_type\",1.0],[\"encounter_type\",\"event_type\",0.9375],[\"encounter_type\",\"event_title\",0.9375],[\"encounter_type\",\"event_detail\",1.0],[\"encounter_type\",\"event_year\",0.90625],[\"encounter_type\",\"event_month\",0.90625],[\"encounter_type\",\"start_day\",0.90625],[\"encounter_type\",\"end_day\",0.90625],[\"encounter_type\",\"duration_days\",0.75],[\"encounter_type\",\"location_map_id\",1.0],[\"event_type\",\"id\",0.84375],[\"event_type\",\"gender\",0.84375],[\"event_type\",\"age_group\",0.84375],[\"event_type\",\"encounter_id\",0.96875],[\"event_type\",\"encounter_class\",0.9375],[\"event_type\",\"encounter_type\",0.9375],[\"event_type\",\"event_type\",1.0],[\"event_type\",\"event_title\",1.0],[\"event_type\",\"event_detail\",0.9375],[\"event_type\",\"event_year\",0.96875],[\"event_type\",\"event_month\",0.96875],[\"event_type\",\"start_day\",0.96875],[\"event_type\",\"end_day\",0.96875],[\"event_type\",\"duration_days\",0.6875],[\"event_type\",\"location_map_id\",0.9375],[\"event_title\",\"id\",0.84375],[\"event_title\",\"gender\",0.84375],[\"event_title\",\"age_group\",0.84375],[\"event_title\",\"encounter_id\",0.96875],[\"event_title\",\"encounter_class\",0.9375],[\"event_title\",\"encounter_type\",0.9375],[\"event_title\",\"event_type\",1.0],[\"event_title\",\"event_title\",1.0],[\"event_title\",\"event_detail\",0.9375],[\"event_title\",\"event_year\",0.96875],[\"event_title\",\"event_month\",0.96875],[\"event_title\",\"start_day\",0.96875],[\"event_title\",\"end_day\",0.96875],[\"event_title\",\"duration_days\",0.6875],[\"event_title\",\"location_map_id\",0.9375],[\"event_detail\",\"id\",0.78125],[\"event_detail\",\"gender\",0.78125],[\"event_detail\",\"age_group\",0.78125],[\"event_detail\",\"encounter_id\",0.90625],[\"event_detail\",\"encounter_class\",1.0],[\"event_detail\",\"encounter_type\",1.0],[\"event_detail\",\"event_type\",0.9375],[\"event_detail\",\"event_title\",0.9375],[\"event_detail\",\"event_detail\",1.0],[\"event_detail\",\"event_year\",0.90625],[\"event_detail\",\"event_month\",0.90625],[\"event_detail\",\"start_day\",0.90625],[\"event_detail\",\"end_day\",0.90625],[\"event_detail\",\"duration_days\",0.75],[\"event_detail\",\"location_map_id\",1.0],[\"event_year\",\"id\",0.875],[\"event_year\",\"gender\",0.875],[\"event_year\",\"age_group\",0.875],[\"event_year\",\"encounter_id\",1.0],[\"event_year\",\"encounter_class\",0.90625],[\"event_year\",\"encounter_type\",0.90625],[\"event_year\",\"event_type\",0.96875],[\"event_year\",\"event_title\",0.96875],[\"event_year\",\"event_detail\",0.90625],[\"event_year\",\"event_year\",1.0],[\"event_year\",\"event_month\",1.0],[\"event_year\",\"start_day\",1.0],[\"event_year\",\"end_day\",1.0],[\"event_year\",\"duration_days\",0.65625],[\"event_year\",\"location_map_id\",0.90625],[\"event_month\",\"id\",0.875],[\"event_month\",\"gender\",0.875],[\"event_month\",\"age_group\",0.875],[\"event_month\",\"encounter_id\",1.0],[\"event_month\",\"encounter_class\",0.90625],[\"event_month\",\"encounter_type\",0.90625],[\"event_month\",\"event_type\",0.96875],[\"event_month\",\"event_title\",0.96875],[\"event_month\",\"event_detail\",0.90625],[\"event_month\",\"event_year\",1.0],[\"event_month\",\"event_month\",1.0],[\"event_month\",\"start_day\",1.0],[\"event_month\",\"end_day\",1.0],[\"event_month\",\"duration_days\",0.65625],[\"event_month\",\"location_map_id\",0.90625],[\"start_day\",\"id\",0.875],[\"start_day\",\"gender\",0.875],[\"start_day\",\"age_group\",0.875],[\"start_day\",\"encounter_id\",1.0],[\"start_day\",\"encounter_class\",0.90625],[\"start_day\",\"encounter_type\",0.90625],[\"start_day\",\"event_type\",0.96875],[\"start_day\",\"event_title\",0.96875],[\"start_day\",\"event_detail\",0.90625],[\"start_day\",\"event_year\",1.0],[\"start_day\",\"event_month\",1.0],[\"start_day\",\"start_day\",1.0],[\"start_day\",\"end_day\",1.0],[\"start_day\",\"duration_days\",0.65625],[\"start_day\",\"location_map_id\",0.90625],[\"end_day\",\"id\",0.875],[\"end_day\",\"gender\",0.875],[\"end_day\",\"age_group\",0.875],[\"end_day\",\"encounter_id\",1.0],[\"end_day\",\"encounter_class\",0.90625],[\"end_day\",\"encounter_type\",0.90625],[\"end_day\",\"event_type\",0.96875],[\"end_day\",\"event_title\",0.96875],[\"end_day\",\"event_detail\",0.90625],[\"end_day\",\"event_year\",1.0],[\"end_day\",\"event_month\",1.0],[\"end_day\",\"start_day\",1.0],[\"end_day\",\"end_day\",1.0],[\"end_day\",\"duration_days\",0.65625],[\"end_day\",\"location_map_id\",0.90625],[\"duration_days\",\"id\",0.625],[\"duration_days\",\"gender\",0.625],[\"duration_days\",\"age_group\",0.625],[\"duration_days\",\"encounter_id\",0.65625],[\"duration_days\",\"encounter_class\",0.75],[\"duration_days\",\"encounter_type\",0.75],[\"duration_days\",\"event_type\",0.6875],[\"duration_days\",\"event_title\",0.6875],[\"duration_days\",\"event_detail\",0.75],[\"duration_days\",\"event_year\",0.65625],[\"duration_days\",\"event_month\",0.65625],[\"duration_days\",\"start_day\",0.65625],[\"duration_days\",\"end_day\",0.65625],[\"duration_days\",\"duration_days\",1.0],[\"duration_days\",\"location_map_id\",0.75],[\"location_map_id\",\"id\",0.78125],[\"location_map_id\",\"gender\",0.78125],[\"location_map_id\",\"age_group\",0.78125],[\"location_map_id\",\"encounter_id\",0.90625],[\"location_map_id\",\"encounter_class\",1.0],[\"location_map_id\",\"encounter_type\",1.0],[\"location_map_id\",\"event_type\",0.9375],[\"location_map_id\",\"event_title\",0.9375],[\"location_map_id\",\"event_detail\",1.0],[\"location_map_id\",\"event_year\",0.90625],[\"location_map_id\",\"event_month\",0.90625],[\"location_map_id\",\"start_day\",0.90625],[\"location_map_id\",\"end_day\",0.90625],[\"location_map_id\",\"duration_days\",0.75],[\"location_map_id\",\"location_map_id\",1.0]]},[\"duration_days\", \"id\", \"age_group\", \"gender\", \"location_map_id\", \"event_detail\", \"encounter_class\", \"encounter_type\", \"event_title\", \"event_type\", \"start_day\", \"event_year\", \"event_month\", \"encounter_id\", \"end_day\"])"
      ],
      "text/plain": [
       "<IPython.core.display.Javascript object>"
      ]
     },
     "execution_count": 46,
     "metadata": {},
     "output_type": "execute_result"
    }
   ],
   "source": [
    "%bql .interactive_heatmap ESTIMATE DEPENDENCE PROBABILITY FROM PAIRWISE VARIABLES OF ehr_population;"
   ]
  },
  {
   "cell_type": "code",
   "execution_count": 47,
   "metadata": {},
   "outputs": [
    {
     "data": {
      "image/png": "[encoded data removed]",
      "text/plain": [
       "<matplotlib.figure.Figure at 0x7fb938029550>"
      ]
     },
     "metadata": {},
     "output_type": "display_data"
    }
   ],
   "source": [
    "%mml .render_crosscat \\\n",
    "    --subsample=50\\\n",
    "    ehr_schema 0"
   ]
  },
  {
   "cell_type": "markdown",
   "metadata": {},
   "source": [
    "## SIMULATE"
   ]
  },
  {
   "cell_type": "code",
   "execution_count": 48,
   "metadata": {},
   "outputs": [
    {
     "data": {
      "text/html": [
       "<div>\n",
       "<table border=\"1\" class=\"dataframe\">\n",
       "  <thead>\n",
       "    <tr style=\"text-align: right;\">\n",
       "      <th></th>\n",
       "      <th>id</th>\n",
       "      <th>gender</th>\n",
       "      <th>age_group</th>\n",
       "      <th>encounter_id</th>\n",
       "      <th>encounter_class</th>\n",
       "      <th>encounter_type</th>\n",
       "      <th>event_type</th>\n",
       "      <th>event_title</th>\n",
       "      <th>event_detail</th>\n",
       "      <th>event_year</th>\n",
       "      <th>event_month</th>\n",
       "      <th>start_day</th>\n",
       "      <th>end_day</th>\n",
       "      <th>duration_days</th>\n",
       "      <th>location_map_id</th>\n",
       "    </tr>\n",
       "  </thead>\n",
       "  <tbody>\n",
       "    <tr>\n",
       "      <th>0</th>\n",
       "      <td>1AB5C92</td>\n",
       "      <td>Female</td>\n",
       "      <td>25 - 29</td>\n",
       "      <td>42230255</td>\n",
       "      <td>Inpatient</td>\n",
       "      <td>Inpatient Acute</td>\n",
       "      <td>Encounter Only</td>\n",
       "      <td>Child, Youth &amp; Family</td>\n",
       "      <td>Maternity</td>\n",
       "      <td>2013</td>\n",
       "      <td>1</td>\n",
       "      <td>660</td>\n",
       "      <td>662</td>\n",
       "      <td>2</td>\n",
       "      <td>1673</td>\n",
       "    </tr>\n",
       "  </tbody>\n",
       "</table>\n",
       "</div>"
      ],
      "text/plain": [
       "        id  gender age_group  encounter_id encounter_class   encounter_type  \\\n",
       "0  1AB5C92  Female   25 - 29      42230255       Inpatient  Inpatient Acute   \n",
       "\n",
       "       event_type            event_title event_detail  event_year  \\\n",
       "0  Encounter Only  Child, Youth & Family    Maternity        2013   \n",
       "\n",
       "   event_month  start_day  end_day  duration_days  location_map_id  \n",
       "0            1        660      662              2             1673  "
      ]
     },
     "execution_count": 48,
     "metadata": {},
     "output_type": "execute_result"
    }
   ],
   "source": [
    "%bql ESTIMATE * FROM ehr_population LIMIT 1"
   ]
  },
  {
   "cell_type": "code",
   "execution_count": 49,
   "metadata": {},
   "outputs": [
    {
     "name": "stdout",
     "output_type": "stream",
     "text": [
      "\"start_day\", \"encounter_class\", \"event_title\", \"gender\", \"event_year\", \"id\", \"event_detail\", \"age_group\", \"end_day\", \"encounter_type\", \"location_map_id\", \"duration_days\", \"event_month\", \"encounter_id\", \"event_type\"\n"
     ]
    }
   ],
   "source": [
    "df = %bql ESTIMATE * FROM ehr_population LIMIT 1\n",
    "column_names_to_simulate = ', '.join(['\"%s\"' % s for s in list(set(df.columns.values) - set(['event_start_date', 'event_end_date']))])\n",
    "print column_names_to_simulate"
   ]
  },
  {
   "cell_type": "code",
   "execution_count": 50,
   "metadata": {},
   "outputs": [
    {
     "name": "stderr",
     "output_type": "stream",
     "text": [
      "Name already defined as table: 'simulated_data'\n"
     ]
    }
   ],
   "source": [
    "%bql CREATE TABLE simulated_data AS SIMULATE {column_names_to_simulate} FROM ehr_population LIMIT 325"
   ]
  },
  {
   "cell_type": "code",
   "execution_count": 51,
   "metadata": {},
   "outputs": [
    {
     "data": {
      "text/html": [
       "<div>\n",
       "<table border=\"1\" class=\"dataframe\">\n",
       "  <thead>\n",
       "    <tr style=\"text-align: right;\">\n",
       "      <th></th>\n",
       "      <th>start_day</th>\n",
       "      <th>encounter_class</th>\n",
       "      <th>event_title</th>\n",
       "      <th>gender</th>\n",
       "      <th>event_year</th>\n",
       "      <th>id</th>\n",
       "      <th>event_detail</th>\n",
       "      <th>age_group</th>\n",
       "      <th>end_day</th>\n",
       "      <th>encounter_type</th>\n",
       "      <th>location_map_id</th>\n",
       "      <th>duration_days</th>\n",
       "      <th>event_month</th>\n",
       "      <th>encounter_id</th>\n",
       "      <th>event_type</th>\n",
       "    </tr>\n",
       "  </thead>\n",
       "  <tbody>\n",
       "    <tr>\n",
       "      <th>0</th>\n",
       "      <td>3207.980434</td>\n",
       "      <td>Inpatient</td>\n",
       "      <td>NA</td>\n",
       "      <td>Male</td>\n",
       "      <td>2016</td>\n",
       "      <td>DC2302</td>\n",
       "      <td>XR Chest 2 Views</td>\n",
       "      <td>45 - 49</td>\n",
       "      <td>1907.169806</td>\n",
       "      <td>Emergency</td>\n",
       "      <td>1631</td>\n",
       "      <td>-3.589642</td>\n",
       "      <td>10</td>\n",
       "      <td>87256532</td>\n",
       "      <td>General Lab</td>\n",
       "    </tr>\n",
       "    <tr>\n",
       "      <th>1</th>\n",
       "      <td>1298.717220</td>\n",
       "      <td>Inpatient</td>\n",
       "      <td>Mental Health</td>\n",
       "      <td>Female</td>\n",
       "      <td>2013</td>\n",
       "      <td>2D98203</td>\n",
       "      <td>Adult Psychiatry</td>\n",
       "      <td>35 - 39</td>\n",
       "      <td>1692.194521</td>\n",
       "      <td>Open Encounter</td>\n",
       "      <td>1612</td>\n",
       "      <td>6.562788</td>\n",
       "      <td>10</td>\n",
       "      <td>29904969</td>\n",
       "      <td>Encounter Only</td>\n",
       "    </tr>\n",
       "    <tr>\n",
       "      <th>2</th>\n",
       "      <td>523.655585</td>\n",
       "      <td>Inpatient</td>\n",
       "      <td>Mental Health</td>\n",
       "      <td>Female</td>\n",
       "      <td>2013</td>\n",
       "      <td>2D98203</td>\n",
       "      <td>Hepatitis C Antibody</td>\n",
       "      <td>35 - 39</td>\n",
       "      <td>1465.536749</td>\n",
       "      <td>MHAS - Acute Care</td>\n",
       "      <td>167</td>\n",
       "      <td>15.021638</td>\n",
       "      <td>11</td>\n",
       "      <td>25603783</td>\n",
       "      <td>Encounter Only</td>\n",
       "    </tr>\n",
       "    <tr>\n",
       "      <th>3</th>\n",
       "      <td>1527.423947</td>\n",
       "      <td>Outpatient</td>\n",
       "      <td>NA</td>\n",
       "      <td>Female</td>\n",
       "      <td>2017</td>\n",
       "      <td>2D98203</td>\n",
       "      <td>Chem 7 Hem Careset</td>\n",
       "      <td>35 - 39</td>\n",
       "      <td>785.797991</td>\n",
       "      <td>Emergency</td>\n",
       "      <td>1448</td>\n",
       "      <td>22.589584</td>\n",
       "      <td>1</td>\n",
       "      <td>19902049</td>\n",
       "      <td>General Lab</td>\n",
       "    </tr>\n",
       "    <tr>\n",
       "      <th>4</th>\n",
       "      <td>243.595179</td>\n",
       "      <td>Emergency</td>\n",
       "      <td>NA</td>\n",
       "      <td>Male</td>\n",
       "      <td>2014</td>\n",
       "      <td>7C1DB2</td>\n",
       "      <td>Complete Blood Count and Differential</td>\n",
       "      <td>45 - 49</td>\n",
       "      <td>2122.915602</td>\n",
       "      <td>Emergency</td>\n",
       "      <td>876</td>\n",
       "      <td>-21.057323</td>\n",
       "      <td>6</td>\n",
       "      <td>39815674</td>\n",
       "      <td>Micro</td>\n",
       "    </tr>\n",
       "    <tr>\n",
       "      <th>5</th>\n",
       "      <td>1310.330529</td>\n",
       "      <td>Emergency</td>\n",
       "      <td>NA</td>\n",
       "      <td>Female</td>\n",
       "      <td>2012</td>\n",
       "      <td>2D98203</td>\n",
       "      <td>NA</td>\n",
       "      <td>35 - 39</td>\n",
       "      <td>1665.476151</td>\n",
       "      <td>Emergency</td>\n",
       "      <td>876</td>\n",
       "      <td>30.034807</td>\n",
       "      <td>10</td>\n",
       "      <td>25631963</td>\n",
       "      <td>Encounter Only</td>\n",
       "    </tr>\n",
       "    <tr>\n",
       "      <th>6</th>\n",
       "      <td>1446.644572</td>\n",
       "      <td>Inpatient</td>\n",
       "      <td>Laboratory</td>\n",
       "      <td>Male</td>\n",
       "      <td>2016</td>\n",
       "      <td>C9B9133</td>\n",
       "      <td>HH ECG Electrocardiogram</td>\n",
       "      <td>45 - 49</td>\n",
       "      <td>2393.367883</td>\n",
       "      <td>MHAS - Residential</td>\n",
       "      <td>934</td>\n",
       "      <td>9.567756</td>\n",
       "      <td>6</td>\n",
       "      <td>89300625</td>\n",
       "      <td>General Lab</td>\n",
       "    </tr>\n",
       "    <tr>\n",
       "      <th>7</th>\n",
       "      <td>1718.767185</td>\n",
       "      <td>Emergency</td>\n",
       "      <td>NA</td>\n",
       "      <td>Male</td>\n",
       "      <td>2015</td>\n",
       "      <td>102DBC2</td>\n",
       "      <td>NA</td>\n",
       "      <td>35 - 39</td>\n",
       "      <td>249.095803</td>\n",
       "      <td>Recurring/Series</td>\n",
       "      <td>1264</td>\n",
       "      <td>-0.016521</td>\n",
       "      <td>8</td>\n",
       "      <td>37587106</td>\n",
       "      <td>Encounter Only</td>\n",
       "    </tr>\n",
       "    <tr>\n",
       "      <th>8</th>\n",
       "      <td>1014.865136</td>\n",
       "      <td>Inpatient</td>\n",
       "      <td>Mental Health</td>\n",
       "      <td>Female</td>\n",
       "      <td>2015</td>\n",
       "      <td>1AB5C92</td>\n",
       "      <td>CT Wrist w/o Contrast Left</td>\n",
       "      <td>35 - 39</td>\n",
       "      <td>2398.150131</td>\n",
       "      <td>Open Encounter</td>\n",
       "      <td>1499</td>\n",
       "      <td>3.051932</td>\n",
       "      <td>7</td>\n",
       "      <td>91843985</td>\n",
       "      <td>Encounter Only</td>\n",
       "    </tr>\n",
       "    <tr>\n",
       "      <th>9</th>\n",
       "      <td>87.219233</td>\n",
       "      <td>Inpatient</td>\n",
       "      <td>Mental Health</td>\n",
       "      <td>Male</td>\n",
       "      <td>2011</td>\n",
       "      <td>2D98203</td>\n",
       "      <td>Adult Psychiatry</td>\n",
       "      <td>35 - 39</td>\n",
       "      <td>817.015229</td>\n",
       "      <td>MHAS - Residential</td>\n",
       "      <td>844</td>\n",
       "      <td>38.759697</td>\n",
       "      <td>4</td>\n",
       "      <td>34221331</td>\n",
       "      <td>Encounter Only</td>\n",
       "    </tr>\n",
       "  </tbody>\n",
       "</table>\n",
       "</div>"
      ],
      "text/plain": [
       "     start_day encounter_class    event_title  gender  event_year       id  \\\n",
       "0  3207.980434       Inpatient             NA    Male        2016   DC2302   \n",
       "1  1298.717220       Inpatient  Mental Health  Female        2013  2D98203   \n",
       "2   523.655585       Inpatient  Mental Health  Female        2013  2D98203   \n",
       "3  1527.423947      Outpatient             NA  Female        2017  2D98203   \n",
       "4   243.595179       Emergency             NA    Male        2014   7C1DB2   \n",
       "5  1310.330529       Emergency             NA  Female        2012  2D98203   \n",
       "6  1446.644572       Inpatient     Laboratory    Male        2016  C9B9133   \n",
       "7  1718.767185       Emergency             NA    Male        2015  102DBC2   \n",
       "8  1014.865136       Inpatient  Mental Health  Female        2015  1AB5C92   \n",
       "9    87.219233       Inpatient  Mental Health    Male        2011  2D98203   \n",
       "\n",
       "                            event_detail age_group      end_day  \\\n",
       "0                       XR Chest 2 Views   45 - 49  1907.169806   \n",
       "1                       Adult Psychiatry   35 - 39  1692.194521   \n",
       "2                   Hepatitis C Antibody   35 - 39  1465.536749   \n",
       "3                     Chem 7 Hem Careset   35 - 39   785.797991   \n",
       "4  Complete Blood Count and Differential   45 - 49  2122.915602   \n",
       "5                                     NA   35 - 39  1665.476151   \n",
       "6               HH ECG Electrocardiogram   45 - 49  2393.367883   \n",
       "7                                     NA   35 - 39   249.095803   \n",
       "8             CT Wrist w/o Contrast Left   35 - 39  2398.150131   \n",
       "9                       Adult Psychiatry   35 - 39   817.015229   \n",
       "\n",
       "       encounter_type  location_map_id  duration_days  event_month  \\\n",
       "0           Emergency             1631      -3.589642           10   \n",
       "1      Open Encounter             1612       6.562788           10   \n",
       "2   MHAS - Acute Care              167      15.021638           11   \n",
       "3           Emergency             1448      22.589584            1   \n",
       "4           Emergency              876     -21.057323            6   \n",
       "5           Emergency              876      30.034807           10   \n",
       "6  MHAS - Residential              934       9.567756            6   \n",
       "7    Recurring/Series             1264      -0.016521            8   \n",
       "8      Open Encounter             1499       3.051932            7   \n",
       "9  MHAS - Residential              844      38.759697            4   \n",
       "\n",
       "   encounter_id      event_type  \n",
       "0      87256532     General Lab  \n",
       "1      29904969  Encounter Only  \n",
       "2      25603783  Encounter Only  \n",
       "3      19902049     General Lab  \n",
       "4      39815674           Micro  \n",
       "5      25631963  Encounter Only  \n",
       "6      89300625     General Lab  \n",
       "7      37587106  Encounter Only  \n",
       "8      91843985  Encounter Only  \n",
       "9      34221331  Encounter Only  "
      ]
     },
     "execution_count": 51,
     "metadata": {},
     "output_type": "execute_result"
    }
   ],
   "source": [
    "%sql SELECT * FROM simulated_data LIMIT 10"
   ]
  },
  {
   "cell_type": "code",
   "execution_count": 52,
   "metadata": {
    "collapsed": true
   },
   "outputs": [],
   "source": [
    "import pandas as pd\n",
    "df = %sql SELECT * FROM simulated_data\n",
    "df.to_csv('simulation_results2.csv', index=False)"
   ]
  },
  {
   "cell_type": "markdown",
   "metadata": {},
   "source": [
    "## SELECT vs SIMULATE"
   ]
  },
  {
   "cell_type": "code",
   "execution_count": 53,
   "metadata": {},
   "outputs": [
    {
     "data": {
      "text/plain": [
       "(-500, 500)"
      ]
     },
     "execution_count": 53,
     "metadata": {},
     "output_type": "execute_result"
    },
    {
     "data": {
      "image/png": "[encoded data removed]",
      "text/plain": [
       "<matplotlib.figure.Figure at 0x7fb937c27690>"
      ]
     },
     "metadata": {},
     "output_type": "display_data"
    }
   ],
   "source": [
    "df = %bql SELECT end_day-start_day FROM ds\n",
    "plt = df.plot.hist(bins=100)\n",
    "plt.set_xlim([-500, 500])"
   ]
  },
  {
   "cell_type": "code",
   "execution_count": 54,
   "metadata": {},
   "outputs": [
    {
     "data": {
      "text/plain": [
       "(-500, 500)"
      ]
     },
     "execution_count": 54,
     "metadata": {},
     "output_type": "execute_result"
    },
    {
     "data": {
      "image/png": "[encoded data removed]",
      "text/plain": [
       "<matplotlib.figure.Figure at 0x7fb9384ec810>"
      ]
     },
     "metadata": {},
     "output_type": "display_data"
    }
   ],
   "source": [
    "df = %bql SELECT end_day-start_day FROM simulated_data\n",
    "plt = df.plot.hist(bins=100)\n",
    "plt.set_xlim([-500, 500])"
   ]
  },
  {
   "cell_type": "code",
   "execution_count": 70,
   "metadata": {
    "scrolled": false
   },
   "outputs": [
    {
     "data": {
      "application/javascript": [
       "function pairplot(df, schema) {\n",
       "  var myCell = element.is('.output_subarea') ? element : element.next();\n",
       "  if (typeof VizGPMReady === 'undefined') {\n",
       "    throw new Error('VizGPM Display Library not loaded')\n",
       "  }\n",
       "\n",
       "  var container = $('<div>')\n",
       "    .appendTo(myCell);\n",
       "\n",
       "  VizGPMReady.then(function(VizGPM) {\n",
       "    const _ = VizGPM._;\n",
       "\n",
       "    const SP = VizGPM.StateProperty\n",
       "\n",
       "    for (const col of schema) {\n",
       "      if (col.stat_type == 'numerical') {\n",
       "        col.stat_type = 'realAdditive';\n",
       "      }\n",
       "\n",
       "      if (col.stat_type == 'nominal') {\n",
       "        col.stat_type = 'categorical';\n",
       "      }\n",
       "    }\n",
       "\n",
       "    function rowProxy(__key) {\n",
       "      const obj = {__key};\n",
       "      for (const column of df.columns) {\n",
       "        obj[column] = df.data[__key].shift();\n",
       "      }\n",
       "      return obj;\n",
       "    }\n",
       "\n",
       "    const rows = [];\n",
       "    for(let index = 0; index < df.data.length; index++) {\n",
       "      rows.push(rowProxy(index));\n",
       "    }\n",
       "\n",
       "    var stateManager = new VizGPM.StateManager({\n",
       "      [SP.SCHEMA]: {columns: schema},\n",
       "      [SP.SELECTED_COLUMN_NAMES]: df.columns,\n",
       "      [SP.GET_COLUMN_FUNCTION]: col =>\n",
       "        VizGPM.GpmHandler.prototype._getColumn.call(stateManager, col),\n",
       "      [SP.DISPLAYED_ROWS]: rows,\n",
       "    });\n",
       "\n",
       "    const plot = new VizGPM.PairPlot({\n",
       "      root: container[0],\n",
       "      stateManager: stateManager,\n",
       "    });\n",
       "  })\n",
       "}\n",
       ";pairplot({\"columns\":[\"event_year\",\"event_month\",\"end_day\",\"start_day\"],\"index\":[0,1,2,3,4,5,6,7,8,9,10,11,12,13,14,15,16,17,18,19,20,21,22,23,24,25,26,27,28,29,30,31,32,33,34,35,36,37,38,39,40,41,42,43,44,45,46,47,48,49,50,51,52,53,54,55,56,57,58,59,60,61,62,63,64,65,66,67,68,69,70,71,72,73,74,75,76,77,78,79,80,81,82,83,84,85,86,87,88,89,90,91,92,93,94,95,96,97,98,99,100,101,102,103,104,105,106,107,108,109,110,111,112,113,114,115,116,117,118,119,120,121,122,123,124,125,126,127,128,129,130,131,132,133,134,135,136,137,138,139,140,141,142,143,144,145,146,147,148,149,150,151,152,153,154,155,156,157,158,159,160,161,162,163,164,165,166,167,168,169,170,171,172,173,174,175,176,177,178,179,180,181,182,183,184,185,186,187,188,189,190,191,192,193,194,195,196,197,198,199,200,201,202,203,204,205,206,207,208,209,210,211,212,213,214,215,216,217,218,219,220,221,222,223,224,225,226,227,228,229,230,231,232,233,234,235,236,237,238,239,240,241,242,243,244,245,246,247,248,249,250,251,252,253,254,255,256,257,258,259,260,261,262,263,264,265,266,267,268,269,270,271,272,273,274,275,276,277,278,279,280,281,282,283,284,285,286,287,288,289,290,291,292,293,294,295,296,297,298,299,300,301,302,303,304,305,306,307,308,309,310,311,312,313,314,315,316,317,318,319,320,321,322,323,324],\"data\":[[2013.0,1.0,662.0,660.0],[2015.0,12.0,1614.0,1594.0],[2011.0,6.0,48.0,31.0],[2016.0,5.0,165.0,11.0],[2009.0,7.0,810.0,0.0],[2015.0,6.0,1523.0,1517.0],[2014.0,10.0,1298.0,1298.0],[2011.0,12.0,132.0,132.0],[2012.0,4.0,144.0,144.0],[2013.0,6.0,677.0,670.0],[2012.0,9.0,271.0,263.0],[2017.0,4.0,1792.0,1757.0],[2013.0,11.0,843.0,843.0],[2014.0,7.0,469.0,468.0],[2013.0,4.0,740.0,739.0],[2017.0,3.0,689.0,688.0],[2012.0,6.0,1137.0,1136.0],[2014.0,5.0,180.0,179.0],[2014.0,3.0,1015.0,1014.0],[2012.0,9.0,534.0,534.0],[2012.0,7.0,298.0,297.0],[2013.0,6.0,658.0,657.0],[2012.0,2.0,175.0,175.0],[2016.0,12.0,1900.0,1899.0],[2015.0,10.0,984.0,983.0],[2016.0,6.0,1703.0,1702.0],[2012.0,10.0,451.0,450.0],[2013.0,4.0,3102.0,3102.0],[2011.0,10.0,207.0,206.0],[2014.0,8.0,1218.0,1217.0],[2012.0,8.0,461.0,461.0],[2012.0,9.0,517.0,517.0],[2012.0,12.0,563.0,563.0],[2015.0,4.0,1324.0,1324.0],[2016.0,8.0,3136.0,2869.0],[2016.0,3.0,1792.0,1792.0],[2016.0,3.0,1792.0,1792.0],[2016.0,3.0,1792.0,1792.0],[2016.0,3.0,1792.0,1792.0],[2016.0,3.0,1800.0,1793.0],[2016.0,3.0,1793.0,1792.0],[2016.0,3.0,1793.0,1792.0],[2016.0,3.0,1792.0,1792.0],[2016.0,3.0,1792.0,1792.0],[2016.0,3.0,1792.0,1792.0],[2016.0,3.0,1792.0,1792.0],[2016.0,3.0,1793.0,1793.0],[2016.0,3.0,1792.0,1792.0],[2016.0,3.0,1792.0,1792.0],[2016.0,3.0,1792.0,1792.0],[2016.0,3.0,1792.0,1792.0],[2016.0,3.0,1793.0,1793.0],[2016.0,3.0,1793.0,1793.0],[2016.0,3.0,1793.0,1793.0],[2016.0,3.0,1793.0,1793.0],[2016.0,3.0,1793.0,1792.0],[2014.0,10.0,881.0,881.0],[2016.0,10.0,386.0,384.0],[2013.0,2.0,611.0,611.0],[2014.0,7.0,1353.0,1353.0],[2016.0,8.0,1484.0,1484.0],[2014.0,7.0,889.0,889.0],[2014.0,2.0,2626.0,1435.0],[2013.0,4.0,799.0,301.0],[2015.0,12.0,787.0,787.0],[2011.0,6.0,70.0,70.0],[2012.0,2.0,460.0,460.0],[2013.0,6.0,607.0,607.0],[2014.0,4.0,1053.0,1053.0],[2014.0,6.0,1127.0,1126.0],[2012.0,11.0,591.0,591.0],[2012.0,9.0,527.0,527.0],[2014.0,3.0,575.0,574.0],[2017.0,4.0,2711.0,2711.0],[2015.0,6.0,1490.0,1489.0],[2013.0,11.0,894.0,893.0],[2014.0,5.0,1120.0,1120.0],[2014.0,10.0,1285.0,1285.0],[2017.0,4.0,2013.0,2012.0],[2015.0,7.0,1380.0,1380.0],[2016.0,8.0,1867.0,1866.0],[2013.0,3.0,732.0,731.0],[2017.0,4.0,2194.0,2193.0],[2012.0,10.0,2178.0,498.0],[2014.0,1.0,871.0,871.0],[2015.0,10.0,2073.0,2073.0],[2014.0,11.0,1271.0,1271.0],[2013.0,12.0,1840.0,1839.0],[2011.0,12.0,0.0,0.0],[2014.0,4.0,1061.0,1061.0],[2017.0,4.0,1760.0,1760.0],[2011.0,12.0,142.0,142.0],[2014.0,2.0,1667.0,1471.0],[2015.0,12.0,2352.0,2324.0],[2011.0,2.0,63.0,0.0],[2012.0,11.0,560.0,500.0],[2015.0,10.0,1562.0,1562.0],[2012.0,5.0,381.0,381.0],[2016.0,6.0,1814.0,1813.0],[2016.0,8.0,2162.0,2162.0],[2014.0,8.0,924.0,924.0],[2014.0,1.0,1080.0,1079.0],[2016.0,6.0,2069.0,2068.0],[2016.0,6.0,2069.0,2068.0],[2016.0,6.0,2069.0,2068.0],[2016.0,6.0,2069.0,2068.0],[2016.0,6.0,2068.0,2068.0],[2016.0,6.0,2069.0,2068.0],[2016.0,6.0,2069.0,2069.0],[2017.0,1.0,1492.0,1492.0],[2017.0,1.0,1492.0,1492.0],[2017.0,1.0,1492.0,1492.0],[2017.0,1.0,1492.0,1492.0],[2017.0,1.0,1492.0,1492.0],[2017.0,1.0,1491.0,1491.0],[2017.0,1.0,1491.0,1491.0],[2017.0,1.0,1492.0,1492.0],[2017.0,1.0,1492.0,1492.0],[2017.0,1.0,1491.0,1491.0],[2017.0,1.0,1491.0,1491.0],[2017.0,1.0,1492.0,1492.0],[2017.0,1.0,1491.0,1491.0],[2017.0,1.0,1493.0,1492.0],[2017.0,1.0,1492.0,1492.0],[2017.0,1.0,1491.0,1491.0],[2017.0,1.0,1492.0,1492.0],[2017.0,1.0,1491.0,1491.0],[2017.0,1.0,1493.0,1492.0],[2017.0,1.0,1492.0,1492.0],[2017.0,1.0,1491.0,1491.0],[2017.0,1.0,1492.0,1492.0],[2017.0,1.0,1491.0,1491.0],[2017.0,1.0,1491.0,1491.0],[2017.0,1.0,1492.0,1492.0],[2017.0,1.0,1491.0,1491.0],[2017.0,1.0,1491.0,1491.0],[2017.0,1.0,1492.0,1492.0],[2017.0,1.0,1491.0,1491.0],[2017.0,1.0,1491.0,1491.0],[2017.0,1.0,1492.0,1492.0],[2017.0,1.0,1492.0,1492.0],[2017.0,1.0,1492.0,1492.0],[2017.0,1.0,1492.0,1492.0],[2017.0,1.0,1492.0,1492.0],[2017.0,1.0,1492.0,1492.0],[2017.0,1.0,1493.0,1492.0],[2017.0,1.0,1494.0,1491.0],[2012.0,12.0,632.0,632.0],[2014.0,12.0,1153.0,1153.0],[2011.0,5.0,1686.0,1686.0],[2014.0,5.0,1148.0,1148.0],[2017.0,4.0,296.0,278.0],[2012.0,8.0,345.0,345.0],[2014.0,10.0,1497.0,1497.0],[2014.0,1.0,2741.0,2741.0],[2014.0,12.0,1687.0,1687.0],[2014.0,11.0,1633.0,1633.0],[2011.0,9.0,1421.0,1421.0],[2012.0,11.0,290.0,290.0],[2013.0,11.0,964.0,964.0],[2011.0,4.0,0.0,0.0],[2012.0,4.0,210.0,210.0],[2016.0,11.0,5.0,5.0],[2015.0,1.0,1349.0,1349.0],[2017.0,1.0,1906.0,1906.0],[2012.0,3.0,1153.0,1153.0],[2012.0,11.0,510.0,510.0],[2016.0,2.0,1665.0,1633.0],[2014.0,7.0,889.0,889.0],[2013.0,9.0,2653.0,2622.0],[2014.0,5.0,1253.0,1253.0],[2015.0,7.0,3773.0,3092.0],[2014.0,6.0,1366.0,1360.0],[2013.0,8.0,653.0,647.0],[2015.0,5.0,1811.0,1796.0],[2016.0,2.0,1766.0,1758.0],[2012.0,8.0,445.0,445.0],[2016.0,9.0,1052.0,1052.0],[2011.0,6.0,18.0,8.0],[2014.0,4.0,941.0,931.0],[2016.0,1.0,1481.0,1481.0],[2013.0,12.0,810.0,810.0],[2013.0,10.0,770.0,770.0],[2012.0,8.0,572.0,572.0],[2014.0,4.0,1054.0,1000.0],[2011.0,9.0,158.0,157.0],[2012.0,5.0,1731.0,1731.0],[2015.0,2.0,18.0,16.0],[2013.0,11.0,876.0,873.0],[2011.0,8.0,112.0,112.0],[2013.0,1.0,646.0,646.0],[2016.0,2.0,1369.0,1369.0],[2016.0,10.0,1975.0,1975.0],[2010.0,1.0,1206.0,35.0],[2013.0,8.0,862.0,822.0],[2013.0,5.0,1171.0,688.0],[2016.0,9.0,2003.0,1999.0],[2015.0,9.0,1617.0,1617.0],[2017.0,4.0,2328.0,2328.0],[2014.0,9.0,2379.0,2377.0],[2016.0,1.0,2628.0,2137.0],[2015.0,2.0,1118.0,936.0],[2015.0,6.0,1531.0,1524.0],[2016.0,3.0,1709.0,1708.0],[2016.0,3.0,1708.0,1708.0],[2016.0,3.0,1709.0,1708.0],[2011.0,10.0,258.0,258.0],[2015.0,3.0,275.0,275.0],[2012.0,1.0,876.0,876.0],[2014.0,7.0,2842.0,2842.0],[2016.0,4.0,1353.0,1351.0],[2015.0,7.0,1574.0,1574.0],[2015.0,9.0,2103.0,2103.0],[2015.0,12.0,1713.0,1713.0],[2017.0,4.0,2015.0,2015.0],[2013.0,8.0,391.0,390.0],[2017.0,2.0,2199.0,2119.0],[2014.0,1.0,998.0,973.0],[2016.0,9.0,4402.0,4402.0],[2014.0,6.0,891.0,891.0],[2013.0,11.0,561.0,561.0],[2012.0,5.0,536.0,429.0],[2013.0,8.0,1807.0,898.0],[2013.0,1.0,636.0,632.0],[2016.0,2.0,1896.0,1896.0],[2011.0,4.0,0.0,0.0],[2015.0,3.0,1407.0,1407.0],[2017.0,3.0,2670.0,2670.0],[2015.0,1.0,1385.0,1385.0],[2012.0,2.0,244.0,243.0],[2013.0,1.0,760.0,691.0],[2015.0,8.0,1449.0,1449.0],[2014.0,11.0,311.0,309.0],[2014.0,2.0,1045.0,1045.0],[2013.0,8.0,3548.0,3548.0],[2014.0,7.0,1115.0,1115.0],[2016.0,6.0,2708.0,2708.0],[2016.0,6.0,2708.0,2708.0],[2016.0,6.0,2708.0,2708.0],[2016.0,6.0,2708.0,2708.0],[2016.0,6.0,2708.0,2708.0],[2016.0,6.0,2708.0,2708.0],[2016.0,6.0,2708.0,2708.0],[2016.0,6.0,2708.0,2708.0],[2016.0,6.0,2708.0,2708.0],[2016.0,6.0,2708.0,2708.0],[2016.0,6.0,2708.0,2708.0],[2016.0,6.0,2709.0,2708.0],[2016.0,6.0,2708.0,2708.0],[2016.0,6.0,2708.0,2708.0],[2016.0,6.0,2708.0,2708.0],[2016.0,6.0,2708.0,2708.0],[2016.0,6.0,2708.0,2708.0],[2016.0,6.0,2708.0,2708.0],[2016.0,6.0,2708.0,2708.0],[2016.0,6.0,2708.0,2708.0],[2016.0,6.0,2708.0,2708.0],[2015.0,10.0,1615.0,1615.0],[2012.0,9.0,474.0,474.0],[2015.0,2.0,1410.0,1410.0],[2014.0,1.0,902.0,899.0],[2016.0,3.0,1328.0,1328.0],[2016.0,3.0,1328.0,1328.0],[2016.0,3.0,1328.0,1328.0],[2012.0,1.0,233.0,231.0],[2015.0,2.0,1371.0,1368.0],[2013.0,2.0,498.0,493.0],[2011.0,5.0,333.0,303.0],[2014.0,1.0,1039.0,1038.0],[2010.0,7.0,271.0,0.0],[2015.0,7.0,1456.0,1449.0],[2013.0,3.0,935.0,928.0],[2014.0,7.0,659.0,653.0],[2016.0,6.0,1401.0,1399.0],[2012.0,4.0,387.0,387.0],[2013.0,12.0,1198.0,1198.0],[2016.0,10.0,2024.0,2024.0],[2016.0,10.0,2024.0,2024.0],[2016.0,10.0,2024.0,2024.0],[2016.0,10.0,2024.0,2024.0],[2016.0,10.0,2024.0,2024.0],[2016.0,10.0,2024.0,2024.0],[2016.0,10.0,2024.0,2024.0],[2016.0,10.0,2024.0,2024.0],[2016.0,10.0,2024.0,2024.0],[2016.0,10.0,2024.0,2024.0],[2016.0,10.0,2024.0,2024.0],[2016.0,10.0,2024.0,2024.0],[2016.0,10.0,2024.0,2024.0],[2016.0,10.0,2024.0,2024.0],[2016.0,10.0,2024.0,2024.0],[2016.0,10.0,2025.0,2025.0],[2013.0,1.0,65.0,65.0],[2011.0,9.0,88.0,88.0],[2013.0,8.0,777.0,777.0],[2011.0,11.0,230.0,230.0],[2013.0,2.0,601.0,601.0],[2012.0,6.0,418.0,418.0],[2013.0,10.0,867.0,867.0],[2014.0,8.0,1195.0,1195.0],[2015.0,1.0,1328.0,1328.0],[2012.0,2.0,328.0,328.0],[2012.0,8.0,586.0,586.0],[2016.0,7.0,1853.0,1853.0],[2016.0,7.0,1853.0,1853.0],[2016.0,7.0,1855.0,1853.0],[2012.0,5.0,285.0,285.0],[2014.0,3.0,1074.0,1074.0],[2016.0,1.0,1680.0,1680.0],[2016.0,2.0,1665.0,1665.0],[2016.0,2.0,1341.0,1341.0],[2007.0,10.0,3482.0,0.0],[2011.0,4.0,0.0,0.0],[2011.0,5.0,41.0,41.0],[2012.0,5.0,577.0,577.0],[2014.0,5.0,1394.0,1394.0],[2012.0,11.0,382.0,382.0],[2015.0,10.0,1513.0,1513.0],[2012.0,7.0,302.0,302.0],[2014.0,6.0,1208.0,1208.0],[2016.0,4.0,1429.0,1422.0],[2011.0,6.0,342.0,321.0],[2015.0,10.0,596.0,574.0],[2012.0,8.0,37.0,0.0],[2016.0,4.0,1399.0,1399.0]]},[{\"stat_type\": \"categorical\", \"name\": \"id\", \"unique_values\": [\"1AB5C92\", \"977D203\", \"102DBC2\", \"C9B9133\", \"DC2302\", \"1A491A2\", \"8A1A543\", \"9A51A2\", \"7C1DB2\", \"2D98203\"]}, {\"stat_type\": \"categorical\", \"name\": \"gender\", \"unique_values\": [\"Female\", \"Male\"]}, {\"stat_type\": \"categorical\", \"name\": \"age_group\", \"unique_values\": [\"25 - 29\", \"45 - 49\", \"35 - 39\", \"60 - 64\", \"20 - 24\", \"50 - 54\", \"30 - 34\"]}, {\"stat_type\": \"categorical\", \"name\": \"encounter_id\", \"unique_values\": [42230255.0, 20125520.0, 36191729.0, 86996036.0, 55289445.0, 22083062.0, 29334171.0, 47136843.0, 33977348.0, 40405740.0, 41872894.0, 91664860.0, 39944218.0, 26276423.0, 40734987.0, 91674350.0, 35738526.0, 30060555.0, 25512557.0, 44186773.0, 36011436.0, 40274284.0, 31296668.0, 90188218.0, 20461999.0, 87120526.0, 43912921.0, 39756628.0, 37852481.0, 30357039.0, 37657794.0, 37587106.0, 42904960.0, 24929450.0, 88228925.0, 85708971.0, 29723724.0, 89048614.0, 45082180.0, 28544502.0, 88058166.0, 30326126.0, 19886380.0, 41529325.0, 20286984.0, 34530491.0, 34125343.0, 39225226.0, 29798796.0, 25439078.0, 41652293.0, 39815674.0, 29026413.0, 92068717.0, 24130052.0, 39174510.0, 29483966.0, 27393990.0, 91928883.0, 23424929.0, 88162301.0, 47202901.0, 91795528.0, 19818896.0, 25763847.0, 23860943.0, 28892619.0, 42143083.0, 43901372.0, 30575337.0, 92016369.0, 47012732.0, 29904969.0, 20015383.0, 33889837.0, 43294412.0, 24683873.0, 31467193.0, 87224056.0, 88001591.0, 25912238.0, 28224980.0, 87256532.0, 90640891.0, 42528226.0, 28765572.0, 37119780.0, 30202859.0, 92020489.0, 37988510.0, 28595579.0, 27196698.0, 25603783.0, 27512904.0, 30757601.0, 41491822.0, 42786155.0, 34221331.0, 32239042.0, 89758041.0, 22212730.0, 90629691.0, 35317685.0, 42685709.0, 85807367.0, 41113956.0, 26506596.0, 19975582.0, 29464770.0, 42338195.0, 20731114.0, 85331556.0, 34856946.0, 88451864.0, 31006937.0, 28264626.0, 84937891.0, 39264334.0, 37683060.0, 32201838.0, 30566397.0, 31633093.0, 36561033.0, 21553673.0, 45835799.0, 33446252.0, 42856468.0, 22075076.0, 89323079.0, 45560123.0, 45272228.0, 37874802.0, 88804502.0, 25133798.0, 91843985.0, 29166871.0, 84914188.0, 23333686.0, 22979819.0, 85733822.0, 33479887.0, 25124039.0, 35278510.0, 30130758.0, 86351658.0, 25101449.0, 23561737.0, 22902542.0, 91976820.0, 44110092.0, 91041652.0, 26746532.0, 88670467.0, 30083439.0, 43273238.0, 33598889.0, 19902049.0, 40058241.0, 85256547.0, 34290077.0, 20811117.0, 91574104.0, 22285096.0, 34289143.0, 41183554.0, 22323452.0, 27356692.0, 28762329.0, 42018847.0, 27505084.0, 87456582.0, 21391361.0, 42063635.0, 21080102.0, 27938824.0, 85808290.0, 30923138.0, 21515321.0, 41019519.0, 36546008.0, 30333420.0, 52766112.0, 22751968.0, 44098621.0, 26175573.0, 87290407.0, 36798243.0, 40362948.0, 89300625.0, 38121092.0, 36232656.0, 41227893.0, 39955884.0, 39285534.0, 34667311.0, 42711950.0, 27224295.0, 21690463.0, 35156450.0, 35488213.0, 87787211.0, 32491414.0, 29052699.0, 84445581.0, 85234680.0, 85325766.0, 19742002.0, 32426953.0, 36377395.0, 32215696.0, 29224331.0, 41160574.0, 21251468.0, 36791419.0, 25631963.0, 86727795.0, 36818812.0, 20827984.0, 33284279.0, 86008853.0]}, {\"stat_type\": \"categorical\", \"name\": \"encounter_class\", \"unique_values\": [\"Inpatient\", \"Recurring\", \"Emergency\", \"Other\", \"Outpatient\", \"Home Care\"]}, {\"stat_type\": \"categorical\", \"name\": \"encounter_type\", \"unique_values\": [\"Inpatient Acute\", \"MHAS - Residential\", \"MHAS - Acute Care\", \"Open Encounter\", \"Emergency\", \"Specimen\", \"Ambulatory\", \"Day Care\", \"Home Care\", \"Recurring/Series\"]}, {\"stat_type\": \"categorical\", \"name\": \"event_type\", \"unique_values\": [\"Encounter Only\", \"Surgery\", \"General Lab\", \"Radiology\", \"Diagnosis\", \"Micro\"]}, {\"stat_type\": \"categorical\", \"name\": \"event_title\", \"unique_values\": [\"Child, Youth & Family\", \"Mental Health\", \"NA\", \"Outpatient\", \"Surgery\", \"Medicine\", \"Laboratory\", \"Diagnostic Imaging\", \"Rehab\", \"Diseases of the digestive system\"]}, {\"stat_type\": \"categorical\", \"name\": \"event_detail\", \"unique_values\": [\"Maternity\", \"Adult Psychiatry\", \"NA\", \"Laboratory\", \"Medical Imaging\", \"Obstetrics\", \"Urology\", \"Colonoscopy (FIT Positive Yes CSP) SN\", \"Albumin Level\", \"ALT\", \"Bilirubin Total\", \"Complete Blood Count and Differential\", \"Confirmatory Hepatitis C Antibody\", \"Hepatitis C Antibody\", \"HIV Quantitative\", \"Potassium Level\", \"Protein Total\", \"Sodium Level\", \"xxAutomated Diff\", \"Hepatitis B Careset\", \"Alkaline Phosphatase\", \"Calcium Level\", \"Creatinine\", \"GGT\", \"Hepatitis A Antibody IgG\", \"Hepatitis B Core Antibody Total\", \"Hepatitis B Surface Antibody\", \"Hepatitis B Surface Antigen\", \"xxCD4\", \"CT Spine Lumbar w/o Contrast\", \"Outpatient\", \"Opthamology\", \"Acute Rehabilitation\", \"XR Tibia/Fibula Right\", \"Medicine Hospitalist\", \"Glucose Random\", \"INR\", \"Coag Panel Careset\", \"Macroscopic Urinalysis\", \"PTT\", \"Acute Hepatitis Careset\", \"Calcium Ionized Level\", \"Carbon Dioxide Total\", \"Chloride Level\", \"Hepatitis A Antibody IgM\", \"Magnesium Level\", \"Syphilis Serology\", \"Thyroid Stimulating Hormone\", \"xxCoagulation Hold Tube\", \"xxProtein Electrophoresis\", \"XR Chest 2 Views\", \"SI ED Basic Careset\", \"Anion Gap\", \"AST\", \"hCG Qualitative\", \"HIV Ag/Ab Combination Assay\", \"Lipase Level\", \"Protein Electrophoresis Careset\", \"HH ECG Electrocardiogram\", \"Medicine (Unspecified)\", \"XR Chest AP/PA 1 View\", \"MRI Spine Lumbar w/o Contrast\", \"Medicine Family Practice\", \"Surgery\", \"Pre-Admission Clinic\", \"Enterology\", \"Clinical Teaching Unit\", \"K42.9,  Umbilical hernia without obs or gangrene\", \"Plastic\", \"Medical Assessment\", \"CT Wrist w/o Contrast Left\", \"XR Wrist and Scaphoid Left\", \"XR Wrist Limited 2 Views Left\", \"Clinical Decision Unit\", \"Troponin T High Sensitivity\", \"Drug Screen Urine Qualitative\", \"xxMicroscopic Urinalysis\", \"Chem 7 Hem Careset\", \"Lactate Level\", \"Urine Culture\"]}, {\"stat_type\": \"categorical\", \"name\": \"event_year\", \"unique_values\": [2013.0, 2015.0, 2011.0, 2016.0, 2009.0, 2014.0, 2012.0, 2017.0, 2010.0, 2007.0]}, {\"stat_type\": \"categorical\", \"name\": \"event_month\", \"unique_values\": [1.0, 12.0, 6.0, 5.0, 7.0, 10.0, 4.0, 9.0, 11.0, 3.0, 2.0, 8.0]}, {\"stat_type\": \"realAdditive\", \"name\": \"start_day\"}, {\"stat_type\": \"realAdditive\", \"name\": \"end_day\"}, {\"stat_type\": \"realAdditive\", \"name\": \"duration_days\"}, {\"stat_type\": \"categorical\", \"name\": \"location_map_id\", \"unique_values\": [1673.0, 874.0, 903.0, 601.0, 1261.0, 2116.0, 1429.0, 807.0, 2230.0, 167.0, 2021.0, 1448.0, 139.0, 1582.0, 916.0, 1554.0, 1773.0, 1264.0, 1765.0, 1109.0, 483.0, 1853.0, 671.0, 1977.0, 227.0, 922.0, 1657.0, 388.0, 567.0, 718.0, 1514.0, 971.0, 520.0, 182.0, 1499.0, 251.0, 755.0, 1170.0, 1748.0, 1631.0, 595.0, 934.0, 768.0, 513.0, 1983.0, 766.0, 639.0, 2223.0, 1526.0, 243.0, 876.0, 1825.0, 787.0, 2232.0, 2180.0, 1177.0, 1487.0, 1612.0, 1181.0, 1810.0, 1819.0, 93.0, 209.0, 1611.0, 878.0, 34.0, 2076.0, 2038.0, 614.0, 1720.0, 296.0, 2125.0, 1032.0, 2119.0, 1723.0, 935.0, 132.0, 1490.0, 1365.0, 1718.0, 2035.0, 2190.0, 275.0, 947.0, 844.0, 2011.0, 390.0, 1601.0, 1408.0, 1033.0]}])"
      ],
      "text/plain": [
       "<IPython.core.display.Javascript object>"
      ]
     },
     "execution_count": 70,
     "metadata": {},
     "output_type": "execute_result"
    }
   ],
   "source": [
    "%%bql\n",
    ".interactive_pairplot --population=ehr_population \n",
    "SELECT\n",
    "\"event_year\",\n",
    "\"event_month\",\n",
    "\"end_day\",\n",
    "\"start_day\"\n",
    "FROM ds"
   ]
  },
  {
   "cell_type": "code",
   "execution_count": 71,
   "metadata": {
    "scrolled": false
   },
   "outputs": [
    {
     "data": {
      "application/javascript": [
       "function pairplot(df, schema) {\n",
       "  var myCell = element.is('.output_subarea') ? element : element.next();\n",
       "  if (typeof VizGPMReady === 'undefined') {\n",
       "    throw new Error('VizGPM Display Library not loaded')\n",
       "  }\n",
       "\n",
       "  var container = $('<div>')\n",
       "    .appendTo(myCell);\n",
       "\n",
       "  VizGPMReady.then(function(VizGPM) {\n",
       "    const _ = VizGPM._;\n",
       "\n",
       "    const SP = VizGPM.StateProperty\n",
       "\n",
       "    for (const col of schema) {\n",
       "      if (col.stat_type == 'numerical') {\n",
       "        col.stat_type = 'realAdditive';\n",
       "      }\n",
       "\n",
       "      if (col.stat_type == 'nominal') {\n",
       "        col.stat_type = 'categorical';\n",
       "      }\n",
       "    }\n",
       "\n",
       "    function rowProxy(__key) {\n",
       "      const obj = {__key};\n",
       "      for (const column of df.columns) {\n",
       "        obj[column] = df.data[__key].shift();\n",
       "      }\n",
       "      return obj;\n",
       "    }\n",
       "\n",
       "    const rows = [];\n",
       "    for(let index = 0; index < df.data.length; index++) {\n",
       "      rows.push(rowProxy(index));\n",
       "    }\n",
       "\n",
       "    var stateManager = new VizGPM.StateManager({\n",
       "      [SP.SCHEMA]: {columns: schema},\n",
       "      [SP.SELECTED_COLUMN_NAMES]: df.columns,\n",
       "      [SP.GET_COLUMN_FUNCTION]: col =>\n",
       "        VizGPM.GpmHandler.prototype._getColumn.call(stateManager, col),\n",
       "      [SP.DISPLAYED_ROWS]: rows,\n",
       "    });\n",
       "\n",
       "    const plot = new VizGPM.PairPlot({\n",
       "      root: container[0],\n",
       "      stateManager: stateManager,\n",
       "    });\n",
       "  })\n",
       "}\n",
       ";pairplot({\"columns\":[\"event_year\",\"event_month\",\"end_day\",\"start_day\"],\"index\":[0,1,2,3,4,5,6,7,8,9,10,11,12,13,14,15,16,17,18,19,20,21,22,23,24,25,26,27,28,29,30,31,32,33,34,35,36,37,38,39,40,41,42,43,44,45,46,47,48,49,50,51,52,53,54,55,56,57,58,59,60,61,62,63,64,65,66,67,68,69,70,71,72,73,74,75,76,77,78,79,80,81,82,83,84,85,86,87,88,89,90,91,92,93,94,95,96,97,98,99,100,101,102,103,104,105,106,107,108,109,110,111,112,113,114,115,116,117,118,119,120,121,122,123,124,125,126,127,128,129,130,131,132,133,134,135,136,137,138,139,140,141,142,143,144,145,146,147,148,149,150,151,152,153,154,155,156,157,158,159,160,161,162,163,164,165,166,167,168,169,170,171,172,173,174,175,176,177,178,179,180,181,182,183,184,185,186,187,188,189,190,191,192,193,194,195,196,197,198,199,200,201,202,203,204,205,206,207,208,209,210,211,212,213,214,215,216,217,218,219,220,221,222,223,224,225,226,227,228,229,230,231,232,233,234,235,236,237,238,239,240,241,242,243,244,245,246,247,248,249,250,251,252,253,254,255,256,257,258,259,260,261,262,263,264,265,266,267,268,269,270,271,272,273,274,275,276,277,278,279,280,281,282,283,284,285,286,287,288,289,290,291,292,293,294,295,296,297,298,299,300,301,302,303,304,305,306,307,308,309,310,311,312,313,314,315,316,317,318,319,320,321,322,323,324],\"data\":[[2016.0,10.0,1907.1698062798,3207.9804339775],[2013.0,10.0,1692.1945212902,1298.7172195132],[2013.0,11.0,1465.5367489777,523.6555849431],[2017.0,1.0,785.7979907241,1527.4239467775],[2014.0,6.0,2122.9156023271,243.5951791058],[2012.0,10.0,1665.4761514394,1310.3305285404],[2016.0,6.0,2393.3678830766,1446.6445715057],[2015.0,8.0,249.0958033279,1718.7671847265],[2015.0,7.0,2398.1501308683,1014.8651361833],[2011.0,4.0,817.0152286883,87.2192325112],[2013.0,8.0,1443.7503435527,-667.2712084796],[2014.0,3.0,613.9309548847,1488.5911475244],[2015.0,9.0,1140.3042445193,1127.6966615262],[2017.0,6.0,1493.987017915,2021.5215893298],[2016.0,7.0,1582.7053217149,2046.0589574805],[2013.0,8.0,1416.7250955953,1420.4158935863],[2014.0,8.0,651.671414069,1231.6991156708],[2016.0,6.0,1808.0753781359,1827.7043917167],[2017.0,2.0,1208.9624613747,884.4967186041],[2016.0,10.0,2199.5286829571,1706.2283473955],[2017.0,12.0,1628.4011256739,2367.8588528812],[2016.0,3.0,1474.6473804881,2385.8989369705],[2017.0,3.0,1758.6012301252,984.0553848656],[2017.0,6.0,1683.8923295402,1894.8458832394],[2016.0,3.0,1583.7299020968,1952.2887813668],[2012.0,11.0,932.940364225,1946.9830169656],[2014.0,12.0,1133.7483101223,1017.5888391551],[2014.0,3.0,1259.4972269505,1689.6988901909],[2017.0,4.0,43.4769461621,1888.3921144078],[2013.0,5.0,312.837189886,1559.3448433072],[2016.0,1.0,1035.3906007504,2425.1158438548],[2016.0,1.0,1886.8002702654,1601.507187228],[2017.0,9.0,1497.9963929205,1387.118162807],[2015.0,5.0,927.7017716893,2399.7355325446],[2017.0,12.0,2067.6760766438,1658.0864603865],[2017.0,1.0,2122.9910328656,1420.8272727348],[2016.0,11.0,1365.8530031824,777.6533555587],[2016.0,10.0,1904.2500786203,1468.9853259671],[2016.0,6.0,2171.3248740616,2498.9326391664],[2009.0,3.0,1793.9515327385,1918.0070966512],[2017.0,9.0,1374.8501023076,2040.1528202086],[2014.0,2.0,1502.3506853608,868.4105743923],[2015.0,2.0,1898.4283427256,923.82668185],[2016.0,3.0,1369.5988855241,2337.1701383953],[2013.0,5.0,1447.467202942,432.0117479044],[2012.0,6.0,-293.7221266945,892.0810188887],[2016.0,3.0,1860.7809322451,1541.0848756409],[2011.0,6.0,631.8820037903,495.1103584161],[2012.0,9.0,463.0377991446,673.7709225075],[2011.0,5.0,1556.4888112315,1372.6212618092],[2013.0,8.0,882.0735456068,339.5520639557],[2014.0,12.0,921.3713742943,964.1557225691],[2012.0,7.0,1117.0396902371,326.9970764866],[2016.0,10.0,2179.0645001389,1334.2870970552],[2017.0,1.0,926.7000892952,822.5420504018],[2015.0,4.0,743.861096153,97.9586607447],[2014.0,6.0,1845.5632227032,432.5516403269],[2014.0,4.0,1052.6773391679,393.6524383442],[2013.0,11.0,1512.9929595415,935.9576276533],[2013.0,12.0,-583.9673200813,1104.5275726635],[2016.0,6.0,2382.2263606165,1438.8070014116],[2014.0,1.0,1380.0121382434,723.6051516731],[2014.0,2.0,1370.9679531693,821.3139383883],[2016.0,1.0,1660.362444524,1729.5694282732],[2015.0,8.0,1014.8755746476,1521.6062941503],[2011.0,8.0,1137.6417548562,1237.7133592423],[2012.0,5.0,926.9743616286,1808.3586102254],[2016.0,2.0,898.6647975482,52.6184080986],[2016.0,3.0,1333.5841570218,2416.7601730959],[2016.0,1.0,2093.4540000723,1493.6184966681],[2017.0,6.0,2452.7193047191,719.0556454335],[2015.0,10.0,628.2535970336,1098.651957938],[2016.0,6.0,1817.2547115863,2747.8530212011],[2011.0,6.0,334.7211611338,510.2559625246],[2007.0,12.0,1608.11123773,1691.9667453013],[2016.0,3.0,1710.9484462042,2031.5031565983],[2017.0,3.0,2258.0403350476,2998.2504428211],[2014.0,5.0,976.0528292499,439.5767790462],[2014.0,5.0,1319.0432766768,974.3770934599],[2016.0,11.0,1333.3777024429,1434.9626973202],[2014.0,6.0,2081.6261701691,1125.1875691387],[2016.0,6.0,1650.6990921713,2121.2197178028],[2017.0,8.0,1743.929581459,1121.1700604636],[2013.0,1.0,1375.7918809397,992.878223824],[2016.0,1.0,2317.3645011244,1391.9291688325],[2014.0,8.0,66.7475790222,-50.5223347726],[2016.0,2.0,2442.9893687664,1949.1670367269],[2016.0,6.0,1548.971496616,2648.6485576522],[2016.0,2.0,1818.9985009228,2024.604124758],[2016.0,4.0,1330.0869781538,1292.0219003342],[2013.0,11.0,-54.5582395693,1033.4912504405],[2017.0,12.0,601.5253378834,1239.9181818323],[2013.0,6.0,708.5433789662,1814.3547866649],[2017.0,2.0,2456.7700496998,2297.6305060812],[2017.0,1.0,2157.635567837,1744.1845076811],[2014.0,4.0,58.7343778555,454.6202007366],[2014.0,5.0,1286.6659072109,-363.1234499399],[2013.0,9.0,1167.9930672741,1113.427235095],[2016.0,10.0,1666.4741721208,1947.211819429],[2016.0,6.0,2347.6105670807,1227.4609952299],[2009.0,8.0,1202.6989112292,67.3658825389],[2012.0,7.0,1755.6628649926,73.9683691873],[2012.0,4.0,1276.414696593,1655.3909116084],[2015.0,5.0,1245.6163255553,748.9893019186],[2015.0,11.0,1138.2831842955,-281.5174304669],[2017.0,1.0,1539.0670213879,1825.4668095571],[2012.0,3.0,1591.3351612451,1261.3925199417],[2016.0,4.0,1553.9721462023,2274.9810532187],[2017.0,1.0,1875.0954460833,1545.9500483835],[2013.0,11.0,1397.0782448252,1643.4284817387],[2016.0,1.0,2283.7521089853,2733.1054189094],[2016.0,6.0,2281.9080560563,1920.8918885654],[2011.0,4.0,985.5834841539,623.5717212052],[2014.0,9.0,1516.9218122268,1305.8741152805],[2012.0,4.0,1515.6565295423,234.1980072237],[2015.0,3.0,844.8335410747,442.4227197201],[2012.0,11.0,850.8285253882,677.2641273849],[2016.0,5.0,412.2382646483,770.0814875238],[2016.0,1.0,651.9894182279,-74.159683692],[2015.0,4.0,2146.2439482265,1402.422795719],[2016.0,6.0,1665.1785733354,2544.5588885913],[2013.0,10.0,1624.5784157243,1206.7567805833],[2016.0,1.0,2943.2747517845,2523.6259662657],[2011.0,4.0,1242.8085733763,1662.6452218781],[2011.0,6.0,2462.492805207,951.0488124883],[2016.0,6.0,1237.662965593,1935.1294937428],[2016.0,6.0,2420.5151417614,398.5088219683],[2016.0,5.0,1042.9964447053,-110.6930023278],[2015.0,5.0,330.0927553389,393.2334472733],[2013.0,4.0,1284.3071682296,818.5354406401],[2011.0,9.0,859.9769954448,1557.9072066505],[2016.0,3.0,3135.8644768982,2419.9622449974],[2016.0,12.0,1144.9056490157,2064.8188331906],[2012.0,4.0,507.3076858368,420.5549085879],[2012.0,6.0,757.9541310733,548.3672627082],[2012.0,5.0,1920.3156206832,2740.0922073796],[2012.0,2.0,-259.7748283376,521.9496779796],[2011.0,7.0,1699.9099652708,754.5906766134],[2017.0,8.0,1977.2195558224,904.7988004652],[2017.0,8.0,2764.5439783876,1716.1790841789],[2012.0,8.0,673.9953343641,990.7455678059],[2012.0,8.0,2107.9134749425,1012.7750520033],[2011.0,10.0,2140.193404062,358.0864575637],[2016.0,3.0,830.4759305917,2350.0714839458],[2014.0,4.0,1634.6542339318,419.8016206997],[2016.0,4.0,1414.8556899684,2228.0798427788],[2012.0,2.0,1414.3479746447,1489.6967222569],[2014.0,1.0,1352.916930037,263.2364830874],[2014.0,3.0,1444.4794269349,981.7645603222],[2012.0,10.0,1977.9668574631,2014.4257401905],[2016.0,6.0,2568.9044911503,1731.5093573611],[2014.0,6.0,1511.7932898347,1785.8682423034],[2013.0,2.0,-1098.3244115662,1878.5847291489],[2016.0,1.0,1757.1756175574,990.713823191],[2012.0,2.0,1726.2663524238,983.7705622287],[2017.0,3.0,1075.7137072667,851.8787529428],[2014.0,12.0,609.4556070961,754.1373133709],[2015.0,6.0,1146.6632450511,308.8261870487],[2017.0,6.0,1170.8701493625,1172.6211856303],[2013.0,1.0,1073.5022940554,499.252596404],[2016.0,1.0,1794.5496971604,1433.8146238654],[2011.0,6.0,394.1881871238,247.5755811193],[2012.0,12.0,1111.6827771502,-611.9535817381],[2007.0,12.0,1845.9293207306,798.9355752539],[2017.0,1.0,1914.9775891854,2528.6421134214],[2017.0,1.0,1402.6476757259,2340.043383308],[2013.0,10.0,2470.5359032539,1611.4236486047],[2017.0,4.0,800.1271360392,1329.5203235389],[2012.0,4.0,1082.2088928963,225.1218514782],[2016.0,10.0,2882.0986652281,1810.2767982572],[2016.0,10.0,2133.189427331,1916.1920855923],[2012.0,2.0,190.7777109439,990.9754602445],[2012.0,6.0,-30.6925433198,540.3941959966],[2014.0,4.0,644.0684668004,1091.8682715319],[2010.0,6.0,1386.9114672649,1272.2647550466],[2013.0,8.0,1161.9815609537,1450.213872595],[2012.0,5.0,528.5334631066,296.4681987366],[2014.0,1.0,1554.3787167528,1895.9621586616],[2016.0,3.0,1451.8374945362,2358.4354183799],[2012.0,2.0,1232.8009950709,-346.9143216477],[2014.0,10.0,1112.1996709881,1171.5792909039],[2016.0,4.0,1799.1446678459,1412.6584381173],[2011.0,10.0,2123.0184507727,1852.4868731709],[2011.0,5.0,-38.8970298096,774.0931744307],[2016.0,10.0,1047.82532293,1303.9023307186],[2014.0,8.0,520.435418454,1400.2672496312],[2016.0,11.0,2049.4072304056,863.8582776321],[2013.0,4.0,64.4355602338,811.005680882],[2011.0,8.0,2002.1128133536,673.2980478908],[2009.0,7.0,693.5015718055,1321.9167550235],[2016.0,1.0,1848.4036617563,1286.7847574452],[2014.0,12.0,-110.1836632675,583.0483431339],[2016.0,1.0,1774.6775954477,2052.715218004],[2017.0,10.0,2220.6461704199,1387.1541509231],[2017.0,10.0,2567.8633286569,1543.4633148381],[2017.0,2.0,558.8537787126,2317.6926567259],[2016.0,1.0,1733.0672240471,1787.4544432787],[2015.0,8.0,1470.7342116492,-365.0595335931],[2012.0,2.0,1604.0077276758,1281.4627122615],[2016.0,1.0,1649.5589227471,1846.6254172931],[2015.0,2.0,964.11436197,212.2958976502],[2015.0,1.0,1544.3019642348,391.8447482782],[2011.0,10.0,466.1842158363,989.6009694668],[2016.0,6.0,2162.6461894394,1408.634880914],[2015.0,9.0,1131.6808447252,261.7679983749],[2016.0,1.0,685.5317190727,1268.4582435705],[2014.0,4.0,1039.8176039049,1151.6440318717],[2014.0,4.0,506.0401341762,418.8883478842],[2013.0,12.0,1132.8153407059,2333.6542586362],[2016.0,1.0,851.3947992524,2054.4587771324],[2014.0,1.0,1562.5096694202,219.3022885552],[2016.0,1.0,1645.12538357,1917.3690418398],[2012.0,1.0,1115.3538387055,1949.7227193803],[2007.0,3.0,1608.0942288292,933.5931551409],[2017.0,7.0,3125.4973518617,2433.5152936578],[2012.0,8.0,1453.3256855397,1426.1500619329],[2015.0,4.0,1062.6219624702,-168.0516323542],[2017.0,11.0,592.7562662556,1084.3811615334],[2011.0,10.0,1135.1742976505,462.6097242681],[2012.0,11.0,-380.3821802025,1045.3098958369],[2016.0,10.0,1911.8963376453,1327.6194839311],[2016.0,1.0,74.6321941169,1298.7274412109],[2015.0,6.0,412.6935910978,1210.6066861656],[2016.0,8.0,134.1513596056,-81.5193383519],[2014.0,5.0,823.7310751772,1218.6312299062],[2012.0,4.0,2622.098182977,2525.818566649],[2014.0,11.0,1131.9491297406,1155.5997753946],[2009.0,8.0,1487.225935083,1524.6320165608],[2007.0,6.0,2118.8020890942,2200.5660503712],[2010.0,2.0,-125.1753346557,-95.6229512557],[2017.0,1.0,1202.2308134896,1467.8934502375],[2009.0,1.0,1504.8550579799,1425.4891388072],[2014.0,10.0,1773.5176019776,1626.6406361184],[2017.0,6.0,1138.4822316816,1583.5787894887],[2017.0,3.0,2104.2609387273,1669.5807605461],[2017.0,3.0,1988.7487147312,2221.9400285776],[2017.0,3.0,1310.4561625581,1888.0371527929],[2009.0,8.0,1944.1371214424,680.1866766565],[2017.0,1.0,1499.6867055794,1558.4620423159],[2014.0,4.0,1046.3289248418,773.4253349625],[2016.0,1.0,1538.7973653796,2002.5934466996],[2017.0,8.0,289.1910041132,477.5432342355],[2015.0,6.0,1474.514033737,1093.0673498963],[2013.0,4.0,2046.2565171948,189.2712773062],[2015.0,4.0,1085.7916439974,1037.55049864],[2017.0,3.0,1485.3970639897,1575.2643829203],[2013.0,10.0,1718.5745929329,387.496189753],[2012.0,8.0,1453.4403313067,1356.2078467701],[2017.0,6.0,1028.0398879729,2032.9846081298],[2017.0,1.0,2240.5325735643,2304.7713649826],[2011.0,8.0,757.7078722217,3071.6776352086],[2016.0,3.0,2251.3023181944,2934.2101672575],[2011.0,10.0,775.256540524,721.7064281133],[2014.0,2.0,1771.5139082491,1008.6826541868],[2017.0,1.0,2575.2615945647,2636.2019133063],[2015.0,8.0,835.8661678084,1353.4615370628],[2010.0,10.0,1981.8735857025,1697.829477873],[2016.0,1.0,2357.9109373702,2450.3696643811],[2013.0,9.0,1337.8516300148,4.1078175509],[2016.0,3.0,1973.3367370776,3718.3981009886],[2016.0,1.0,1286.3341850715,1103.1476241519],[2010.0,5.0,193.3766563946,205.8223814431],[2017.0,6.0,1974.5683508927,1720.0290079488],[2016.0,6.0,2299.125598754,1857.1378089437],[2014.0,6.0,723.9626518122,1647.0497227773],[2012.0,4.0,816.9933925098,1087.9786413386],[2012.0,10.0,998.121343321,1344.6975709674],[2016.0,7.0,2912.656435573,1520.0463812001],[2016.0,3.0,2280.0974901836,2600.7319406657],[2007.0,1.0,2375.9369145607,1881.3524241597],[2017.0,6.0,2031.3859356233,1973.6608669248],[2011.0,11.0,651.1115452037,-216.2317036325],[2016.0,3.0,1370.9995282226,1911.2754719924],[2017.0,2.0,1576.4839696677,2096.8321419311],[2014.0,10.0,-187.9594236674,1189.1497670685],[2016.0,2.0,1691.2217943504,2033.4150382365],[2012.0,8.0,1740.175091336,605.5740607191],[2012.0,9.0,462.7606877706,610.1895036414],[2016.0,6.0,2436.171999055,1769.9956159651],[2012.0,12.0,593.6775913752,1723.1305258452],[2011.0,6.0,850.6725042381,1246.2040369932],[2012.0,3.0,330.556113001,1385.2023105434],[2016.0,6.0,1403.0744907481,2059.9019383282],[2012.0,4.0,1746.5852092392,1848.2848594305],[2012.0,8.0,779.9414897556,1211.8211165903],[2007.0,1.0,940.5563928277,1003.7727387012],[2007.0,12.0,531.7957034007,821.4171643825],[2014.0,3.0,1780.0084558184,1659.9418320534],[2012.0,1.0,426.8346768613,594.4437743627],[2015.0,4.0,911.4501029173,324.111344032],[2017.0,8.0,940.4427750893,751.3969944111],[2014.0,5.0,863.130393274,1484.0096992903],[2013.0,1.0,939.6126534688,640.0645070011],[2017.0,6.0,2246.1559283103,1715.9381844425],[2013.0,5.0,1253.1015750431,311.4201017518],[2013.0,3.0,480.288193616,439.0115092197],[2016.0,10.0,2018.9933406805,2016.4900865716],[2011.0,6.0,77.5032310882,-9.8766385654],[2013.0,12.0,625.5071588192,690.036844489],[2015.0,10.0,316.2634300503,217.2808801123],[2016.0,10.0,2100.4977276281,2033.092320529],[2007.0,8.0,1440.6268713936,1034.2073789856],[2017.0,11.0,1162.6779540373,1119.921669468],[2012.0,7.0,179.1368001611,177.8554880867],[2017.0,1.0,1483.060107066,1451.4827577426],[2017.0,11.0,894.4776615182,953.178272579],[2011.0,10.0,1495.3926207778,1496.9811394129],[2017.0,11.0,1546.2792783538,1567.5409732579],[2017.0,12.0,2574.5449030172,1895.8941335126],[2012.0,5.0,117.9204405581,1641.2200775175],[2017.0,3.0,2289.4970515138,1231.1883446684],[2014.0,11.0,602.5919317157,-80.8536453447],[2017.0,1.0,1334.0803795646,1440.7185841409],[2016.0,2.0,1180.1599639815,2124.0633618238],[2016.0,4.0,1840.1734734813,1591.8563724082],[2012.0,7.0,145.0677218317,1401.5113699072],[2016.0,10.0,1324.8536028508,1410.509283444],[2016.0,6.0,3499.0385721114,2940.3414895938],[2015.0,8.0,1536.6605212081,761.9881910699],[2016.0,7.0,1456.6189653137,1410.1109048192],[2013.0,3.0,-169.9262266687,610.8861244906],[2014.0,1.0,2142.1576567912,1356.3744272375],[2017.0,11.0,1863.9998087101,1400.7657945901],[2010.0,2.0,-33.6915432458,714.7881166344],[2016.0,1.0,2592.9002092553,2215.6356148187]]},[{\"stat_type\": \"categorical\", \"name\": \"id\", \"unique_values\": [\"1AB5C92\", \"977D203\", \"102DBC2\", \"C9B9133\", \"DC2302\", \"1A491A2\", \"8A1A543\", \"9A51A2\", \"7C1DB2\", \"2D98203\"]}, {\"stat_type\": \"categorical\", \"name\": \"gender\", \"unique_values\": [\"Female\", \"Male\"]}, {\"stat_type\": \"categorical\", \"name\": \"age_group\", \"unique_values\": [\"25 - 29\", \"45 - 49\", \"35 - 39\", \"60 - 64\", \"20 - 24\", \"50 - 54\", \"30 - 34\"]}, {\"stat_type\": \"categorical\", \"name\": \"encounter_id\", \"unique_values\": [42230255.0, 20125520.0, 36191729.0, 86996036.0, 55289445.0, 22083062.0, 29334171.0, 47136843.0, 33977348.0, 40405740.0, 41872894.0, 91664860.0, 39944218.0, 26276423.0, 40734987.0, 91674350.0, 35738526.0, 30060555.0, 25512557.0, 44186773.0, 36011436.0, 40274284.0, 31296668.0, 90188218.0, 20461999.0, 87120526.0, 43912921.0, 39756628.0, 37852481.0, 30357039.0, 37657794.0, 37587106.0, 42904960.0, 24929450.0, 88228925.0, 85708971.0, 29723724.0, 89048614.0, 45082180.0, 28544502.0, 88058166.0, 30326126.0, 19886380.0, 41529325.0, 20286984.0, 34530491.0, 34125343.0, 39225226.0, 29798796.0, 25439078.0, 41652293.0, 39815674.0, 29026413.0, 92068717.0, 24130052.0, 39174510.0, 29483966.0, 27393990.0, 91928883.0, 23424929.0, 88162301.0, 47202901.0, 91795528.0, 19818896.0, 25763847.0, 23860943.0, 28892619.0, 42143083.0, 43901372.0, 30575337.0, 92016369.0, 47012732.0, 29904969.0, 20015383.0, 33889837.0, 43294412.0, 24683873.0, 31467193.0, 87224056.0, 88001591.0, 25912238.0, 28224980.0, 87256532.0, 90640891.0, 42528226.0, 28765572.0, 37119780.0, 30202859.0, 92020489.0, 37988510.0, 28595579.0, 27196698.0, 25603783.0, 27512904.0, 30757601.0, 41491822.0, 42786155.0, 34221331.0, 32239042.0, 89758041.0, 22212730.0, 90629691.0, 35317685.0, 42685709.0, 85807367.0, 41113956.0, 26506596.0, 19975582.0, 29464770.0, 42338195.0, 20731114.0, 85331556.0, 34856946.0, 88451864.0, 31006937.0, 28264626.0, 84937891.0, 39264334.0, 37683060.0, 32201838.0, 30566397.0, 31633093.0, 36561033.0, 21553673.0, 45835799.0, 33446252.0, 42856468.0, 22075076.0, 89323079.0, 45560123.0, 45272228.0, 37874802.0, 88804502.0, 25133798.0, 91843985.0, 29166871.0, 84914188.0, 23333686.0, 22979819.0, 85733822.0, 33479887.0, 25124039.0, 35278510.0, 30130758.0, 86351658.0, 25101449.0, 23561737.0, 22902542.0, 91976820.0, 44110092.0, 91041652.0, 26746532.0, 88670467.0, 30083439.0, 43273238.0, 33598889.0, 19902049.0, 40058241.0, 85256547.0, 34290077.0, 20811117.0, 91574104.0, 22285096.0, 34289143.0, 41183554.0, 22323452.0, 27356692.0, 28762329.0, 42018847.0, 27505084.0, 87456582.0, 21391361.0, 42063635.0, 21080102.0, 27938824.0, 85808290.0, 30923138.0, 21515321.0, 41019519.0, 36546008.0, 30333420.0, 52766112.0, 22751968.0, 44098621.0, 26175573.0, 87290407.0, 36798243.0, 40362948.0, 89300625.0, 38121092.0, 36232656.0, 41227893.0, 39955884.0, 39285534.0, 34667311.0, 42711950.0, 27224295.0, 21690463.0, 35156450.0, 35488213.0, 87787211.0, 32491414.0, 29052699.0, 84445581.0, 85234680.0, 85325766.0, 19742002.0, 32426953.0, 36377395.0, 32215696.0, 29224331.0, 41160574.0, 21251468.0, 36791419.0, 25631963.0, 86727795.0, 36818812.0, 20827984.0, 33284279.0, 86008853.0]}, {\"stat_type\": \"categorical\", \"name\": \"encounter_class\", \"unique_values\": [\"Inpatient\", \"Recurring\", \"Emergency\", \"Other\", \"Outpatient\", \"Home Care\"]}, {\"stat_type\": \"categorical\", \"name\": \"encounter_type\", \"unique_values\": [\"Inpatient Acute\", \"MHAS - Residential\", \"MHAS - Acute Care\", \"Open Encounter\", \"Emergency\", \"Specimen\", \"Ambulatory\", \"Day Care\", \"Home Care\", \"Recurring/Series\"]}, {\"stat_type\": \"categorical\", \"name\": \"event_type\", \"unique_values\": [\"Encounter Only\", \"Surgery\", \"General Lab\", \"Radiology\", \"Diagnosis\", \"Micro\"]}, {\"stat_type\": \"categorical\", \"name\": \"event_title\", \"unique_values\": [\"Child, Youth & Family\", \"Mental Health\", \"NA\", \"Outpatient\", \"Surgery\", \"Medicine\", \"Laboratory\", \"Diagnostic Imaging\", \"Rehab\", \"Diseases of the digestive system\"]}, {\"stat_type\": \"categorical\", \"name\": \"event_detail\", \"unique_values\": [\"Maternity\", \"Adult Psychiatry\", \"NA\", \"Laboratory\", \"Medical Imaging\", \"Obstetrics\", \"Urology\", \"Colonoscopy (FIT Positive Yes CSP) SN\", \"Albumin Level\", \"ALT\", \"Bilirubin Total\", \"Complete Blood Count and Differential\", \"Confirmatory Hepatitis C Antibody\", \"Hepatitis C Antibody\", \"HIV Quantitative\", \"Potassium Level\", \"Protein Total\", \"Sodium Level\", \"xxAutomated Diff\", \"Hepatitis B Careset\", \"Alkaline Phosphatase\", \"Calcium Level\", \"Creatinine\", \"GGT\", \"Hepatitis A Antibody IgG\", \"Hepatitis B Core Antibody Total\", \"Hepatitis B Surface Antibody\", \"Hepatitis B Surface Antigen\", \"xxCD4\", \"CT Spine Lumbar w/o Contrast\", \"Outpatient\", \"Opthamology\", \"Acute Rehabilitation\", \"XR Tibia/Fibula Right\", \"Medicine Hospitalist\", \"Glucose Random\", \"INR\", \"Coag Panel Careset\", \"Macroscopic Urinalysis\", \"PTT\", \"Acute Hepatitis Careset\", \"Calcium Ionized Level\", \"Carbon Dioxide Total\", \"Chloride Level\", \"Hepatitis A Antibody IgM\", \"Magnesium Level\", \"Syphilis Serology\", \"Thyroid Stimulating Hormone\", \"xxCoagulation Hold Tube\", \"xxProtein Electrophoresis\", \"XR Chest 2 Views\", \"SI ED Basic Careset\", \"Anion Gap\", \"AST\", \"hCG Qualitative\", \"HIV Ag/Ab Combination Assay\", \"Lipase Level\", \"Protein Electrophoresis Careset\", \"HH ECG Electrocardiogram\", \"Medicine (Unspecified)\", \"XR Chest AP/PA 1 View\", \"MRI Spine Lumbar w/o Contrast\", \"Medicine Family Practice\", \"Surgery\", \"Pre-Admission Clinic\", \"Enterology\", \"Clinical Teaching Unit\", \"K42.9,  Umbilical hernia without obs or gangrene\", \"Plastic\", \"Medical Assessment\", \"CT Wrist w/o Contrast Left\", \"XR Wrist and Scaphoid Left\", \"XR Wrist Limited 2 Views Left\", \"Clinical Decision Unit\", \"Troponin T High Sensitivity\", \"Drug Screen Urine Qualitative\", \"xxMicroscopic Urinalysis\", \"Chem 7 Hem Careset\", \"Lactate Level\", \"Urine Culture\"]}, {\"stat_type\": \"categorical\", \"name\": \"event_year\", \"unique_values\": [2013.0, 2015.0, 2011.0, 2016.0, 2009.0, 2014.0, 2012.0, 2017.0, 2010.0, 2007.0]}, {\"stat_type\": \"categorical\", \"name\": \"event_month\", \"unique_values\": [1.0, 12.0, 6.0, 5.0, 7.0, 10.0, 4.0, 9.0, 11.0, 3.0, 2.0, 8.0]}, {\"stat_type\": \"realAdditive\", \"name\": \"start_day\"}, {\"stat_type\": \"realAdditive\", \"name\": \"end_day\"}, {\"stat_type\": \"realAdditive\", \"name\": \"duration_days\"}, {\"stat_type\": \"categorical\", \"name\": \"location_map_id\", \"unique_values\": [1673.0, 874.0, 903.0, 601.0, 1261.0, 2116.0, 1429.0, 807.0, 2230.0, 167.0, 2021.0, 1448.0, 139.0, 1582.0, 916.0, 1554.0, 1773.0, 1264.0, 1765.0, 1109.0, 483.0, 1853.0, 671.0, 1977.0, 227.0, 922.0, 1657.0, 388.0, 567.0, 718.0, 1514.0, 971.0, 520.0, 182.0, 1499.0, 251.0, 755.0, 1170.0, 1748.0, 1631.0, 595.0, 934.0, 768.0, 513.0, 1983.0, 766.0, 639.0, 2223.0, 1526.0, 243.0, 876.0, 1825.0, 787.0, 2232.0, 2180.0, 1177.0, 1487.0, 1612.0, 1181.0, 1810.0, 1819.0, 93.0, 209.0, 1611.0, 878.0, 34.0, 2076.0, 2038.0, 614.0, 1720.0, 296.0, 2125.0, 1032.0, 2119.0, 1723.0, 935.0, 132.0, 1490.0, 1365.0, 1718.0, 2035.0, 2190.0, 275.0, 947.0, 844.0, 2011.0, 390.0, 1601.0, 1408.0, 1033.0]}])"
      ],
      "text/plain": [
       "<IPython.core.display.Javascript object>"
      ]
     },
     "execution_count": 71,
     "metadata": {},
     "output_type": "execute_result"
    }
   ],
   "source": [
    "%%bql\n",
    ".interactive_pairplot --population=ehr_population \n",
    "SELECT\n",
    "\"event_year\",\n",
    "\"event_month\",\n",
    "\"end_day\",\n",
    "\"start_day\"\n",
    "FROM simulated_data"
   ]
  },
  {
   "cell_type": "code",
   "execution_count": null,
   "metadata": {
    "collapsed": true
   },
   "outputs": [],
   "source": []
  },
  {
   "cell_type": "code",
   "execution_count": 72,
   "metadata": {},
   "outputs": [
    {
     "data": {
      "application/javascript": [
       "function pairplot(df, schema) {\n",
       "  var myCell = element.is('.output_subarea') ? element : element.next();\n",
       "  if (typeof VizGPMReady === 'undefined') {\n",
       "    throw new Error('VizGPM Display Library not loaded')\n",
       "  }\n",
       "\n",
       "  var container = $('<div>')\n",
       "    .appendTo(myCell);\n",
       "\n",
       "  VizGPMReady.then(function(VizGPM) {\n",
       "    const _ = VizGPM._;\n",
       "\n",
       "    const SP = VizGPM.StateProperty\n",
       "\n",
       "    for (const col of schema) {\n",
       "      if (col.stat_type == 'numerical') {\n",
       "        col.stat_type = 'realAdditive';\n",
       "      }\n",
       "\n",
       "      if (col.stat_type == 'nominal') {\n",
       "        col.stat_type = 'categorical';\n",
       "      }\n",
       "    }\n",
       "\n",
       "    function rowProxy(__key) {\n",
       "      const obj = {__key};\n",
       "      for (const column of df.columns) {\n",
       "        obj[column] = df.data[__key].shift();\n",
       "      }\n",
       "      return obj;\n",
       "    }\n",
       "\n",
       "    const rows = [];\n",
       "    for(let index = 0; index < df.data.length; index++) {\n",
       "      rows.push(rowProxy(index));\n",
       "    }\n",
       "\n",
       "    var stateManager = new VizGPM.StateManager({\n",
       "      [SP.SCHEMA]: {columns: schema},\n",
       "      [SP.SELECTED_COLUMN_NAMES]: df.columns,\n",
       "      [SP.GET_COLUMN_FUNCTION]: col =>\n",
       "        VizGPM.GpmHandler.prototype._getColumn.call(stateManager, col),\n",
       "      [SP.DISPLAYED_ROWS]: rows,\n",
       "    });\n",
       "\n",
       "    const plot = new VizGPM.PairPlot({\n",
       "      root: container[0],\n",
       "      stateManager: stateManager,\n",
       "    });\n",
       "  })\n",
       "}\n",
       ";pairplot({\"columns\":[\"end_day\",\"start_day\",\"duration_days\"],\"index\":[0,1,2,3,4,5,6,7,8,9,10,11,12,13,14,15,16,17,18,19,20,21,22,23,24,25,26,27,28,29,30,31,32,33,34,35,36,37,38,39,40,41,42,43,44,45,46,47,48,49,50,51,52,53,54,55,56,57,58,59,60,61,62,63,64,65,66,67,68,69,70,71,72,73,74,75,76,77,78,79,80,81,82,83,84,85,86,87,88,89,90,91,92,93,94,95,96,97,98,99,100,101,102,103,104,105,106,107,108,109,110,111,112,113,114,115,116,117,118,119,120,121,122,123,124,125,126,127,128,129,130,131,132,133,134,135,136,137,138,139,140,141,142,143,144,145,146,147,148,149,150,151,152,153,154,155,156,157,158,159,160,161,162,163,164,165,166,167,168,169,170,171,172,173,174,175,176,177,178,179,180,181,182,183,184,185,186,187,188,189,190,191,192,193,194,195,196,197,198,199,200,201,202,203,204,205,206,207,208,209,210,211,212,213,214,215,216,217,218,219,220,221,222,223,224,225,226,227,228,229,230,231,232,233,234,235,236,237,238,239,240,241,242,243,244,245,246,247,248,249,250,251,252,253,254,255,256,257,258,259,260,261,262,263,264,265,266,267,268,269,270,271,272,273,274,275,276,277,278,279,280,281,282,283,284,285,286,287,288,289,290,291,292,293,294,295,296,297,298,299,300,301,302,303,304,305,306,307,308,309,310,311,312,313,314,315,316,317,318,319,320,321,322,323,324],\"data\":[[662.0,660.0,2.0],[1614.0,1594.0,20.0],[48.0,31.0,17.0],[165.0,11.0,154.0],[810.0,0.0,810.0],[1523.0,1517.0,6.0],[1298.0,1298.0,0.0],[132.0,132.0,0.0],[144.0,144.0,0.0],[677.0,670.0,7.0],[271.0,263.0,8.0],[1792.0,1757.0,35.0],[843.0,843.0,0.0],[469.0,468.0,1.0],[740.0,739.0,1.0],[689.0,688.0,1.0],[1137.0,1136.0,1.0],[180.0,179.0,1.0],[1015.0,1014.0,1.0],[534.0,534.0,0.0],[298.0,297.0,1.0],[658.0,657.0,1.0],[175.0,175.0,0.0],[1900.0,1899.0,1.0],[984.0,983.0,1.0],[1703.0,1702.0,1.0],[451.0,450.0,1.0],[3102.0,3102.0,0.0],[207.0,206.0,1.0],[1218.0,1217.0,1.0],[461.0,461.0,0.0],[517.0,517.0,0.0],[563.0,563.0,0.0],[1324.0,1324.0,0.0],[3136.0,2869.0,267.0],[1792.0,1792.0,0.0],[1792.0,1792.0,0.0],[1792.0,1792.0,0.0],[1792.0,1792.0,0.0],[1800.0,1793.0,7.0],[1793.0,1792.0,1.0],[1793.0,1792.0,1.0],[1792.0,1792.0,0.0],[1792.0,1792.0,0.0],[1792.0,1792.0,0.0],[1792.0,1792.0,0.0],[1793.0,1793.0,0.0],[1792.0,1792.0,0.0],[1792.0,1792.0,0.0],[1792.0,1792.0,0.0],[1792.0,1792.0,0.0],[1793.0,1793.0,0.0],[1793.0,1793.0,0.0],[1793.0,1793.0,0.0],[1793.0,1793.0,0.0],[1793.0,1792.0,1.0],[881.0,881.0,0.0],[386.0,384.0,2.0],[611.0,611.0,0.0],[1353.0,1353.0,0.0],[1484.0,1484.0,0.0],[889.0,889.0,0.0],[2626.0,1435.0,1191.0],[799.0,301.0,498.0],[787.0,787.0,0.0],[70.0,70.0,0.0],[460.0,460.0,0.0],[607.0,607.0,0.0],[1053.0,1053.0,0.0],[1127.0,1126.0,1.0],[591.0,591.0,0.0],[527.0,527.0,0.0],[575.0,574.0,1.0],[2711.0,2711.0,0.0],[1490.0,1489.0,1.0],[894.0,893.0,1.0],[1120.0,1120.0,0.0],[1285.0,1285.0,0.0],[2013.0,2012.0,1.0],[1380.0,1380.0,0.0],[1867.0,1866.0,1.0],[732.0,731.0,1.0],[2194.0,2193.0,1.0],[2178.0,498.0,1680.0],[871.0,871.0,0.0],[2073.0,2073.0,0.0],[1271.0,1271.0,0.0],[1840.0,1839.0,1.0],[0.0,0.0,0.0],[1061.0,1061.0,0.0],[1760.0,1760.0,0.0],[142.0,142.0,0.0],[1667.0,1471.0,196.0],[2352.0,2324.0,28.0],[63.0,0.0,63.0],[560.0,500.0,60.0],[1562.0,1562.0,0.0],[381.0,381.0,0.0],[1814.0,1813.0,1.0],[2162.0,2162.0,0.0],[924.0,924.0,0.0],[1080.0,1079.0,1.0],[2069.0,2068.0,1.0],[2069.0,2068.0,1.0],[2069.0,2068.0,1.0],[2069.0,2068.0,1.0],[2068.0,2068.0,0.0],[2069.0,2068.0,1.0],[2069.0,2069.0,0.0],[1492.0,1492.0,0.0],[1492.0,1492.0,0.0],[1492.0,1492.0,0.0],[1492.0,1492.0,0.0],[1492.0,1492.0,0.0],[1491.0,1491.0,0.0],[1491.0,1491.0,0.0],[1492.0,1492.0,0.0],[1492.0,1492.0,0.0],[1491.0,1491.0,0.0],[1491.0,1491.0,0.0],[1492.0,1492.0,0.0],[1491.0,1491.0,0.0],[1493.0,1492.0,1.0],[1492.0,1492.0,0.0],[1491.0,1491.0,0.0],[1492.0,1492.0,0.0],[1491.0,1491.0,0.0],[1493.0,1492.0,1.0],[1492.0,1492.0,0.0],[1491.0,1491.0,0.0],[1492.0,1492.0,0.0],[1491.0,1491.0,0.0],[1491.0,1491.0,0.0],[1492.0,1492.0,0.0],[1491.0,1491.0,0.0],[1491.0,1491.0,0.0],[1492.0,1492.0,0.0],[1491.0,1491.0,0.0],[1491.0,1491.0,0.0],[1492.0,1492.0,0.0],[1492.0,1492.0,0.0],[1492.0,1492.0,0.0],[1492.0,1492.0,0.0],[1492.0,1492.0,0.0],[1492.0,1492.0,0.0],[1493.0,1492.0,1.0],[1494.0,1491.0,3.0],[632.0,632.0,0.0],[1153.0,1153.0,0.0],[1686.0,1686.0,0.0],[1148.0,1148.0,0.0],[296.0,278.0,18.0],[345.0,345.0,0.0],[1497.0,1497.0,0.0],[2741.0,2741.0,0.0],[1687.0,1687.0,0.0],[1633.0,1633.0,0.0],[1421.0,1421.0,0.0],[290.0,290.0,0.0],[964.0,964.0,0.0],[0.0,0.0,0.0],[210.0,210.0,0.0],[5.0,5.0,0.0],[1349.0,1349.0,0.0],[1906.0,1906.0,0.0],[1153.0,1153.0,0.0],[510.0,510.0,0.0],[1665.0,1633.0,32.0],[889.0,889.0,0.0],[2653.0,2622.0,31.0],[1253.0,1253.0,0.0],[3773.0,3092.0,681.0],[1366.0,1360.0,6.0],[653.0,647.0,6.0],[1811.0,1796.0,15.0],[1766.0,1758.0,8.0],[445.0,445.0,0.0],[1052.0,1052.0,0.0],[18.0,8.0,10.0],[941.0,931.0,10.0],[1481.0,1481.0,0.0],[810.0,810.0,0.0],[770.0,770.0,0.0],[572.0,572.0,0.0],[1054.0,1000.0,54.0],[158.0,157.0,1.0],[1731.0,1731.0,0.0],[18.0,16.0,2.0],[876.0,873.0,3.0],[112.0,112.0,0.0],[646.0,646.0,0.0],[1369.0,1369.0,0.0],[1975.0,1975.0,0.0],[1206.0,35.0,1171.0],[862.0,822.0,40.0],[1171.0,688.0,483.0],[2003.0,1999.0,4.0],[1617.0,1617.0,0.0],[2328.0,2328.0,0.0],[2379.0,2377.0,2.0],[2628.0,2137.0,491.0],[1118.0,936.0,182.0],[1531.0,1524.0,7.0],[1709.0,1708.0,1.0],[1708.0,1708.0,0.0],[1709.0,1708.0,1.0],[258.0,258.0,0.0],[275.0,275.0,0.0],[876.0,876.0,0.0],[2842.0,2842.0,0.0],[1353.0,1351.0,2.0],[1574.0,1574.0,0.0],[2103.0,2103.0,0.0],[1713.0,1713.0,0.0],[2015.0,2015.0,0.0],[391.0,390.0,1.0],[2199.0,2119.0,80.0],[998.0,973.0,25.0],[4402.0,4402.0,0.0],[891.0,891.0,0.0],[561.0,561.0,0.0],[536.0,429.0,107.0],[1807.0,898.0,909.0],[636.0,632.0,4.0],[1896.0,1896.0,0.0],[0.0,0.0,0.0],[1407.0,1407.0,0.0],[2670.0,2670.0,0.0],[1385.0,1385.0,0.0],[244.0,243.0,1.0],[760.0,691.0,69.0],[1449.0,1449.0,0.0],[311.0,309.0,2.0],[1045.0,1045.0,0.0],[3548.0,3548.0,0.0],[1115.0,1115.0,0.0],[2708.0,2708.0,0.0],[2708.0,2708.0,0.0],[2708.0,2708.0,0.0],[2708.0,2708.0,0.0],[2708.0,2708.0,0.0],[2708.0,2708.0,0.0],[2708.0,2708.0,0.0],[2708.0,2708.0,0.0],[2708.0,2708.0,0.0],[2708.0,2708.0,0.0],[2708.0,2708.0,0.0],[2709.0,2708.0,1.0],[2708.0,2708.0,0.0],[2708.0,2708.0,0.0],[2708.0,2708.0,0.0],[2708.0,2708.0,0.0],[2708.0,2708.0,0.0],[2708.0,2708.0,0.0],[2708.0,2708.0,0.0],[2708.0,2708.0,0.0],[2708.0,2708.0,0.0],[1615.0,1615.0,0.0],[474.0,474.0,0.0],[1410.0,1410.0,0.0],[902.0,899.0,3.0],[1328.0,1328.0,0.0],[1328.0,1328.0,0.0],[1328.0,1328.0,0.0],[233.0,231.0,2.0],[1371.0,1368.0,3.0],[498.0,493.0,5.0],[333.0,303.0,30.0],[1039.0,1038.0,1.0],[271.0,0.0,271.0],[1456.0,1449.0,7.0],[935.0,928.0,7.0],[659.0,653.0,6.0],[1401.0,1399.0,2.0],[387.0,387.0,0.0],[1198.0,1198.0,0.0],[2024.0,2024.0,0.0],[2024.0,2024.0,0.0],[2024.0,2024.0,0.0],[2024.0,2024.0,0.0],[2024.0,2024.0,0.0],[2024.0,2024.0,0.0],[2024.0,2024.0,0.0],[2024.0,2024.0,0.0],[2024.0,2024.0,0.0],[2024.0,2024.0,0.0],[2024.0,2024.0,0.0],[2024.0,2024.0,0.0],[2024.0,2024.0,0.0],[2024.0,2024.0,0.0],[2024.0,2024.0,0.0],[2025.0,2025.0,0.0],[65.0,65.0,0.0],[88.0,88.0,0.0],[777.0,777.0,0.0],[230.0,230.0,0.0],[601.0,601.0,0.0],[418.0,418.0,0.0],[867.0,867.0,0.0],[1195.0,1195.0,0.0],[1328.0,1328.0,0.0],[328.0,328.0,0.0],[586.0,586.0,0.0],[1853.0,1853.0,0.0],[1853.0,1853.0,0.0],[1855.0,1853.0,2.0],[285.0,285.0,0.0],[1074.0,1074.0,0.0],[1680.0,1680.0,0.0],[1665.0,1665.0,0.0],[1341.0,1341.0,0.0],[3482.0,0.0,3482.0],[0.0,0.0,0.0],[41.0,41.0,0.0],[577.0,577.0,0.0],[1394.0,1394.0,0.0],[382.0,382.0,0.0],[1513.0,1513.0,0.0],[302.0,302.0,0.0],[1208.0,1208.0,0.0],[1429.0,1422.0,7.0],[342.0,321.0,21.0],[596.0,574.0,22.0],[37.0,0.0,37.0],[1399.0,1399.0,0.0]]},[{\"stat_type\": \"categorical\", \"name\": \"id\", \"unique_values\": [\"1AB5C92\", \"977D203\", \"102DBC2\", \"C9B9133\", \"DC2302\", \"1A491A2\", \"8A1A543\", \"9A51A2\", \"7C1DB2\", \"2D98203\"]}, {\"stat_type\": \"categorical\", \"name\": \"gender\", \"unique_values\": [\"Female\", \"Male\"]}, {\"stat_type\": \"categorical\", \"name\": \"age_group\", \"unique_values\": [\"25 - 29\", \"45 - 49\", \"35 - 39\", \"60 - 64\", \"20 - 24\", \"50 - 54\", \"30 - 34\"]}, {\"stat_type\": \"categorical\", \"name\": \"encounter_id\", \"unique_values\": [42230255.0, 20125520.0, 36191729.0, 86996036.0, 55289445.0, 22083062.0, 29334171.0, 47136843.0, 33977348.0, 40405740.0, 41872894.0, 91664860.0, 39944218.0, 26276423.0, 40734987.0, 91674350.0, 35738526.0, 30060555.0, 25512557.0, 44186773.0, 36011436.0, 40274284.0, 31296668.0, 90188218.0, 20461999.0, 87120526.0, 43912921.0, 39756628.0, 37852481.0, 30357039.0, 37657794.0, 37587106.0, 42904960.0, 24929450.0, 88228925.0, 85708971.0, 29723724.0, 89048614.0, 45082180.0, 28544502.0, 88058166.0, 30326126.0, 19886380.0, 41529325.0, 20286984.0, 34530491.0, 34125343.0, 39225226.0, 29798796.0, 25439078.0, 41652293.0, 39815674.0, 29026413.0, 92068717.0, 24130052.0, 39174510.0, 29483966.0, 27393990.0, 91928883.0, 23424929.0, 88162301.0, 47202901.0, 91795528.0, 19818896.0, 25763847.0, 23860943.0, 28892619.0, 42143083.0, 43901372.0, 30575337.0, 92016369.0, 47012732.0, 29904969.0, 20015383.0, 33889837.0, 43294412.0, 24683873.0, 31467193.0, 87224056.0, 88001591.0, 25912238.0, 28224980.0, 87256532.0, 90640891.0, 42528226.0, 28765572.0, 37119780.0, 30202859.0, 92020489.0, 37988510.0, 28595579.0, 27196698.0, 25603783.0, 27512904.0, 30757601.0, 41491822.0, 42786155.0, 34221331.0, 32239042.0, 89758041.0, 22212730.0, 90629691.0, 35317685.0, 42685709.0, 85807367.0, 41113956.0, 26506596.0, 19975582.0, 29464770.0, 42338195.0, 20731114.0, 85331556.0, 34856946.0, 88451864.0, 31006937.0, 28264626.0, 84937891.0, 39264334.0, 37683060.0, 32201838.0, 30566397.0, 31633093.0, 36561033.0, 21553673.0, 45835799.0, 33446252.0, 42856468.0, 22075076.0, 89323079.0, 45560123.0, 45272228.0, 37874802.0, 88804502.0, 25133798.0, 91843985.0, 29166871.0, 84914188.0, 23333686.0, 22979819.0, 85733822.0, 33479887.0, 25124039.0, 35278510.0, 30130758.0, 86351658.0, 25101449.0, 23561737.0, 22902542.0, 91976820.0, 44110092.0, 91041652.0, 26746532.0, 88670467.0, 30083439.0, 43273238.0, 33598889.0, 19902049.0, 40058241.0, 85256547.0, 34290077.0, 20811117.0, 91574104.0, 22285096.0, 34289143.0, 41183554.0, 22323452.0, 27356692.0, 28762329.0, 42018847.0, 27505084.0, 87456582.0, 21391361.0, 42063635.0, 21080102.0, 27938824.0, 85808290.0, 30923138.0, 21515321.0, 41019519.0, 36546008.0, 30333420.0, 52766112.0, 22751968.0, 44098621.0, 26175573.0, 87290407.0, 36798243.0, 40362948.0, 89300625.0, 38121092.0, 36232656.0, 41227893.0, 39955884.0, 39285534.0, 34667311.0, 42711950.0, 27224295.0, 21690463.0, 35156450.0, 35488213.0, 87787211.0, 32491414.0, 29052699.0, 84445581.0, 85234680.0, 85325766.0, 19742002.0, 32426953.0, 36377395.0, 32215696.0, 29224331.0, 41160574.0, 21251468.0, 36791419.0, 25631963.0, 86727795.0, 36818812.0, 20827984.0, 33284279.0, 86008853.0]}, {\"stat_type\": \"categorical\", \"name\": \"encounter_class\", \"unique_values\": [\"Inpatient\", \"Recurring\", \"Emergency\", \"Other\", \"Outpatient\", \"Home Care\"]}, {\"stat_type\": \"categorical\", \"name\": \"encounter_type\", \"unique_values\": [\"Inpatient Acute\", \"MHAS - Residential\", \"MHAS - Acute Care\", \"Open Encounter\", \"Emergency\", \"Specimen\", \"Ambulatory\", \"Day Care\", \"Home Care\", \"Recurring/Series\"]}, {\"stat_type\": \"categorical\", \"name\": \"event_type\", \"unique_values\": [\"Encounter Only\", \"Surgery\", \"General Lab\", \"Radiology\", \"Diagnosis\", \"Micro\"]}, {\"stat_type\": \"categorical\", \"name\": \"event_title\", \"unique_values\": [\"Child, Youth & Family\", \"Mental Health\", \"NA\", \"Outpatient\", \"Surgery\", \"Medicine\", \"Laboratory\", \"Diagnostic Imaging\", \"Rehab\", \"Diseases of the digestive system\"]}, {\"stat_type\": \"categorical\", \"name\": \"event_detail\", \"unique_values\": [\"Maternity\", \"Adult Psychiatry\", \"NA\", \"Laboratory\", \"Medical Imaging\", \"Obstetrics\", \"Urology\", \"Colonoscopy (FIT Positive Yes CSP) SN\", \"Albumin Level\", \"ALT\", \"Bilirubin Total\", \"Complete Blood Count and Differential\", \"Confirmatory Hepatitis C Antibody\", \"Hepatitis C Antibody\", \"HIV Quantitative\", \"Potassium Level\", \"Protein Total\", \"Sodium Level\", \"xxAutomated Diff\", \"Hepatitis B Careset\", \"Alkaline Phosphatase\", \"Calcium Level\", \"Creatinine\", \"GGT\", \"Hepatitis A Antibody IgG\", \"Hepatitis B Core Antibody Total\", \"Hepatitis B Surface Antibody\", \"Hepatitis B Surface Antigen\", \"xxCD4\", \"CT Spine Lumbar w/o Contrast\", \"Outpatient\", \"Opthamology\", \"Acute Rehabilitation\", \"XR Tibia/Fibula Right\", \"Medicine Hospitalist\", \"Glucose Random\", \"INR\", \"Coag Panel Careset\", \"Macroscopic Urinalysis\", \"PTT\", \"Acute Hepatitis Careset\", \"Calcium Ionized Level\", \"Carbon Dioxide Total\", \"Chloride Level\", \"Hepatitis A Antibody IgM\", \"Magnesium Level\", \"Syphilis Serology\", \"Thyroid Stimulating Hormone\", \"xxCoagulation Hold Tube\", \"xxProtein Electrophoresis\", \"XR Chest 2 Views\", \"SI ED Basic Careset\", \"Anion Gap\", \"AST\", \"hCG Qualitative\", \"HIV Ag/Ab Combination Assay\", \"Lipase Level\", \"Protein Electrophoresis Careset\", \"HH ECG Electrocardiogram\", \"Medicine (Unspecified)\", \"XR Chest AP/PA 1 View\", \"MRI Spine Lumbar w/o Contrast\", \"Medicine Family Practice\", \"Surgery\", \"Pre-Admission Clinic\", \"Enterology\", \"Clinical Teaching Unit\", \"K42.9,  Umbilical hernia without obs or gangrene\", \"Plastic\", \"Medical Assessment\", \"CT Wrist w/o Contrast Left\", \"XR Wrist and Scaphoid Left\", \"XR Wrist Limited 2 Views Left\", \"Clinical Decision Unit\", \"Troponin T High Sensitivity\", \"Drug Screen Urine Qualitative\", \"xxMicroscopic Urinalysis\", \"Chem 7 Hem Careset\", \"Lactate Level\", \"Urine Culture\"]}, {\"stat_type\": \"categorical\", \"name\": \"event_year\", \"unique_values\": [2013.0, 2015.0, 2011.0, 2016.0, 2009.0, 2014.0, 2012.0, 2017.0, 2010.0, 2007.0]}, {\"stat_type\": \"categorical\", \"name\": \"event_month\", \"unique_values\": [1.0, 12.0, 6.0, 5.0, 7.0, 10.0, 4.0, 9.0, 11.0, 3.0, 2.0, 8.0]}, {\"stat_type\": \"realAdditive\", \"name\": \"start_day\"}, {\"stat_type\": \"realAdditive\", \"name\": \"end_day\"}, {\"stat_type\": \"realAdditive\", \"name\": \"duration_days\"}, {\"stat_type\": \"categorical\", \"name\": \"location_map_id\", \"unique_values\": [1673.0, 874.0, 903.0, 601.0, 1261.0, 2116.0, 1429.0, 807.0, 2230.0, 167.0, 2021.0, 1448.0, 139.0, 1582.0, 916.0, 1554.0, 1773.0, 1264.0, 1765.0, 1109.0, 483.0, 1853.0, 671.0, 1977.0, 227.0, 922.0, 1657.0, 388.0, 567.0, 718.0, 1514.0, 971.0, 520.0, 182.0, 1499.0, 251.0, 755.0, 1170.0, 1748.0, 1631.0, 595.0, 934.0, 768.0, 513.0, 1983.0, 766.0, 639.0, 2223.0, 1526.0, 243.0, 876.0, 1825.0, 787.0, 2232.0, 2180.0, 1177.0, 1487.0, 1612.0, 1181.0, 1810.0, 1819.0, 93.0, 209.0, 1611.0, 878.0, 34.0, 2076.0, 2038.0, 614.0, 1720.0, 296.0, 2125.0, 1032.0, 2119.0, 1723.0, 935.0, 132.0, 1490.0, 1365.0, 1718.0, 2035.0, 2190.0, 275.0, 947.0, 844.0, 2011.0, 390.0, 1601.0, 1408.0, 1033.0]}])"
      ],
      "text/plain": [
       "<IPython.core.display.Javascript object>"
      ]
     },
     "execution_count": 72,
     "metadata": {},
     "output_type": "execute_result"
    }
   ],
   "source": [
    "%%bql\n",
    ".interactive_pairplot --population=ehr_population \n",
    "SELECT\n",
    "\"end_day\",\n",
    "\"start_day\",\n",
    "\"duration_days\"\n",
    "FROM ds"
   ]
  },
  {
   "cell_type": "code",
   "execution_count": 56,
   "metadata": {
    "scrolled": false
   },
   "outputs": [
    {
     "data": {
      "application/javascript": [
       "function pairplot(df, schema) {\n",
       "  var myCell = element.is('.output_subarea') ? element : element.next();\n",
       "  if (typeof VizGPMReady === 'undefined') {\n",
       "    throw new Error('VizGPM Display Library not loaded')\n",
       "  }\n",
       "\n",
       "  var container = $('<div>')\n",
       "    .appendTo(myCell);\n",
       "\n",
       "  VizGPMReady.then(function(VizGPM) {\n",
       "    const _ = VizGPM._;\n",
       "\n",
       "    const SP = VizGPM.StateProperty\n",
       "\n",
       "    for (const col of schema) {\n",
       "      if (col.stat_type == 'numerical') {\n",
       "        col.stat_type = 'realAdditive';\n",
       "      }\n",
       "\n",
       "      if (col.stat_type == 'nominal') {\n",
       "        col.stat_type = 'categorical';\n",
       "      }\n",
       "    }\n",
       "\n",
       "    function rowProxy(__key) {\n",
       "      const obj = {__key};\n",
       "      for (const column of df.columns) {\n",
       "        obj[column] = df.data[__key].shift();\n",
       "      }\n",
       "      return obj;\n",
       "    }\n",
       "\n",
       "    const rows = [];\n",
       "    for(let index = 0; index < df.data.length; index++) {\n",
       "      rows.push(rowProxy(index));\n",
       "    }\n",
       "\n",
       "    var stateManager = new VizGPM.StateManager({\n",
       "      [SP.SCHEMA]: {columns: schema},\n",
       "      [SP.SELECTED_COLUMN_NAMES]: df.columns,\n",
       "      [SP.GET_COLUMN_FUNCTION]: col =>\n",
       "        VizGPM.GpmHandler.prototype._getColumn.call(stateManager, col),\n",
       "      [SP.DISPLAYED_ROWS]: rows,\n",
       "    });\n",
       "\n",
       "    const plot = new VizGPM.PairPlot({\n",
       "      root: container[0],\n",
       "      stateManager: stateManager,\n",
       "    });\n",
       "  })\n",
       "}\n",
       ";pairplot({\"columns\":[\"end_day\",\"start_day\",\"duration_days\"],\"index\":[0,1,2,3,4,5,6,7,8,9,10,11,12,13,14,15,16,17,18,19,20,21,22,23,24,25,26,27,28,29,30,31,32,33,34,35,36,37,38,39,40,41,42,43,44,45,46,47,48,49,50,51,52,53,54,55,56,57,58,59,60,61,62,63,64,65,66,67,68,69,70,71,72,73,74,75,76,77,78,79,80,81,82,83,84,85,86,87,88,89,90,91,92,93,94,95,96,97,98,99,100,101,102,103,104,105,106,107,108,109,110,111,112,113,114,115,116,117,118,119,120,121,122,123,124,125,126,127,128,129,130,131,132,133,134,135,136,137,138,139,140,141,142,143,144,145,146,147,148,149,150,151,152,153,154,155,156,157,158,159,160,161,162,163,164,165,166,167,168,169,170,171,172,173,174,175,176,177,178,179,180,181,182,183,184,185,186,187,188,189,190,191,192,193,194,195,196,197,198,199,200,201,202,203,204,205,206,207,208,209,210,211,212,213,214,215,216,217,218,219,220,221,222,223,224,225,226,227,228,229,230,231,232,233,234,235,236,237,238,239,240,241,242,243,244,245,246,247,248,249,250,251,252,253,254,255,256,257,258,259,260,261,262,263,264,265,266,267,268,269,270,271,272,273,274,275,276,277,278,279,280,281,282,283,284,285,286,287,288,289,290,291,292,293,294,295,296,297,298,299,300,301,302,303,304,305,306,307,308,309,310,311,312,313,314,315,316,317,318,319,320,321,322,323,324],\"data\":[[1907.1698062798,3207.9804339775,-3.5896423676],[1692.1945212902,1298.7172195132,6.5627880583],[1465.5367489777,523.6555849431,15.0216379389],[785.7979907241,1527.4239467775,22.5895844542],[2122.9156023271,243.5951791058,-21.0573228012],[1665.4761514394,1310.3305285404,30.0348065267],[2393.3678830766,1446.6445715057,9.5677562299],[249.0958033279,1718.7671847265,-0.0165205896],[2398.1501308683,1014.8651361833,3.0519323233],[817.0152286883,87.2192325112,38.7596973821],[1443.7503435527,-667.2712084796,-43.0531872584],[613.9309548847,1488.5911475244,-12.6067037477],[1140.3042445193,1127.6966615262,-8.4495305365],[1493.987017915,2021.5215893298,-1.005943814],[1582.7053217149,2046.0589574805,-5.5299204173],[1416.7250955953,1420.4158935863,2.7283736533],[651.671414069,1231.6991156708,45.1031182894],[1808.0753781359,1827.7043917167,23.1991118655],[1208.9624613747,884.4967186041,29.1429349545],[2199.5286829571,1706.2283473955,17.4677000833],[1628.4011256739,2367.8588528812,7.292134927],[1474.6473804881,2385.8989369705,-13.1034911372],[1758.6012301252,984.0553848656,6.1853376415],[1683.8923295402,1894.8458832394,0.3796872847],[1583.7299020968,1952.2887813668,5.9193038897],[932.940364225,1946.9830169656,-9.7149099314],[1133.7483101223,1017.5888391551,-6.6901024422],[1259.4972269505,1689.6988901909,-14.6541425171],[43.4769461621,1888.3921144078,29.9447543985],[312.837189886,1559.3448433072,-10.1528835596],[1035.3906007504,2425.1158438548,23.7592699722],[1886.8002702654,1601.507187228,5.6759067287],[1497.9963929205,1387.118162807,10.8813897105],[927.7017716893,2399.7355325446,-28.0632925449],[2067.6760766438,1658.0864603865,-44.9237488796],[2122.9910328656,1420.8272727348,15.6062599723],[1365.8530031824,777.6533555587,14.5293246796],[1904.2500786203,1468.9853259671,13.2638836265],[2171.3248740616,2498.9326391664,-7.1179396477],[1793.9515327385,1918.0070966512,-34.4519392244],[1374.8501023076,2040.1528202086,24.2994829265],[1502.3506853608,868.4105743923,8.2914844005],[1898.4283427256,923.82668185,11.0252906195],[1369.5988855241,2337.1701383953,-21.2728699503],[1447.467202942,432.0117479044,-0.3969355893],[-293.7221266945,892.0810188887,22.3494488019],[1860.7809322451,1541.0848756409,-3.8047775606],[631.8820037903,495.1103584161,11.9799340629],[463.0377991446,673.7709225075,45.6839447946],[1556.4888112315,1372.6212618092,-1.1109965723],[882.0735456068,339.5520639557,9.1975144438],[921.3713742943,964.1557225691,46.5890303912],[1117.0396902371,326.9970764866,-6.2432643822],[2179.0645001389,1334.2870970552,100.2682601458],[926.7000892952,822.5420504018,25.2356762586],[743.861096153,97.9586607447,-47.0479524106],[1845.5632227032,432.5516403269,-97.7222126523],[1052.6773391679,393.6524383442,29.1420412633],[1512.9929595415,935.9576276533,-17.9011737834],[-583.9673200813,1104.5275726635,-2.2597924142],[2382.2263606165,1438.8070014116,-28.2008387771],[1380.0121382434,723.6051516731,56.6841149132],[1370.9679531693,821.3139383883,54.1061213911],[1660.362444524,1729.5694282732,17.2439322165],[1014.8755746476,1521.6062941503,26.1606453475],[1137.6417548562,1237.7133592423,26.4599404833],[926.9743616286,1808.3586102254,5.9731680456],[898.6647975482,52.6184080986,2.4330352571],[1333.5841570218,2416.7601730959,-9.9429733631],[2093.4540000723,1493.6184966681,-12.2120319177],[2452.7193047191,719.0556454335,-0.0159422003],[628.2535970336,1098.651957938,1.9346851949],[1817.2547115863,2747.8530212011,-35.4650384531],[334.7211611338,510.2559625246,9.4279356968],[1608.11123773,1691.9667453013,-9.8593534653],[1710.9484462042,2031.5031565983,-16.2719439701],[2258.0403350476,2998.2504428211,-27.0104024857],[976.0528292499,439.5767790462,-7.1036955264],[1319.0432766768,974.3770934599,-33.871631365],[1333.3777024429,1434.9626973202,10.2977309138],[2081.6261701691,1125.1875691387,10.7956071952],[1650.6990921713,2121.2197178028,-2.0995889355],[1743.929581459,1121.1700604636,-0.6011516454],[1375.7918809397,992.878223824,15.1932835967],[2317.3645011244,1391.9291688325,-29.4376495829],[66.7475790222,-50.5223347726,-18.732712231],[2442.9893687664,1949.1670367269,-24.8894128274],[1548.971496616,2648.6485576522,2.875764131],[1818.9985009228,2024.604124758,-32.3212926646],[1330.0869781538,1292.0219003342,-19.7545559705],[-54.5582395693,1033.4912504405,-2.8500218916],[601.5253378834,1239.9181818323,-20.0656595905],[708.5433789662,1814.3547866649,1.2056727906],[2456.7700496998,2297.6305060812,-6.796771315],[2157.635567837,1744.1845076811,-34.7366203159],[58.7343778555,454.6202007366,7.0817106975],[1286.6659072109,-363.1234499399,4.0630125569],[1167.9930672741,1113.427235095,8.4487477649],[1666.4741721208,1947.211819429,51.2590913037],[2347.6105670807,1227.4609952299,-10.427077786],[1202.6989112292,67.3658825389,15.0992264377],[1755.6628649926,73.9683691873,-2.5014352435],[1276.414696593,1655.3909116084,-0.2151025634],[1245.6163255553,748.9893019186,7.6538826661],[1138.2831842955,-281.5174304669,22.7126047891],[1539.0670213879,1825.4668095571,-7.3540946823],[1591.3351612451,1261.3925199417,4.9391286626],[1553.9721462023,2274.9810532187,31.3371867727],[1875.0954460833,1545.9500483835,-3.1973587465],[1397.0782448252,1643.4284817387,-19.0156190902],[2283.7521089853,2733.1054189094,-8.7935601118],[2281.9080560563,1920.8918885654,4.6009558047],[985.5834841539,623.5717212052,51.0363866432],[1516.9218122268,1305.8741152805,15.6780442995],[1515.6565295423,234.1980072237,-5.8641871225],[844.8335410747,442.4227197201,14.9998017982],[850.8285253882,677.2641273849,10.0453989629],[412.2382646483,770.0814875238,13.8323778752],[651.9894182279,-74.159683692,-16.9977909719],[2146.2439482265,1402.422795719,3.8568782278],[1665.1785733354,2544.5588885913,-15.2704235171],[1624.5784157243,1206.7567805833,6.7044013796],[2943.2747517845,2523.6259662657,-16.0664191784],[1242.8085733763,1662.6452218781,543.5624193095],[2462.492805207,951.0488124883,-22.1858342007],[1237.662965593,1935.1294937428,-11.2203596567],[2420.5151417614,398.5088219683,-2.1126510943],[1042.9964447053,-110.6930023278,67.4526968653],[330.0927553389,393.2334472733,226.292782088],[1284.3071682296,818.5354406401,13.5555783968],[859.9769954448,1557.9072066505,-14.7467286351],[3135.8644768982,2419.9622449974,-28.8514105084],[1144.9056490157,2064.8188331906,-7.9964110796],[507.3076858368,420.5549085879,5.4323369776],[757.9541310733,548.3672627082,-29.0712717356],[1920.3156206832,2740.0922073796,-10.2184217017],[-259.7748283376,521.9496779796,64.0916842963],[1699.9099652708,754.5906766134,-9.7828184361],[1977.2195558224,904.7988004652,462.5337658041],[2764.5439783876,1716.1790841789,-44.3691429444],[673.9953343641,990.7455678059,29.4655301518],[2107.9134749425,1012.7750520033,868.3525847044],[2140.193404062,358.0864575637,-7.9117161664],[830.4759305917,2350.0714839458,-7.0777044004],[1634.6542339318,419.8016206997,33.0873031796],[1414.8556899684,2228.0798427788,15.2238598412],[1414.3479746447,1489.6967222569,32.2959275036],[1352.916930037,263.2364830874,6.2544363768],[1444.4794269349,981.7645603222,0.6904392718],[1977.9668574631,2014.4257401905,-11.3623070715],[2568.9044911503,1731.5093573611,-7.3663594847],[1511.7932898347,1785.8682423034,-9.2917396352],[-1098.3244115662,1878.5847291489,46.6193898165],[1757.1756175574,990.713823191,-0.5428315626],[1726.2663524238,983.7705622287,-46.2278017459],[1075.7137072667,851.8787529428,13.6677848932],[609.4556070961,754.1373133709,2.3896117627],[1146.6632450511,308.8261870487,73.2786260003],[1170.8701493625,1172.6211856303,30.2186529961],[1073.5022940554,499.252596404,17.6900124665],[1794.5496971604,1433.8146238654,-0.1031329807],[394.1881871238,247.5755811193,39.3878620872],[1111.6827771502,-611.9535817381,44.6121496847],[1845.9293207306,798.9355752539,-14.3428055086],[1914.9775891854,2528.6421134214,8.5472909153],[1402.6476757259,2340.043383308,11.6786732717],[2470.5359032539,1611.4236486047,-9.062117103],[800.1271360392,1329.5203235389,-4.4750761405],[1082.2088928963,225.1218514782,31.3647781114],[2882.0986652281,1810.2767982572,2.7419377346],[2133.189427331,1916.1920855923,28.7807931491],[190.7777109439,990.9754602445,-12.686278952],[-30.6925433198,540.3941959966,8.3898690429],[644.0684668004,1091.8682715319,19.0112776431],[1386.9114672649,1272.2647550466,202.8145578749],[1161.9815609537,1450.213872595,-9.2547178169],[528.5334631066,296.4681987366,-17.1844937549],[1554.3787167528,1895.9621586616,13.5419409674],[1451.8374945362,2358.4354183799,-21.6993664746],[1232.8009950709,-346.9143216477,41.3887371104],[1112.1996709881,1171.5792909039,36.1297621597],[1799.1446678459,1412.6584381173,19.4573830139],[2123.0184507727,1852.4868731709,-5.9196588342],[-38.8970298096,774.0931744307,-2.3448181081],[1047.82532293,1303.9023307186,-5.5956669074],[520.435418454,1400.2672496312,63.4187343606],[2049.4072304056,863.8582776321,14.9164698584],[64.4355602338,811.005680882,6.7128968363],[2002.1128133536,673.2980478908,-39.0305715044],[693.5015718055,1321.9167550235,211.5416373972],[1848.4036617563,1286.7847574452,27.3579518356],[-110.1836632675,583.0483431339,0.2020180942],[1774.6775954477,2052.715218004,2.7332311307],[2220.6461704199,1387.1541509231,9.776457749],[2567.8633286569,1543.4633148381,54.9934696561],[558.8537787126,2317.6926567259,6.3167921923],[1733.0672240471,1787.4544432787,31.4455927783],[1470.7342116492,-365.0595335931,34.778904279],[1604.0077276758,1281.4627122615,10.6648922454],[1649.5589227471,1846.6254172931,7.0293978629],[964.11436197,212.2958976502,43.5819345075],[1544.3019642348,391.8447482782,-5.2209070183],[466.1842158363,989.6009694668,-1.2148938038],[2162.6461894394,1408.634880914,36.9831276119],[1131.6808447252,261.7679983749,3.6352624069],[685.5317190727,1268.4582435705,5.3982052658],[1039.8176039049,1151.6440318717,30.4006119985],[506.0401341762,418.8883478842,30.3814377352],[1132.8153407059,2333.6542586362,20.4479394187],[851.3947992524,2054.4587771324,8.6209630361],[1562.5096694202,219.3022885552,9.2358073256],[1645.12538357,1917.3690418398,-20.4434014172],[1115.3538387055,1949.7227193803,18.0038289504],[1608.0942288292,933.5931551409,3462.5678521517],[3125.4973518617,2433.5152936578,546.2951517907],[1453.3256855397,1426.1500619329,-11.1402510093],[1062.6219624702,-168.0516323542,-5.8364237972],[592.7562662556,1084.3811615334,15.3671120236],[1135.1742976505,462.6097242681,-8.0396026508],[-380.3821802025,1045.3098958369,62.6158281908],[1911.8963376453,1327.6194839311,-2.6090834928],[74.6321941169,1298.7274412109,-11.7207359881],[412.6935910978,1210.6066861656,27.0116850611],[134.1513596056,-81.5193383519,175.9030324229],[823.7310751772,1218.6312299062,2.5494285479],[2622.098182977,2525.818566649,-13.762380425],[1131.9491297406,1155.5997753946,6.6495426259],[1487.225935083,1524.6320165608,1.2913803413],[2118.8020890942,2200.5660503712,42.6584886073],[-125.1753346557,-95.6229512557,179.2820019431],[1202.2308134896,1467.8934502375,36.5710675975],[1504.8550579799,1425.4891388072,-9.0703854081],[1773.5176019776,1626.6406361184,-11.0428368874],[1138.4822316816,1583.5787894887,29.4168333511],[2104.2609387273,1669.5807605461,4.0894167152],[1988.7487147312,2221.9400285776,0.4770580805],[1310.4561625581,1888.0371527929,-7.3325055181],[1944.1371214424,680.1866766565,27.094275886],[1499.6867055794,1558.4620423159,-20.7162333961],[1046.3289248418,773.4253349625,-25.4529333532],[1538.7973653796,2002.5934466996,-49.8075906117],[289.1910041132,477.5432342355,15.4442527649],[1474.514033737,1093.0673498963,30.2082405845],[2046.2565171948,189.2712773062,944.3195533659],[1085.7916439974,1037.55049864,-451.0025418273],[1485.3970639897,1575.2643829203,-21.0019568729],[1718.5745929329,387.496189753,8.7240618238],[1453.4403313067,1356.2078467701,-26.6055442777],[1028.0398879729,2032.9846081298,-1.3192988874],[2240.5325735643,2304.7713649826,5.1028341001],[757.7078722217,3071.6776352086,5.0062853312],[2251.3023181944,2934.2101672575,24.4200404566],[775.256540524,721.7064281133,145.6502956152],[1771.5139082491,1008.6826541868,-44.7514005691],[2575.2615945647,2636.2019133063,-3.9026291164],[835.8661678084,1353.4615370628,-22.1482048808],[1981.8735857025,1697.829477873,0.4261088944],[2357.9109373702,2450.3696643811,-10.6823392747],[1337.8516300148,4.1078175509,20.759544686],[1973.3367370776,3718.3981009886,-16.4816657905],[1286.3341850715,1103.1476241519,-33.7937119919],[193.3766563946,205.8223814431,13.0483317852],[1974.5683508927,1720.0290079488,11.0627414408],[2299.125598754,1857.1378089437,31.830361313],[723.9626518122,1647.0497227773,-21.2543337885],[816.9933925098,1087.9786413386,33.1742433141],[998.121343321,1344.6975709674,-33.8944165425],[2912.656435573,1520.0463812001,3.299097688],[2280.0974901836,2600.7319406657,47.4345469036],[2375.9369145607,1881.3524241597,-38.114326783],[2031.3859356233,1973.6608669248,-13.2393385248],[651.1115452037,-216.2317036325,-18.4109594006],[1370.9995282226,1911.2754719924,31.4418219432],[1576.4839696677,2096.8321419311,19.9568826924],[-187.9594236674,1189.1497670685,19.9906895488],[1691.2217943504,2033.4150382365,13.064472366],[1740.175091336,605.5740607191,35.3337729754],[462.7606877706,610.1895036414,-3.7875365441],[2436.171999055,1769.9956159651,-7.4273349574],[593.6775913752,1723.1305258452,-19.7552927267],[850.6725042381,1246.2040369932,-5.9928350188],[330.556113001,1385.2023105434,-8.6532133119],[1403.0744907481,2059.9019383282,-30.8958505921],[1746.5852092392,1848.2848594305,-38.6418601271],[779.9414897556,1211.8211165903,-28.5190205953],[940.5563928277,1003.7727387012,-10.7529191001],[531.7957034007,821.4171643825,-46.9187040462],[1780.0084558184,1659.9418320534,0.1511622223],[426.8346768613,594.4437743627,-12.9937442206],[911.4501029173,324.111344032,40.3755884581],[940.4427750893,751.3969944111,-4.1778749208],[863.130393274,1484.0096992903,-23.5215512036],[939.6126534688,640.0645070011,3.35186863],[2246.1559283103,1715.9381844425,13.2395456043],[1253.1015750431,311.4201017518,-9.7353001325],[480.288193616,439.0115092197,0.108048367],[2018.9933406805,2016.4900865716,-8.599534154],[77.5032310882,-9.8766385654,-9.0147401146],[625.5071588192,690.036844489,-14.1084162546],[316.2634300503,217.2808801123,-16.1438469203],[2100.4977276281,2033.092320529,-18.841823126],[1440.6268713936,1034.2073789856,789.1770327595],[1162.6779540373,1119.921669468,18.1373001762],[179.1368001611,177.8554880867,-39.3788560109],[1483.060107066,1451.4827577426,-23.0711050464],[894.4776615182,953.178272579,-36.2972418331],[1495.3926207778,1496.9811394129,-7.3722916218],[1546.2792783538,1567.5409732579,12.9498578776],[2574.5449030172,1895.8941335126,12.5861920145],[117.9204405581,1641.2200775175,-14.7968064582],[2289.4970515138,1231.1883446684,156.1083689812],[602.5919317157,-80.8536453447,-45.2246457723],[1334.0803795646,1440.7185841409,-19.532515248],[1180.1599639815,2124.0633618238,11.8619415739],[1840.1734734813,1591.8563724082,13.1066985612],[145.0677218317,1401.5113699072,-27.7368371449],[1324.8536028508,1410.509283444,12.8113243178],[3499.0385721114,2940.3414895938,39.4033671286],[1536.6605212081,761.9881910699,14.3766800908],[1456.6189653137,1410.1109048192,2.8768284872],[-169.9262266687,610.8861244906,-36.3695391877],[2142.1576567912,1356.3744272375,-10.0661140494],[1863.9998087101,1400.7657945901,-38.9384414271],[-33.6915432458,714.7881166344,-3.1074590253],[2592.9002092553,2215.6356148187,-28.080383552]]},[{\"stat_type\": \"categorical\", \"name\": \"id\", \"unique_values\": [\"1AB5C92\", \"977D203\", \"102DBC2\", \"C9B9133\", \"DC2302\", \"1A491A2\", \"8A1A543\", \"9A51A2\", \"7C1DB2\", \"2D98203\"]}, {\"stat_type\": \"categorical\", \"name\": \"gender\", \"unique_values\": [\"Female\", \"Male\"]}, {\"stat_type\": \"categorical\", \"name\": \"age_group\", \"unique_values\": [\"25 - 29\", \"45 - 49\", \"35 - 39\", \"60 - 64\", \"20 - 24\", \"50 - 54\", \"30 - 34\"]}, {\"stat_type\": \"categorical\", \"name\": \"encounter_id\", \"unique_values\": [42230255.0, 20125520.0, 36191729.0, 86996036.0, 55289445.0, 22083062.0, 29334171.0, 47136843.0, 33977348.0, 40405740.0, 41872894.0, 91664860.0, 39944218.0, 26276423.0, 40734987.0, 91674350.0, 35738526.0, 30060555.0, 25512557.0, 44186773.0, 36011436.0, 40274284.0, 31296668.0, 90188218.0, 20461999.0, 87120526.0, 43912921.0, 39756628.0, 37852481.0, 30357039.0, 37657794.0, 37587106.0, 42904960.0, 24929450.0, 88228925.0, 85708971.0, 29723724.0, 89048614.0, 45082180.0, 28544502.0, 88058166.0, 30326126.0, 19886380.0, 41529325.0, 20286984.0, 34530491.0, 34125343.0, 39225226.0, 29798796.0, 25439078.0, 41652293.0, 39815674.0, 29026413.0, 92068717.0, 24130052.0, 39174510.0, 29483966.0, 27393990.0, 91928883.0, 23424929.0, 88162301.0, 47202901.0, 91795528.0, 19818896.0, 25763847.0, 23860943.0, 28892619.0, 42143083.0, 43901372.0, 30575337.0, 92016369.0, 47012732.0, 29904969.0, 20015383.0, 33889837.0, 43294412.0, 24683873.0, 31467193.0, 87224056.0, 88001591.0, 25912238.0, 28224980.0, 87256532.0, 90640891.0, 42528226.0, 28765572.0, 37119780.0, 30202859.0, 92020489.0, 37988510.0, 28595579.0, 27196698.0, 25603783.0, 27512904.0, 30757601.0, 41491822.0, 42786155.0, 34221331.0, 32239042.0, 89758041.0, 22212730.0, 90629691.0, 35317685.0, 42685709.0, 85807367.0, 41113956.0, 26506596.0, 19975582.0, 29464770.0, 42338195.0, 20731114.0, 85331556.0, 34856946.0, 88451864.0, 31006937.0, 28264626.0, 84937891.0, 39264334.0, 37683060.0, 32201838.0, 30566397.0, 31633093.0, 36561033.0, 21553673.0, 45835799.0, 33446252.0, 42856468.0, 22075076.0, 89323079.0, 45560123.0, 45272228.0, 37874802.0, 88804502.0, 25133798.0, 91843985.0, 29166871.0, 84914188.0, 23333686.0, 22979819.0, 85733822.0, 33479887.0, 25124039.0, 35278510.0, 30130758.0, 86351658.0, 25101449.0, 23561737.0, 22902542.0, 91976820.0, 44110092.0, 91041652.0, 26746532.0, 88670467.0, 30083439.0, 43273238.0, 33598889.0, 19902049.0, 40058241.0, 85256547.0, 34290077.0, 20811117.0, 91574104.0, 22285096.0, 34289143.0, 41183554.0, 22323452.0, 27356692.0, 28762329.0, 42018847.0, 27505084.0, 87456582.0, 21391361.0, 42063635.0, 21080102.0, 27938824.0, 85808290.0, 30923138.0, 21515321.0, 41019519.0, 36546008.0, 30333420.0, 52766112.0, 22751968.0, 44098621.0, 26175573.0, 87290407.0, 36798243.0, 40362948.0, 89300625.0, 38121092.0, 36232656.0, 41227893.0, 39955884.0, 39285534.0, 34667311.0, 42711950.0, 27224295.0, 21690463.0, 35156450.0, 35488213.0, 87787211.0, 32491414.0, 29052699.0, 84445581.0, 85234680.0, 85325766.0, 19742002.0, 32426953.0, 36377395.0, 32215696.0, 29224331.0, 41160574.0, 21251468.0, 36791419.0, 25631963.0, 86727795.0, 36818812.0, 20827984.0, 33284279.0, 86008853.0]}, {\"stat_type\": \"categorical\", \"name\": \"encounter_class\", \"unique_values\": [\"Inpatient\", \"Recurring\", \"Emergency\", \"Other\", \"Outpatient\", \"Home Care\"]}, {\"stat_type\": \"categorical\", \"name\": \"encounter_type\", \"unique_values\": [\"Inpatient Acute\", \"MHAS - Residential\", \"MHAS - Acute Care\", \"Open Encounter\", \"Emergency\", \"Specimen\", \"Ambulatory\", \"Day Care\", \"Home Care\", \"Recurring/Series\"]}, {\"stat_type\": \"categorical\", \"name\": \"event_type\", \"unique_values\": [\"Encounter Only\", \"Surgery\", \"General Lab\", \"Radiology\", \"Diagnosis\", \"Micro\"]}, {\"stat_type\": \"categorical\", \"name\": \"event_title\", \"unique_values\": [\"Child, Youth & Family\", \"Mental Health\", \"NA\", \"Outpatient\", \"Surgery\", \"Medicine\", \"Laboratory\", \"Diagnostic Imaging\", \"Rehab\", \"Diseases of the digestive system\"]}, {\"stat_type\": \"categorical\", \"name\": \"event_detail\", \"unique_values\": [\"Maternity\", \"Adult Psychiatry\", \"NA\", \"Laboratory\", \"Medical Imaging\", \"Obstetrics\", \"Urology\", \"Colonoscopy (FIT Positive Yes CSP) SN\", \"Albumin Level\", \"ALT\", \"Bilirubin Total\", \"Complete Blood Count and Differential\", \"Confirmatory Hepatitis C Antibody\", \"Hepatitis C Antibody\", \"HIV Quantitative\", \"Potassium Level\", \"Protein Total\", \"Sodium Level\", \"xxAutomated Diff\", \"Hepatitis B Careset\", \"Alkaline Phosphatase\", \"Calcium Level\", \"Creatinine\", \"GGT\", \"Hepatitis A Antibody IgG\", \"Hepatitis B Core Antibody Total\", \"Hepatitis B Surface Antibody\", \"Hepatitis B Surface Antigen\", \"xxCD4\", \"CT Spine Lumbar w/o Contrast\", \"Outpatient\", \"Opthamology\", \"Acute Rehabilitation\", \"XR Tibia/Fibula Right\", \"Medicine Hospitalist\", \"Glucose Random\", \"INR\", \"Coag Panel Careset\", \"Macroscopic Urinalysis\", \"PTT\", \"Acute Hepatitis Careset\", \"Calcium Ionized Level\", \"Carbon Dioxide Total\", \"Chloride Level\", \"Hepatitis A Antibody IgM\", \"Magnesium Level\", \"Syphilis Serology\", \"Thyroid Stimulating Hormone\", \"xxCoagulation Hold Tube\", \"xxProtein Electrophoresis\", \"XR Chest 2 Views\", \"SI ED Basic Careset\", \"Anion Gap\", \"AST\", \"hCG Qualitative\", \"HIV Ag/Ab Combination Assay\", \"Lipase Level\", \"Protein Electrophoresis Careset\", \"HH ECG Electrocardiogram\", \"Medicine (Unspecified)\", \"XR Chest AP/PA 1 View\", \"MRI Spine Lumbar w/o Contrast\", \"Medicine Family Practice\", \"Surgery\", \"Pre-Admission Clinic\", \"Enterology\", \"Clinical Teaching Unit\", \"K42.9,  Umbilical hernia without obs or gangrene\", \"Plastic\", \"Medical Assessment\", \"CT Wrist w/o Contrast Left\", \"XR Wrist and Scaphoid Left\", \"XR Wrist Limited 2 Views Left\", \"Clinical Decision Unit\", \"Troponin T High Sensitivity\", \"Drug Screen Urine Qualitative\", \"xxMicroscopic Urinalysis\", \"Chem 7 Hem Careset\", \"Lactate Level\", \"Urine Culture\"]}, {\"stat_type\": \"categorical\", \"name\": \"event_year\", \"unique_values\": [2013.0, 2015.0, 2011.0, 2016.0, 2009.0, 2014.0, 2012.0, 2017.0, 2010.0, 2007.0]}, {\"stat_type\": \"categorical\", \"name\": \"event_month\", \"unique_values\": [1.0, 12.0, 6.0, 5.0, 7.0, 10.0, 4.0, 9.0, 11.0, 3.0, 2.0, 8.0]}, {\"stat_type\": \"realAdditive\", \"name\": \"start_day\"}, {\"stat_type\": \"realAdditive\", \"name\": \"end_day\"}, {\"stat_type\": \"realAdditive\", \"name\": \"duration_days\"}, {\"stat_type\": \"categorical\", \"name\": \"location_map_id\", \"unique_values\": [1673.0, 874.0, 903.0, 601.0, 1261.0, 2116.0, 1429.0, 807.0, 2230.0, 167.0, 2021.0, 1448.0, 139.0, 1582.0, 916.0, 1554.0, 1773.0, 1264.0, 1765.0, 1109.0, 483.0, 1853.0, 671.0, 1977.0, 227.0, 922.0, 1657.0, 388.0, 567.0, 718.0, 1514.0, 971.0, 520.0, 182.0, 1499.0, 251.0, 755.0, 1170.0, 1748.0, 1631.0, 595.0, 934.0, 768.0, 513.0, 1983.0, 766.0, 639.0, 2223.0, 1526.0, 243.0, 876.0, 1825.0, 787.0, 2232.0, 2180.0, 1177.0, 1487.0, 1612.0, 1181.0, 1810.0, 1819.0, 93.0, 209.0, 1611.0, 878.0, 34.0, 2076.0, 2038.0, 614.0, 1720.0, 296.0, 2125.0, 1032.0, 2119.0, 1723.0, 935.0, 132.0, 1490.0, 1365.0, 1718.0, 2035.0, 2190.0, 275.0, 947.0, 844.0, 2011.0, 390.0, 1601.0, 1408.0, 1033.0]}])"
      ],
      "text/plain": [
       "<IPython.core.display.Javascript object>"
      ]
     },
     "execution_count": 56,
     "metadata": {},
     "output_type": "execute_result"
    }
   ],
   "source": [
    "%%bql\n",
    ".interactive_pairplot --population=ehr_population \n",
    "SELECT\n",
    "\"end_day\",\n",
    "\"start_day\",\n",
    "\"duration_days\"\n",
    "FROM simulated_data"
   ]
  },
  {
   "cell_type": "code",
   "execution_count": 57,
   "metadata": {},
   "outputs": [
    {
     "data": {
      "image/png": "[encoded data removed]",
      "text/plain": [
       "<matplotlib.figure.Figure at 0x7fb93585ab90>"
      ]
     },
     "metadata": {},
     "output_type": "display_data"
    }
   ],
   "source": [
    "%bql .histogram_numerical SELECT end_day FROM ds"
   ]
  },
  {
   "cell_type": "code",
   "execution_count": 67,
   "metadata": {
    "scrolled": false
   },
   "outputs": [
    {
     "data": {
      "application/javascript": [
       "function pairplot(df, schema) {\n",
       "  var myCell = element.is('.output_subarea') ? element : element.next();\n",
       "  if (typeof VizGPMReady === 'undefined') {\n",
       "    throw new Error('VizGPM Display Library not loaded')\n",
       "  }\n",
       "\n",
       "  var container = $('<div>')\n",
       "    .appendTo(myCell);\n",
       "\n",
       "  VizGPMReady.then(function(VizGPM) {\n",
       "    const _ = VizGPM._;\n",
       "\n",
       "    const SP = VizGPM.StateProperty\n",
       "\n",
       "    for (const col of schema) {\n",
       "      if (col.stat_type == 'numerical') {\n",
       "        col.stat_type = 'realAdditive';\n",
       "      }\n",
       "\n",
       "      if (col.stat_type == 'nominal') {\n",
       "        col.stat_type = 'categorical';\n",
       "      }\n",
       "    }\n",
       "\n",
       "    function rowProxy(__key) {\n",
       "      const obj = {__key};\n",
       "      for (const column of df.columns) {\n",
       "        obj[column] = df.data[__key].shift();\n",
       "      }\n",
       "      return obj;\n",
       "    }\n",
       "\n",
       "    const rows = [];\n",
       "    for(let index = 0; index < df.data.length; index++) {\n",
       "      rows.push(rowProxy(index));\n",
       "    }\n",
       "\n",
       "    var stateManager = new VizGPM.StateManager({\n",
       "      [SP.SCHEMA]: {columns: schema},\n",
       "      [SP.SELECTED_COLUMN_NAMES]: df.columns,\n",
       "      [SP.GET_COLUMN_FUNCTION]: col =>\n",
       "        VizGPM.GpmHandler.prototype._getColumn.call(stateManager, col),\n",
       "      [SP.DISPLAYED_ROWS]: rows,\n",
       "    });\n",
       "\n",
       "    const plot = new VizGPM.PairPlot({\n",
       "      root: container[0],\n",
       "      stateManager: stateManager,\n",
       "    });\n",
       "  })\n",
       "}\n",
       ";pairplot({\"columns\":[\"gender\",\"age_group\",\"encounter_class\",\"event_type\"],\"index\":[0,1,2,3,4,5,6,7,8,9,10,11,12,13,14,15,16,17,18,19,20,21,22,23,24,25,26,27,28,29,30,31,32,33,34,35,36,37,38,39,40,41,42,43,44,45,46,47,48,49,50,51,52,53,54,55,56,57,58,59,60,61,62,63,64,65,66,67,68,69,70,71,72,73,74,75,76,77,78,79,80,81,82,83,84,85,86,87,88,89,90,91,92,93,94,95,96,97,98,99,100,101,102,103,104,105,106,107,108,109,110,111,112,113,114,115,116,117,118,119,120,121,122,123,124,125,126,127,128,129,130,131,132,133,134,135,136,137,138,139,140,141,142,143,144,145,146,147,148,149,150,151,152,153,154,155,156,157,158,159,160,161,162,163,164,165,166,167,168,169,170,171,172,173,174,175,176,177,178,179,180,181,182,183,184,185,186,187,188,189,190,191,192,193,194,195,196,197,198,199,200,201,202,203,204,205,206,207,208,209,210,211,212,213,214,215,216,217,218,219,220,221,222,223,224,225,226,227,228,229,230,231,232,233,234,235,236,237,238,239,240,241,242,243,244,245,246,247,248,249,250,251,252,253,254,255,256,257,258,259,260,261,262,263,264,265,266,267,268,269,270,271,272,273,274,275,276,277,278,279,280,281,282,283,284,285,286,287,288,289,290,291,292,293,294,295,296,297,298,299,300,301,302,303,304,305,306,307,308,309,310,311,312,313,314,315,316,317,318,319,320,321,322,323,324],\"data\":[[\"Female\",\"25 - 29\",\"Inpatient\",\"Encounter Only\"],[\"Female\",\"25 - 29\",\"Inpatient\",\"Encounter Only\"],[\"Female\",\"25 - 29\",\"Inpatient\",\"Encounter Only\"],[\"Female\",\"25 - 29\",\"Recurring\",\"Encounter Only\"],[\"Female\",\"25 - 29\",\"Recurring\",\"Encounter Only\"],[\"Female\",\"25 - 29\",\"Inpatient\",\"Encounter Only\"],[\"Female\",\"25 - 29\",\"Emergency\",\"Encounter Only\"],[\"Female\",\"25 - 29\",\"Other\",\"Encounter Only\"],[\"Female\",\"25 - 29\",\"Outpatient\",\"Encounter Only\"],[\"Female\",\"25 - 29\",\"Recurring\",\"Encounter Only\"],[\"Female\",\"25 - 29\",\"Recurring\",\"Encounter Only\"],[\"Female\",\"25 - 29\",\"Recurring\",\"Encounter Only\"],[\"Female\",\"25 - 29\",\"Outpatient\",\"Encounter Only\"],[\"Male\",\"45 - 49\",\"Inpatient\",\"Encounter Only\"],[\"Male\",\"45 - 49\",\"Inpatient\",\"Encounter Only\"],[\"Male\",\"45 - 49\",\"Inpatient\",\"Encounter Only\"],[\"Male\",\"45 - 49\",\"Inpatient\",\"Encounter Only\"],[\"Male\",\"45 - 49\",\"Inpatient\",\"Encounter Only\"],[\"Male\",\"45 - 49\",\"Inpatient\",\"Encounter Only\"],[\"Male\",\"45 - 49\",\"Inpatient\",\"Encounter Only\"],[\"Male\",\"45 - 49\",\"Inpatient\",\"Encounter Only\"],[\"Male\",\"45 - 49\",\"Inpatient\",\"Encounter Only\"],[\"Male\",\"45 - 49\",\"Inpatient\",\"Encounter Only\"],[\"Male\",\"45 - 49\",\"Inpatient\",\"Encounter Only\"],[\"Male\",\"45 - 49\",\"Inpatient\",\"Encounter Only\"],[\"Male\",\"45 - 49\",\"Inpatient\",\"Encounter Only\"],[\"Male\",\"45 - 49\",\"Inpatient\",\"Encounter Only\"],[\"Male\",\"45 - 49\",\"Inpatient\",\"Encounter Only\"],[\"Male\",\"45 - 49\",\"Inpatient\",\"Encounter Only\"],[\"Male\",\"45 - 49\",\"Emergency\",\"Encounter Only\"],[\"Male\",\"45 - 49\",\"Emergency\",\"Encounter Only\"],[\"Male\",\"45 - 49\",\"Emergency\",\"Encounter Only\"],[\"Male\",\"45 - 49\",\"Emergency\",\"Encounter Only\"],[\"Male\",\"45 - 49\",\"Emergency\",\"Encounter Only\"],[\"Male\",\"45 - 49\",\"Outpatient\",\"Surgery\"],[\"Male\",\"45 - 49\",\"Other\",\"General Lab\"],[\"Male\",\"45 - 49\",\"Other\",\"General Lab\"],[\"Male\",\"45 - 49\",\"Other\",\"General Lab\"],[\"Male\",\"45 - 49\",\"Other\",\"General Lab\"],[\"Male\",\"45 - 49\",\"Other\",\"General Lab\"],[\"Male\",\"45 - 49\",\"Other\",\"General Lab\"],[\"Male\",\"45 - 49\",\"Other\",\"General Lab\"],[\"Male\",\"45 - 49\",\"Other\",\"General Lab\"],[\"Male\",\"45 - 49\",\"Other\",\"General Lab\"],[\"Male\",\"45 - 49\",\"Other\",\"General Lab\"],[\"Male\",\"45 - 49\",\"Other\",\"General Lab\"],[\"Male\",\"45 - 49\",\"Other\",\"General Lab\"],[\"Male\",\"45 - 49\",\"Other\",\"General Lab\"],[\"Male\",\"45 - 49\",\"Other\",\"General Lab\"],[\"Male\",\"45 - 49\",\"Other\",\"General Lab\"],[\"Male\",\"45 - 49\",\"Other\",\"General Lab\"],[\"Male\",\"45 - 49\",\"Other\",\"General Lab\"],[\"Male\",\"45 - 49\",\"Other\",\"General Lab\"],[\"Male\",\"45 - 49\",\"Other\",\"General Lab\"],[\"Male\",\"45 - 49\",\"Other\",\"General Lab\"],[\"Male\",\"45 - 49\",\"Other\",\"General Lab\"],[\"Male\",\"45 - 49\",\"Outpatient\",\"Encounter Only\"],[\"Male\",\"45 - 49\",\"Outpatient\",\"Radiology\"],[\"Male\",\"45 - 49\",\"Outpatient\",\"Encounter Only\"],[\"Male\",\"45 - 49\",\"Outpatient\",\"Encounter Only\"],[\"Male\",\"45 - 49\",\"Outpatient\",\"Encounter Only\"],[\"Male\",\"45 - 49\",\"Outpatient\",\"Encounter Only\"],[\"Male\",\"45 - 49\",\"Recurring\",\"Encounter Only\"],[\"Male\",\"45 - 49\",\"Recurring\",\"Encounter Only\"],[\"Male\",\"45 - 49\",\"Outpatient\",\"Encounter Only\"],[\"Male\",\"45 - 49\",\"Outpatient\",\"Encounter Only\"],[\"Male\",\"45 - 49\",\"Outpatient\",\"Encounter Only\"],[\"Male\",\"45 - 49\",\"Outpatient\",\"Encounter Only\"],[\"Male\",\"45 - 49\",\"Outpatient\",\"Encounter Only\"],[\"Male\",\"35 - 39\",\"Inpatient\",\"Encounter Only\"],[\"Male\",\"35 - 39\",\"Inpatient\",\"Encounter Only\"],[\"Male\",\"35 - 39\",\"Inpatient\",\"Encounter Only\"],[\"Male\",\"35 - 39\",\"Inpatient\",\"Encounter Only\"],[\"Male\",\"35 - 39\",\"Inpatient\",\"Encounter Only\"],[\"Male\",\"35 - 39\",\"Inpatient\",\"Encounter Only\"],[\"Male\",\"35 - 39\",\"Inpatient\",\"Encounter Only\"],[\"Male\",\"35 - 39\",\"Inpatient\",\"Encounter Only\"],[\"Male\",\"35 - 39\",\"Inpatient\",\"Encounter Only\"],[\"Male\",\"35 - 39\",\"Inpatient\",\"Encounter Only\"],[\"Male\",\"35 - 39\",\"Inpatient\",\"Encounter Only\"],[\"Male\",\"35 - 39\",\"Inpatient\",\"Encounter Only\"],[\"Male\",\"35 - 39\",\"Inpatient\",\"Encounter Only\"],[\"Male\",\"35 - 39\",\"Inpatient\",\"Encounter Only\"],[\"Male\",\"35 - 39\",\"Recurring\",\"Encounter Only\"],[\"Male\",\"35 - 39\",\"Emergency\",\"Encounter Only\"],[\"Male\",\"35 - 39\",\"Emergency\",\"Encounter Only\"],[\"Male\",\"35 - 39\",\"Emergency\",\"Encounter Only\"],[\"Male\",\"35 - 39\",\"Emergency\",\"Encounter Only\"],[\"Male\",\"35 - 39\",\"Emergency\",\"Encounter Only\"],[\"Male\",\"35 - 39\",\"Emergency\",\"Encounter Only\"],[\"Male\",\"35 - 39\",\"Emergency\",\"Encounter Only\"],[\"Male\",\"35 - 39\",\"Outpatient\",\"Encounter Only\"],[\"Male\",\"35 - 39\",\"Recurring\",\"Encounter Only\"],[\"Male\",\"35 - 39\",\"Recurring\",\"Encounter Only\"],[\"Male\",\"35 - 39\",\"Recurring\",\"Encounter Only\"],[\"Male\",\"35 - 39\",\"Recurring\",\"Encounter Only\"],[\"Male\",\"35 - 39\",\"Outpatient\",\"Encounter Only\"],[\"Male\",\"35 - 39\",\"Outpatient\",\"Encounter Only\"],[\"Male\",\"35 - 39\",\"Outpatient\",\"Radiology\"],[\"Male\",\"35 - 39\",\"Outpatient\",\"Encounter Only\"],[\"Male\",\"35 - 39\",\"Outpatient\",\"Encounter Only\"],[\"Male\",\"60 - 64\",\"Inpatient\",\"Encounter Only\"],[\"Male\",\"60 - 64\",\"Inpatient\",\"General Lab\"],[\"Male\",\"60 - 64\",\"Inpatient\",\"General Lab\"],[\"Male\",\"60 - 64\",\"Inpatient\",\"General Lab\"],[\"Male\",\"60 - 64\",\"Inpatient\",\"General Lab\"],[\"Male\",\"60 - 64\",\"Inpatient\",\"General Lab\"],[\"Male\",\"60 - 64\",\"Inpatient\",\"General Lab\"],[\"Male\",\"60 - 64\",\"Inpatient\",\"General Lab\"],[\"Male\",\"60 - 64\",\"Inpatient\",\"General Lab\"],[\"Male\",\"60 - 64\",\"Inpatient\",\"General Lab\"],[\"Male\",\"60 - 64\",\"Inpatient\",\"General Lab\"],[\"Male\",\"60 - 64\",\"Inpatient\",\"General Lab\"],[\"Male\",\"60 - 64\",\"Inpatient\",\"General Lab\"],[\"Male\",\"60 - 64\",\"Inpatient\",\"General Lab\"],[\"Male\",\"60 - 64\",\"Inpatient\",\"General Lab\"],[\"Male\",\"60 - 64\",\"Inpatient\",\"General Lab\"],[\"Male\",\"60 - 64\",\"Inpatient\",\"General Lab\"],[\"Male\",\"60 - 64\",\"Inpatient\",\"General Lab\"],[\"Male\",\"60 - 64\",\"Inpatient\",\"General Lab\"],[\"Male\",\"60 - 64\",\"Inpatient\",\"General Lab\"],[\"Male\",\"60 - 64\",\"Inpatient\",\"General Lab\"],[\"Male\",\"60 - 64\",\"Inpatient\",\"General Lab\"],[\"Male\",\"60 - 64\",\"Inpatient\",\"General Lab\"],[\"Male\",\"60 - 64\",\"Inpatient\",\"General Lab\"],[\"Male\",\"60 - 64\",\"Inpatient\",\"General Lab\"],[\"Male\",\"60 - 64\",\"Inpatient\",\"General Lab\"],[\"Male\",\"60 - 64\",\"Inpatient\",\"General Lab\"],[\"Male\",\"60 - 64\",\"Inpatient\",\"Radiology\"],[\"Male\",\"60 - 64\",\"Inpatient\",\"General Lab\"],[\"Male\",\"60 - 64\",\"Inpatient\",\"General Lab\"],[\"Male\",\"60 - 64\",\"Inpatient\",\"General Lab\"],[\"Male\",\"60 - 64\",\"Inpatient\",\"General Lab\"],[\"Male\",\"60 - 64\",\"Inpatient\",\"General Lab\"],[\"Male\",\"60 - 64\",\"Inpatient\",\"General Lab\"],[\"Male\",\"60 - 64\",\"Inpatient\",\"General Lab\"],[\"Male\",\"60 - 64\",\"Inpatient\",\"General Lab\"],[\"Male\",\"60 - 64\",\"Inpatient\",\"General Lab\"],[\"Male\",\"60 - 64\",\"Inpatient\",\"General Lab\"],[\"Male\",\"60 - 64\",\"Inpatient\",\"General Lab\"],[\"Male\",\"60 - 64\",\"Inpatient\",\"General Lab\"],[\"Male\",\"60 - 64\",\"Inpatient\",\"General Lab\"],[\"Male\",\"60 - 64\",\"Inpatient\",\"General Lab\"],[\"Male\",\"60 - 64\",\"Inpatient\",\"General Lab\"],[\"Male\",\"60 - 64\",\"Inpatient\",\"General Lab\"],[\"Male\",\"60 - 64\",\"Inpatient\",\"General Lab\"],[\"Male\",\"60 - 64\",\"Inpatient\",\"Radiology\"],[\"Male\",\"60 - 64\",\"Emergency\",\"Encounter Only\"],[\"Male\",\"60 - 64\",\"Emergency\",\"Encounter Only\"],[\"Male\",\"60 - 64\",\"Emergency\",\"Encounter Only\"],[\"Male\",\"60 - 64\",\"Outpatient\",\"Encounter Only\"],[\"Male\",\"60 - 64\",\"Home Care\",\"Encounter Only\"],[\"Male\",\"60 - 64\",\"Outpatient\",\"Encounter Only\"],[\"Male\",\"60 - 64\",\"Other\",\"Encounter Only\"],[\"Male\",\"60 - 64\",\"Outpatient\",\"Encounter Only\"],[\"Male\",\"60 - 64\",\"Outpatient\",\"Encounter Only\"],[\"Male\",\"60 - 64\",\"Outpatient\",\"Encounter Only\"],[\"Male\",\"60 - 64\",\"Other\",\"Encounter Only\"],[\"Male\",\"60 - 64\",\"Outpatient\",\"Encounter Only\"],[\"Male\",\"60 - 64\",\"Outpatient\",\"Encounter Only\"],[\"Male\",\"60 - 64\",\"Outpatient\",\"Encounter Only\"],[\"Male\",\"60 - 64\",\"Outpatient\",\"Encounter Only\"],[\"Male\",\"60 - 64\",\"Outpatient\",\"Radiology\"],[\"Male\",\"60 - 64\",\"Outpatient\",\"Encounter Only\"],[\"Male\",\"60 - 64\",\"Outpatient\",\"Radiology\"],[\"Male\",\"60 - 64\",\"Outpatient\",\"Encounter Only\"],[\"Male\",\"60 - 64\",\"Outpatient\",\"Encounter Only\"],[\"Male\",\"60 - 64\",\"Outpatient\",\"Radiology\"],[\"Male\",\"60 - 64\",\"Outpatient\",\"Encounter Only\"],[\"Male\",\"60 - 64\",\"Recurring\",\"Encounter Only\"],[\"Male\",\"60 - 64\",\"Outpatient\",\"Encounter Only\"],[\"Male\",\"60 - 64\",\"Recurring\",\"Encounter Only\"],[\"Male\",\"60 - 64\",\"Inpatient\",\"Encounter Only\"],[\"Male\",\"60 - 64\",\"Inpatient\",\"Encounter Only\"],[\"Male\",\"60 - 64\",\"Inpatient\",\"Encounter Only\"],[\"Male\",\"60 - 64\",\"Inpatient\",\"Encounter Only\"],[\"Male\",\"60 - 64\",\"Outpatient\",\"Encounter Only\"],[\"Male\",\"60 - 64\",\"Outpatient\",\"Encounter Only\"],[\"Male\",\"45 - 49\",\"Recurring\",\"Encounter Only\"],[\"Male\",\"45 - 49\",\"Inpatient\",\"Encounter Only\"],[\"Male\",\"45 - 49\",\"Emergency\",\"Encounter Only\"],[\"Male\",\"45 - 49\",\"Emergency\",\"Encounter Only\"],[\"Male\",\"45 - 49\",\"Emergency\",\"Encounter Only\"],[\"Male\",\"45 - 49\",\"Outpatient\",\"Encounter Only\"],[\"Male\",\"45 - 49\",\"Recurring\",\"Encounter Only\"],[\"Male\",\"45 - 49\",\"Recurring\",\"Encounter Only\"],[\"Female\",\"20 - 24\",\"Inpatient\",\"Encounter Only\"],[\"Female\",\"20 - 24\",\"Inpatient\",\"Encounter Only\"],[\"Female\",\"20 - 24\",\"Inpatient\",\"Encounter Only\"],[\"Female\",\"20 - 24\",\"Emergency\",\"Encounter Only\"],[\"Female\",\"20 - 24\",\"Other\",\"Encounter Only\"],[\"Female\",\"20 - 24\",\"Outpatient\",\"Diagnosis\"],[\"Female\",\"20 - 24\",\"Outpatient\",\"Radiology\"],[\"Female\",\"20 - 24\",\"Inpatient\",\"Encounter Only\"],[\"Female\",\"20 - 24\",\"Recurring\",\"Encounter Only\"],[\"Female\",\"20 - 24\",\"Recurring\",\"Encounter Only\"],[\"Female\",\"20 - 24\",\"Recurring\",\"Encounter Only\"],[\"Female\",\"20 - 24\",\"Outpatient\",\"Encounter Only\"],[\"Female\",\"20 - 24\",\"Recurring\",\"Encounter Only\"],[\"Male\",\"50 - 54\",\"Inpatient\",\"Encounter Only\"],[\"Male\",\"50 - 54\",\"Recurring\",\"Encounter Only\"],[\"Male\",\"50 - 54\",\"Recurring\",\"Encounter Only\"],[\"Male\",\"50 - 54\",\"Inpatient\",\"Encounter Only\"],[\"Male\",\"50 - 54\",\"Emergency\",\"Radiology\"],[\"Male\",\"50 - 54\",\"Emergency\",\"Radiology\"],[\"Male\",\"50 - 54\",\"Emergency\",\"Radiology\"],[\"Male\",\"50 - 54\",\"Emergency\",\"Encounter Only\"],[\"Male\",\"50 - 54\",\"Emergency\",\"Encounter Only\"],[\"Male\",\"50 - 54\",\"Emergency\",\"Encounter Only\"],[\"Male\",\"50 - 54\",\"Emergency\",\"Encounter Only\"],[\"Male\",\"50 - 54\",\"Emergency\",\"Radiology\"],[\"Male\",\"50 - 54\",\"Outpatient\",\"Encounter Only\"],[\"Male\",\"50 - 54\",\"Other\",\"Encounter Only\"],[\"Male\",\"50 - 54\",\"Other\",\"Encounter Only\"],[\"Male\",\"50 - 54\",\"Outpatient\",\"Encounter Only\"],[\"Male\",\"50 - 54\",\"Inpatient\",\"Encounter Only\"],[\"Male\",\"50 - 54\",\"Recurring\",\"Encounter Only\"],[\"Male\",\"50 - 54\",\"Recurring\",\"Encounter Only\"],[\"Male\",\"50 - 54\",\"Outpatient\",\"Encounter Only\"],[\"Male\",\"50 - 54\",\"Outpatient\",\"Encounter Only\"],[\"Male\",\"50 - 54\",\"Outpatient\",\"Encounter Only\"],[\"Female\",\"30 - 34\",\"Inpatient\",\"Encounter Only\"],[\"Female\",\"30 - 34\",\"Recurring\",\"Encounter Only\"],[\"Female\",\"30 - 34\",\"Inpatient\",\"Encounter Only\"],[\"Female\",\"30 - 34\",\"Emergency\",\"Encounter Only\"],[\"Female\",\"30 - 34\",\"Emergency\",\"Encounter Only\"],[\"Female\",\"30 - 34\",\"Emergency\",\"Encounter Only\"],[\"Female\",\"30 - 34\",\"Emergency\",\"Encounter Only\"],[\"Female\",\"30 - 34\",\"Other\",\"Encounter Only\"],[\"Female\",\"30 - 34\",\"Inpatient\",\"Encounter Only\"],[\"Female\",\"30 - 34\",\"Recurring\",\"Encounter Only\"],[\"Male\",\"45 - 49\",\"Inpatient\",\"Encounter Only\"],[\"Male\",\"45 - 49\",\"Recurring\",\"Encounter Only\"],[\"Male\",\"45 - 49\",\"Emergency\",\"Encounter Only\"],[\"Male\",\"45 - 49\",\"Emergency\",\"Encounter Only\"],[\"Male\",\"45 - 49\",\"Emergency\",\"Encounter Only\"],[\"Male\",\"45 - 49\",\"Emergency\",\"General Lab\"],[\"Male\",\"45 - 49\",\"Emergency\",\"General Lab\"],[\"Male\",\"45 - 49\",\"Emergency\",\"General Lab\"],[\"Male\",\"45 - 49\",\"Emergency\",\"General Lab\"],[\"Male\",\"45 - 49\",\"Emergency\",\"General Lab\"],[\"Male\",\"45 - 49\",\"Emergency\",\"General Lab\"],[\"Male\",\"45 - 49\",\"Emergency\",\"General Lab\"],[\"Male\",\"45 - 49\",\"Emergency\",\"General Lab\"],[\"Male\",\"45 - 49\",\"Emergency\",\"General Lab\"],[\"Male\",\"45 - 49\",\"Emergency\",\"General Lab\"],[\"Male\",\"45 - 49\",\"Emergency\",\"General Lab\"],[\"Male\",\"45 - 49\",\"Emergency\",\"Radiology\"],[\"Male\",\"45 - 49\",\"Emergency\",\"General Lab\"],[\"Male\",\"45 - 49\",\"Emergency\",\"General Lab\"],[\"Male\",\"45 - 49\",\"Emergency\",\"General Lab\"],[\"Male\",\"45 - 49\",\"Emergency\",\"General Lab\"],[\"Male\",\"45 - 49\",\"Emergency\",\"General Lab\"],[\"Male\",\"45 - 49\",\"Emergency\",\"General Lab\"],[\"Male\",\"45 - 49\",\"Emergency\",\"General Lab\"],[\"Male\",\"45 - 49\",\"Emergency\",\"General Lab\"],[\"Male\",\"45 - 49\",\"Emergency\",\"General Lab\"],[\"Male\",\"45 - 49\",\"Emergency\",\"Encounter Only\"],[\"Male\",\"45 - 49\",\"Emergency\",\"Encounter Only\"],[\"Male\",\"45 - 49\",\"Other\",\"Encounter Only\"],[\"Female\",\"35 - 39\",\"Inpatient\",\"Encounter Only\"],[\"Female\",\"35 - 39\",\"Inpatient\",\"General Lab\"],[\"Female\",\"35 - 39\",\"Inpatient\",\"General Lab\"],[\"Female\",\"35 - 39\",\"Inpatient\",\"General Lab\"],[\"Female\",\"35 - 39\",\"Inpatient\",\"Encounter Only\"],[\"Female\",\"35 - 39\",\"Inpatient\",\"Encounter Only\"],[\"Female\",\"35 - 39\",\"Inpatient\",\"Encounter Only\"],[\"Female\",\"35 - 39\",\"Inpatient\",\"Encounter Only\"],[\"Female\",\"35 - 39\",\"Inpatient\",\"Encounter Only\"],[\"Female\",\"35 - 39\",\"Recurring\",\"Encounter Only\"],[\"Female\",\"35 - 39\",\"Inpatient\",\"Encounter Only\"],[\"Female\",\"35 - 39\",\"Inpatient\",\"Encounter Only\"],[\"Female\",\"35 - 39\",\"Inpatient\",\"Encounter Only\"],[\"Female\",\"35 - 39\",\"Emergency\",\"Radiology\"],[\"Female\",\"35 - 39\",\"Emergency\",\"Encounter Only\"],[\"Female\",\"35 - 39\",\"Emergency\",\"Encounter Only\"],[\"Female\",\"35 - 39\",\"Emergency\",\"General Lab\"],[\"Female\",\"35 - 39\",\"Emergency\",\"General Lab\"],[\"Female\",\"35 - 39\",\"Emergency\",\"General Lab\"],[\"Female\",\"35 - 39\",\"Emergency\",\"General Lab\"],[\"Female\",\"35 - 39\",\"Emergency\",\"General Lab\"],[\"Female\",\"35 - 39\",\"Emergency\",\"General Lab\"],[\"Female\",\"35 - 39\",\"Emergency\",\"General Lab\"],[\"Female\",\"35 - 39\",\"Emergency\",\"General Lab\"],[\"Female\",\"35 - 39\",\"Emergency\",\"General Lab\"],[\"Female\",\"35 - 39\",\"Emergency\",\"General Lab\"],[\"Female\",\"35 - 39\",\"Emergency\",\"General Lab\"],[\"Female\",\"35 - 39\",\"Emergency\",\"General Lab\"],[\"Female\",\"35 - 39\",\"Emergency\",\"General Lab\"],[\"Female\",\"35 - 39\",\"Emergency\",\"General Lab\"],[\"Female\",\"35 - 39\",\"Emergency\",\"General Lab\"],[\"Female\",\"35 - 39\",\"Emergency\",\"Radiology\"],[\"Female\",\"35 - 39\",\"Emergency\",\"Encounter Only\"],[\"Female\",\"35 - 39\",\"Emergency\",\"Encounter Only\"],[\"Female\",\"35 - 39\",\"Emergency\",\"Encounter Only\"],[\"Female\",\"35 - 39\",\"Emergency\",\"Encounter Only\"],[\"Female\",\"35 - 39\",\"Emergency\",\"Encounter Only\"],[\"Female\",\"35 - 39\",\"Emergency\",\"Encounter Only\"],[\"Female\",\"35 - 39\",\"Emergency\",\"Encounter Only\"],[\"Female\",\"35 - 39\",\"Emergency\",\"Encounter Only\"],[\"Female\",\"35 - 39\",\"Emergency\",\"Encounter Only\"],[\"Female\",\"35 - 39\",\"Emergency\",\"Encounter Only\"],[\"Female\",\"35 - 39\",\"Emergency\",\"Encounter Only\"],[\"Female\",\"35 - 39\",\"Outpatient\",\"General Lab\"],[\"Female\",\"35 - 39\",\"Outpatient\",\"General Lab\"],[\"Female\",\"35 - 39\",\"Outpatient\",\"Micro\"],[\"Female\",\"35 - 39\",\"Other\",\"Encounter Only\"],[\"Female\",\"35 - 39\",\"Other\",\"Encounter Only\"],[\"Female\",\"35 - 39\",\"Outpatient\",\"Encounter Only\"],[\"Female\",\"35 - 39\",\"Outpatient\",\"Encounter Only\"],[\"Female\",\"35 - 39\",\"Other\",\"Encounter Only\"],[\"Female\",\"35 - 39\",\"Recurring\",\"Encounter Only\"],[\"Female\",\"35 - 39\",\"Outpatient\",\"Encounter Only\"],[\"Female\",\"35 - 39\",\"Outpatient\",\"Encounter Only\"],[\"Female\",\"35 - 39\",\"Outpatient\",\"Encounter Only\"],[\"Female\",\"35 - 39\",\"Outpatient\",\"Encounter Only\"],[\"Female\",\"35 - 39\",\"Outpatient\",\"Encounter Only\"],[\"Female\",\"35 - 39\",\"Outpatient\",\"Encounter Only\"],[\"Female\",\"35 - 39\",\"Outpatient\",\"Encounter Only\"],[\"Female\",\"35 - 39\",\"Outpatient\",\"Encounter Only\"],[\"Female\",\"35 - 39\",\"Inpatient\",\"Encounter Only\"],[\"Female\",\"35 - 39\",\"Inpatient\",\"Encounter Only\"],[\"Female\",\"35 - 39\",\"Recurring\",\"Encounter Only\"],[\"Female\",\"35 - 39\",\"Recurring\",\"Encounter Only\"],[\"Female\",\"35 - 39\",\"Outpatient\",\"Encounter Only\"]]},[{\"stat_type\": \"categorical\", \"name\": \"id\", \"unique_values\": [\"1AB5C92\", \"977D203\", \"102DBC2\", \"C9B9133\", \"DC2302\", \"1A491A2\", \"8A1A543\", \"9A51A2\", \"7C1DB2\", \"2D98203\"]}, {\"stat_type\": \"categorical\", \"name\": \"gender\", \"unique_values\": [\"Female\", \"Male\"]}, {\"stat_type\": \"categorical\", \"name\": \"age_group\", \"unique_values\": [\"25 - 29\", \"45 - 49\", \"35 - 39\", \"60 - 64\", \"20 - 24\", \"50 - 54\", \"30 - 34\"]}, {\"stat_type\": \"categorical\", \"name\": \"encounter_id\", \"unique_values\": [42230255.0, 20125520.0, 36191729.0, 86996036.0, 55289445.0, 22083062.0, 29334171.0, 47136843.0, 33977348.0, 40405740.0, 41872894.0, 91664860.0, 39944218.0, 26276423.0, 40734987.0, 91674350.0, 35738526.0, 30060555.0, 25512557.0, 44186773.0, 36011436.0, 40274284.0, 31296668.0, 90188218.0, 20461999.0, 87120526.0, 43912921.0, 39756628.0, 37852481.0, 30357039.0, 37657794.0, 37587106.0, 42904960.0, 24929450.0, 88228925.0, 85708971.0, 29723724.0, 89048614.0, 45082180.0, 28544502.0, 88058166.0, 30326126.0, 19886380.0, 41529325.0, 20286984.0, 34530491.0, 34125343.0, 39225226.0, 29798796.0, 25439078.0, 41652293.0, 39815674.0, 29026413.0, 92068717.0, 24130052.0, 39174510.0, 29483966.0, 27393990.0, 91928883.0, 23424929.0, 88162301.0, 47202901.0, 91795528.0, 19818896.0, 25763847.0, 23860943.0, 28892619.0, 42143083.0, 43901372.0, 30575337.0, 92016369.0, 47012732.0, 29904969.0, 20015383.0, 33889837.0, 43294412.0, 24683873.0, 31467193.0, 87224056.0, 88001591.0, 25912238.0, 28224980.0, 87256532.0, 90640891.0, 42528226.0, 28765572.0, 37119780.0, 30202859.0, 92020489.0, 37988510.0, 28595579.0, 27196698.0, 25603783.0, 27512904.0, 30757601.0, 41491822.0, 42786155.0, 34221331.0, 32239042.0, 89758041.0, 22212730.0, 90629691.0, 35317685.0, 42685709.0, 85807367.0, 41113956.0, 26506596.0, 19975582.0, 29464770.0, 42338195.0, 20731114.0, 85331556.0, 34856946.0, 88451864.0, 31006937.0, 28264626.0, 84937891.0, 39264334.0, 37683060.0, 32201838.0, 30566397.0, 31633093.0, 36561033.0, 21553673.0, 45835799.0, 33446252.0, 42856468.0, 22075076.0, 89323079.0, 45560123.0, 45272228.0, 37874802.0, 88804502.0, 25133798.0, 91843985.0, 29166871.0, 84914188.0, 23333686.0, 22979819.0, 85733822.0, 33479887.0, 25124039.0, 35278510.0, 30130758.0, 86351658.0, 25101449.0, 23561737.0, 22902542.0, 91976820.0, 44110092.0, 91041652.0, 26746532.0, 88670467.0, 30083439.0, 43273238.0, 33598889.0, 19902049.0, 40058241.0, 85256547.0, 34290077.0, 20811117.0, 91574104.0, 22285096.0, 34289143.0, 41183554.0, 22323452.0, 27356692.0, 28762329.0, 42018847.0, 27505084.0, 87456582.0, 21391361.0, 42063635.0, 21080102.0, 27938824.0, 85808290.0, 30923138.0, 21515321.0, 41019519.0, 36546008.0, 30333420.0, 52766112.0, 22751968.0, 44098621.0, 26175573.0, 87290407.0, 36798243.0, 40362948.0, 89300625.0, 38121092.0, 36232656.0, 41227893.0, 39955884.0, 39285534.0, 34667311.0, 42711950.0, 27224295.0, 21690463.0, 35156450.0, 35488213.0, 87787211.0, 32491414.0, 29052699.0, 84445581.0, 85234680.0, 85325766.0, 19742002.0, 32426953.0, 36377395.0, 32215696.0, 29224331.0, 41160574.0, 21251468.0, 36791419.0, 25631963.0, 86727795.0, 36818812.0, 20827984.0, 33284279.0, 86008853.0]}, {\"stat_type\": \"categorical\", \"name\": \"encounter_class\", \"unique_values\": [\"Inpatient\", \"Recurring\", \"Emergency\", \"Other\", \"Outpatient\", \"Home Care\"]}, {\"stat_type\": \"categorical\", \"name\": \"encounter_type\", \"unique_values\": [\"Inpatient Acute\", \"MHAS - Residential\", \"MHAS - Acute Care\", \"Open Encounter\", \"Emergency\", \"Specimen\", \"Ambulatory\", \"Day Care\", \"Home Care\", \"Recurring/Series\"]}, {\"stat_type\": \"categorical\", \"name\": \"event_type\", \"unique_values\": [\"Encounter Only\", \"Surgery\", \"General Lab\", \"Radiology\", \"Diagnosis\", \"Micro\"]}, {\"stat_type\": \"categorical\", \"name\": \"event_title\", \"unique_values\": [\"Child, Youth & Family\", \"Mental Health\", \"NA\", \"Outpatient\", \"Surgery\", \"Medicine\", \"Laboratory\", \"Diagnostic Imaging\", \"Rehab\", \"Diseases of the digestive system\"]}, {\"stat_type\": \"categorical\", \"name\": \"event_detail\", \"unique_values\": [\"Maternity\", \"Adult Psychiatry\", \"NA\", \"Laboratory\", \"Medical Imaging\", \"Obstetrics\", \"Urology\", \"Colonoscopy (FIT Positive Yes CSP) SN\", \"Albumin Level\", \"ALT\", \"Bilirubin Total\", \"Complete Blood Count and Differential\", \"Confirmatory Hepatitis C Antibody\", \"Hepatitis C Antibody\", \"HIV Quantitative\", \"Potassium Level\", \"Protein Total\", \"Sodium Level\", \"xxAutomated Diff\", \"Hepatitis B Careset\", \"Alkaline Phosphatase\", \"Calcium Level\", \"Creatinine\", \"GGT\", \"Hepatitis A Antibody IgG\", \"Hepatitis B Core Antibody Total\", \"Hepatitis B Surface Antibody\", \"Hepatitis B Surface Antigen\", \"xxCD4\", \"CT Spine Lumbar w/o Contrast\", \"Outpatient\", \"Opthamology\", \"Acute Rehabilitation\", \"XR Tibia/Fibula Right\", \"Medicine Hospitalist\", \"Glucose Random\", \"INR\", \"Coag Panel Careset\", \"Macroscopic Urinalysis\", \"PTT\", \"Acute Hepatitis Careset\", \"Calcium Ionized Level\", \"Carbon Dioxide Total\", \"Chloride Level\", \"Hepatitis A Antibody IgM\", \"Magnesium Level\", \"Syphilis Serology\", \"Thyroid Stimulating Hormone\", \"xxCoagulation Hold Tube\", \"xxProtein Electrophoresis\", \"XR Chest 2 Views\", \"SI ED Basic Careset\", \"Anion Gap\", \"AST\", \"hCG Qualitative\", \"HIV Ag/Ab Combination Assay\", \"Lipase Level\", \"Protein Electrophoresis Careset\", \"HH ECG Electrocardiogram\", \"Medicine (Unspecified)\", \"XR Chest AP/PA 1 View\", \"MRI Spine Lumbar w/o Contrast\", \"Medicine Family Practice\", \"Surgery\", \"Pre-Admission Clinic\", \"Enterology\", \"Clinical Teaching Unit\", \"K42.9,  Umbilical hernia without obs or gangrene\", \"Plastic\", \"Medical Assessment\", \"CT Wrist w/o Contrast Left\", \"XR Wrist and Scaphoid Left\", \"XR Wrist Limited 2 Views Left\", \"Clinical Decision Unit\", \"Troponin T High Sensitivity\", \"Drug Screen Urine Qualitative\", \"xxMicroscopic Urinalysis\", \"Chem 7 Hem Careset\", \"Lactate Level\", \"Urine Culture\"]}, {\"stat_type\": \"categorical\", \"name\": \"event_year\", \"unique_values\": [2013.0, 2015.0, 2011.0, 2016.0, 2009.0, 2014.0, 2012.0, 2017.0, 2010.0, 2007.0]}, {\"stat_type\": \"categorical\", \"name\": \"event_month\", \"unique_values\": [1.0, 12.0, 6.0, 5.0, 7.0, 10.0, 4.0, 9.0, 11.0, 3.0, 2.0, 8.0]}, {\"stat_type\": \"realAdditive\", \"name\": \"start_day\"}, {\"stat_type\": \"realAdditive\", \"name\": \"end_day\"}, {\"stat_type\": \"realAdditive\", \"name\": \"duration_days\"}, {\"stat_type\": \"categorical\", \"name\": \"location_map_id\", \"unique_values\": [1673.0, 874.0, 903.0, 601.0, 1261.0, 2116.0, 1429.0, 807.0, 2230.0, 167.0, 2021.0, 1448.0, 139.0, 1582.0, 916.0, 1554.0, 1773.0, 1264.0, 1765.0, 1109.0, 483.0, 1853.0, 671.0, 1977.0, 227.0, 922.0, 1657.0, 388.0, 567.0, 718.0, 1514.0, 971.0, 520.0, 182.0, 1499.0, 251.0, 755.0, 1170.0, 1748.0, 1631.0, 595.0, 934.0, 768.0, 513.0, 1983.0, 766.0, 639.0, 2223.0, 1526.0, 243.0, 876.0, 1825.0, 787.0, 2232.0, 2180.0, 1177.0, 1487.0, 1612.0, 1181.0, 1810.0, 1819.0, 93.0, 209.0, 1611.0, 878.0, 34.0, 2076.0, 2038.0, 614.0, 1720.0, 296.0, 2125.0, 1032.0, 2119.0, 1723.0, 935.0, 132.0, 1490.0, 1365.0, 1718.0, 2035.0, 2190.0, 275.0, 947.0, 844.0, 2011.0, 390.0, 1601.0, 1408.0, 1033.0]}])"
      ],
      "text/plain": [
       "<IPython.core.display.Javascript object>"
      ]
     },
     "execution_count": 67,
     "metadata": {},
     "output_type": "execute_result"
    }
   ],
   "source": [
    "%%bql\n",
    ".interactive_pairplot --population=ehr_population \n",
    "SELECT\n",
    "\"gender\",\n",
    "\"age_group\",\n",
    "\"encounter_class\",\n",
    "\"event_type\"\n",
    "FROM ds"
   ]
  },
  {
   "cell_type": "code",
   "execution_count": 68,
   "metadata": {
    "collapsed": true
   },
   "outputs": [
    {
     "data": {
      "application/javascript": [
       "function pairplot(df, schema) {\n",
       "  var myCell = element.is('.output_subarea') ? element : element.next();\n",
       "  if (typeof VizGPMReady === 'undefined') {\n",
       "    throw new Error('VizGPM Display Library not loaded')\n",
       "  }\n",
       "\n",
       "  var container = $('<div>')\n",
       "    .appendTo(myCell);\n",
       "\n",
       "  VizGPMReady.then(function(VizGPM) {\n",
       "    const _ = VizGPM._;\n",
       "\n",
       "    const SP = VizGPM.StateProperty\n",
       "\n",
       "    for (const col of schema) {\n",
       "      if (col.stat_type == 'numerical') {\n",
       "        col.stat_type = 'realAdditive';\n",
       "      }\n",
       "\n",
       "      if (col.stat_type == 'nominal') {\n",
       "        col.stat_type = 'categorical';\n",
       "      }\n",
       "    }\n",
       "\n",
       "    function rowProxy(__key) {\n",
       "      const obj = {__key};\n",
       "      for (const column of df.columns) {\n",
       "        obj[column] = df.data[__key].shift();\n",
       "      }\n",
       "      return obj;\n",
       "    }\n",
       "\n",
       "    const rows = [];\n",
       "    for(let index = 0; index < df.data.length; index++) {\n",
       "      rows.push(rowProxy(index));\n",
       "    }\n",
       "\n",
       "    var stateManager = new VizGPM.StateManager({\n",
       "      [SP.SCHEMA]: {columns: schema},\n",
       "      [SP.SELECTED_COLUMN_NAMES]: df.columns,\n",
       "      [SP.GET_COLUMN_FUNCTION]: col =>\n",
       "        VizGPM.GpmHandler.prototype._getColumn.call(stateManager, col),\n",
       "      [SP.DISPLAYED_ROWS]: rows,\n",
       "    });\n",
       "\n",
       "    const plot = new VizGPM.PairPlot({\n",
       "      root: container[0],\n",
       "      stateManager: stateManager,\n",
       "    });\n",
       "  })\n",
       "}\n",
       ";pairplot({\"columns\":[\"gender\",\"age_group\",\"encounter_class\",\"event_type\"],\"index\":[0,1,2,3,4,5,6,7,8,9,10,11,12,13,14,15,16,17,18,19,20,21,22,23,24,25,26,27,28,29,30,31,32,33,34,35,36,37,38,39,40,41,42,43,44,45,46,47,48,49,50,51,52,53,54,55,56,57,58,59,60,61,62,63,64,65,66,67,68,69,70,71,72,73,74,75,76,77,78,79,80,81,82,83,84,85,86,87,88,89,90,91,92,93,94,95,96,97,98,99,100,101,102,103,104,105,106,107,108,109,110,111,112,113,114,115,116,117,118,119,120,121,122,123,124,125,126,127,128,129,130,131,132,133,134,135,136,137,138,139,140,141,142,143,144,145,146,147,148,149,150,151,152,153,154,155,156,157,158,159,160,161,162,163,164,165,166,167,168,169,170,171,172,173,174,175,176,177,178,179,180,181,182,183,184,185,186,187,188,189,190,191,192,193,194,195,196,197,198,199,200,201,202,203,204,205,206,207,208,209,210,211,212,213,214,215,216,217,218,219,220,221,222,223,224,225,226,227,228,229,230,231,232,233,234,235,236,237,238,239,240,241,242,243,244,245,246,247,248,249,250,251,252,253,254,255,256,257,258,259,260,261,262,263,264,265,266,267,268,269,270,271,272,273,274,275,276,277,278,279,280,281,282,283,284,285,286,287,288,289,290,291,292,293,294,295,296,297,298,299,300,301,302,303,304,305,306,307,308,309,310,311,312,313,314,315,316,317,318,319,320,321,322,323,324],\"data\":[[\"Male\",\"45 - 49\",\"Inpatient\",\"General Lab\"],[\"Female\",\"35 - 39\",\"Inpatient\",\"Encounter Only\"],[\"Female\",\"35 - 39\",\"Inpatient\",\"Encounter Only\"],[\"Female\",\"35 - 39\",\"Outpatient\",\"General Lab\"],[\"Male\",\"45 - 49\",\"Emergency\",\"Micro\"],[\"Female\",\"35 - 39\",\"Emergency\",\"Encounter Only\"],[\"Male\",\"45 - 49\",\"Inpatient\",\"General Lab\"],[\"Male\",\"35 - 39\",\"Emergency\",\"Encounter Only\"],[\"Female\",\"35 - 39\",\"Inpatient\",\"Encounter Only\"],[\"Male\",\"35 - 39\",\"Inpatient\",\"Encounter Only\"],[\"Male\",\"45 - 49\",\"Emergency\",\"Encounter Only\"],[\"Male\",\"60 - 64\",\"Outpatient\",\"Encounter Only\"],[\"Female\",\"45 - 49\",\"Emergency\",\"Encounter Only\"],[\"Female\",\"60 - 64\",\"Other\",\"General Lab\"],[\"Male\",\"50 - 54\",\"Recurring\",\"Encounter Only\"],[\"Female\",\"35 - 39\",\"Emergency\",\"General Lab\"],[\"Male\",\"45 - 49\",\"Inpatient\",\"Encounter Only\"],[\"Male\",\"45 - 49\",\"Inpatient\",\"General Lab\"],[\"Female\",\"35 - 39\",\"Inpatient\",\"Encounter Only\"],[\"Male\",\"60 - 64\",\"Emergency\",\"General Lab\"],[\"Male\",\"60 - 64\",\"Outpatient\",\"General Lab\"],[\"Female\",\"35 - 39\",\"Emergency\",\"General Lab\"],[\"Male\",\"60 - 64\",\"Inpatient\",\"General Lab\"],[\"Male\",\"60 - 64\",\"Inpatient\",\"General Lab\"],[\"Male\",\"30 - 34\",\"Other\",\"General Lab\"],[\"Female\",\"45 - 49\",\"Recurring\",\"Encounter Only\"],[\"Male\",\"35 - 39\",\"Emergency\",\"Diagnosis\"],[\"Male\",\"60 - 64\",\"Emergency\",\"General Lab\"],[\"Female\",\"35 - 39\",\"Recurring\",\"Diagnosis\"],[\"Female\",\"35 - 39\",\"Outpatient\",\"Encounter Only\"],[\"Female\",\"35 - 39\",\"Inpatient\",\"Encounter Only\"],[\"Male\",\"60 - 64\",\"Inpatient\",\"General Lab\"],[\"Male\",\"60 - 64\",\"Inpatient\",\"General Lab\"],[\"Female\",\"35 - 39\",\"Inpatient\",\"Radiology\"],[\"Male\",\"60 - 64\",\"Inpatient\",\"General Lab\"],[\"Male\",\"45 - 49\",\"Inpatient\",\"Radiology\"],[\"Male\",\"60 - 64\",\"Emergency\",\"Encounter Only\"],[\"Male\",\"45 - 49\",\"Emergency\",\"General Lab\"],[\"Male\",\"60 - 64\",\"Inpatient\",\"General Lab\"],[\"Male\",\"45 - 49\",\"Emergency\",\"General Lab\"],[\"Male\",\"60 - 64\",\"Emergency\",\"Encounter Only\"],[\"Female\",\"35 - 39\",\"Outpatient\",\"Encounter Only\"],[\"Female\",\"30 - 34\",\"Inpatient\",\"Encounter Only\"],[\"Male\",\"20 - 24\",\"Emergency\",\"General Lab\"],[\"Male\",\"60 - 64\",\"Emergency\",\"Encounter Only\"],[\"Male\",\"60 - 64\",\"Emergency\",\"Encounter Only\"],[\"Male\",\"45 - 49\",\"Emergency\",\"General Lab\"],[\"Female\",\"25 - 29\",\"Emergency\",\"Encounter Only\"],[\"Male\",\"60 - 64\",\"Outpatient\",\"Encounter Only\"],[\"Female\",\"25 - 29\",\"Recurring\",\"Radiology\"],[\"Male\",\"60 - 64\",\"Inpatient\",\"General Lab\"],[\"Male\",\"45 - 49\",\"Inpatient\",\"Encounter Only\"],[\"Female\",\"60 - 64\",\"Emergency\",\"Encounter Only\"],[\"Female\",\"25 - 29\",\"Outpatient\",\"Encounter Only\"],[\"Male\",\"60 - 64\",\"Emergency\",\"General Lab\"],[\"Male\",\"20 - 24\",\"Inpatient\",\"Encounter Only\"],[\"Female\",\"35 - 39\",\"Outpatient\",\"Encounter Only\"],[\"Male\",\"35 - 39\",\"Outpatient\",\"Encounter Only\"],[\"Female\",\"60 - 64\",\"Outpatient\",\"Encounter Only\"],[\"Male\",\"45 - 49\",\"Recurring\",\"Encounter Only\"],[\"Female\",\"25 - 29\",\"Emergency\",\"Radiology\"],[\"Male\",\"60 - 64\",\"Outpatient\",\"Encounter Only\"],[\"Male\",\"30 - 34\",\"Inpatient\",\"Encounter Only\"],[\"Male\",\"60 - 64\",\"Other\",\"General Lab\"],[\"Male\",\"45 - 49\",\"Inpatient\",\"Encounter Only\"],[\"Male\",\"45 - 49\",\"Inpatient\",\"Encounter Only\"],[\"Male\",\"35 - 39\",\"Inpatient\",\"Encounter Only\"],[\"Male\",\"35 - 39\",\"Emergency\",\"Encounter Only\"],[\"Male\",\"60 - 64\",\"Inpatient\",\"General Lab\"],[\"Male\",\"45 - 49\",\"Inpatient\",\"General Lab\"],[\"Male\",\"60 - 64\",\"Inpatient\",\"General Lab\"],[\"Male\",\"45 - 49\",\"Emergency\",\"Encounter Only\"],[\"Male\",\"60 - 64\",\"Inpatient\",\"General Lab\"],[\"Male\",\"45 - 49\",\"Emergency\",\"Encounter Only\"],[\"Male\",\"35 - 39\",\"Emergency\",\"Encounter Only\"],[\"Male\",\"45 - 49\",\"Emergency\",\"General Lab\"],[\"Male\",\"45 - 49\",\"Inpatient\",\"General Lab\"],[\"Female\",\"45 - 49\",\"Recurring\",\"Radiology\"],[\"Female\",\"35 - 39\",\"Emergency\",\"Encounter Only\"],[\"Female\",\"35 - 39\",\"Emergency\",\"Radiology\"],[\"Male\",\"50 - 54\",\"Emergency\",\"Encounter Only\"],[\"Male\",\"45 - 49\",\"Emergency\",\"General Lab\"],[\"Male\",\"35 - 39\",\"Emergency\",\"Encounter Only\"],[\"Female\",\"35 - 39\",\"Outpatient\",\"Encounter Only\"],[\"Male\",\"60 - 64\",\"Emergency\",\"General Lab\"],[\"Female\",\"50 - 54\",\"Inpatient\",\"Encounter Only\"],[\"Female\",\"35 - 39\",\"Emergency\",\"Surgery\"],[\"Male\",\"45 - 49\",\"Other\",\"General Lab\"],[\"Female\",\"60 - 64\",\"Home Care\",\"General Lab\"],[\"Female\",\"35 - 39\",\"Inpatient\",\"Radiology\"],[\"Female\",\"45 - 49\",\"Outpatient\",\"Encounter Only\"],[\"Female\",\"60 - 64\",\"Outpatient\",\"Encounter Only\"],[\"Male\",\"35 - 39\",\"Emergency\",\"Encounter Only\"],[\"Male\",\"35 - 39\",\"Emergency\",\"Encounter Only\"],[\"Male\",\"45 - 49\",\"Inpatient\",\"Radiology\"],[\"Male\",\"50 - 54\",\"Recurring\",\"General Lab\"],[\"Male\",\"35 - 39\",\"Inpatient\",\"Encounter Only\"],[\"Male\",\"45 - 49\",\"Outpatient\",\"Encounter Only\"],[\"Female\",\"25 - 29\",\"Emergency\",\"Micro\"],[\"Male\",\"45 - 49\",\"Inpatient\",\"Surgery\"],[\"Female\",\"50 - 54\",\"Other\",\"Encounter Only\"],[\"Female\",\"30 - 34\",\"Emergency\",\"Encounter Only\"],[\"Male\",\"20 - 24\",\"Inpatient\",\"Encounter Only\"],[\"Male\",\"30 - 34\",\"Emergency\",\"Encounter Only\"],[\"Male\",\"60 - 64\",\"Inpatient\",\"Encounter Only\"],[\"Male\",\"60 - 64\",\"Inpatient\",\"General Lab\"],[\"Female\",\"60 - 64\",\"Outpatient\",\"Encounter Only\"],[\"Male\",\"30 - 34\",\"Other\",\"General Lab\"],[\"Male\",\"60 - 64\",\"Inpatient\",\"General Lab\"],[\"Male\",\"20 - 24\",\"Inpatient\",\"Encounter Only\"],[\"Male\",\"35 - 39\",\"Emergency\",\"General Lab\"],[\"Male\",\"60 - 64\",\"Inpatient\",\"General Lab\"],[\"Male\",\"25 - 29\",\"Inpatient\",\"Encounter Only\"],[\"Female\",\"45 - 49\",\"Recurring\",\"Encounter Only\"],[\"Male\",\"30 - 34\",\"Emergency\",\"Encounter Only\"],[\"Male\",\"35 - 39\",\"Inpatient\",\"Encounter Only\"],[\"Male\",\"45 - 49\",\"Outpatient\",\"Encounter Only\"],[\"Male\",\"60 - 64\",\"Outpatient\",\"Encounter Only\"],[\"Male\",\"45 - 49\",\"Emergency\",\"Encounter Only\"],[\"Male\",\"35 - 39\",\"Emergency\",\"Encounter Only\"],[\"Male\",\"45 - 49\",\"Inpatient\",\"General Lab\"],[\"Male\",\"50 - 54\",\"Other\",\"Encounter Only\"],[\"Male\",\"35 - 39\",\"Inpatient\",\"General Lab\"],[\"Female\",\"50 - 54\",\"Other\",\"Radiology\"],[\"Female\",\"25 - 29\",\"Inpatient\",\"Encounter Only\"],[\"Male\",\"45 - 49\",\"Inpatient\",\"General Lab\"],[\"Male\",\"60 - 64\",\"Other\",\"General Lab\"],[\"Male\",\"60 - 64\",\"Inpatient\",\"Encounter Only\"],[\"Male\",\"30 - 34\",\"Recurring\",\"Micro\"],[\"Male\",\"20 - 24\",\"Inpatient\",\"Encounter Only\"],[\"Male\",\"45 - 49\",\"Emergency\",\"General Lab\"],[\"Male\",\"45 - 49\",\"Emergency\",\"General Lab\"],[\"Female\",\"35 - 39\",\"Inpatient\",\"Encounter Only\"],[\"Male\",\"60 - 64\",\"Outpatient\",\"Encounter Only\"],[\"Male\",\"60 - 64\",\"Outpatient\",\"Encounter Only\"],[\"Male\",\"25 - 29\",\"Emergency\",\"Encounter Only\"],[\"Female\",\"25 - 29\",\"Inpatient\",\"Encounter Only\"],[\"Male\",\"30 - 34\",\"Recurring\",\"Encounter Only\"],[\"Male\",\"25 - 29\",\"Other\",\"Encounter Only\"],[\"Male\",\"45 - 49\",\"Emergency\",\"General Lab\"],[\"Male\",\"60 - 64\",\"Outpatient\",\"Encounter Only\"],[\"Female\",\"25 - 29\",\"Inpatient\",\"Micro\"],[\"Male\",\"35 - 39\",\"Recurring\",\"Encounter Only\"],[\"Male\",\"60 - 64\",\"Inpatient\",\"Radiology\"],[\"Male\",\"45 - 49\",\"Inpatient\",\"Encounter Only\"],[\"Male\",\"35 - 39\",\"Outpatient\",\"Encounter Only\"],[\"Male\",\"60 - 64\",\"Inpatient\",\"Encounter Only\"],[\"Female\",\"35 - 39\",\"Outpatient\",\"Encounter Only\"],[\"Male\",\"50 - 54\",\"Emergency\",\"Encounter Only\"],[\"Female\",\"35 - 39\",\"Emergency\",\"Encounter Only\"],[\"Male\",\"45 - 49\",\"Inpatient\",\"General Lab\"],[\"Female\",\"35 - 39\",\"Inpatient\",\"Encounter Only\"],[\"Male\",\"25 - 29\",\"Inpatient\",\"Micro\"],[\"Female\",\"45 - 49\",\"Emergency\",\"Radiology\"],[\"Male\",\"60 - 64\",\"Outpatient\",\"Encounter Only\"],[\"Female\",\"25 - 29\",\"Recurring\",\"Encounter Only\"],[\"Male\",\"45 - 49\",\"Emergency\",\"Encounter Only\"],[\"Male\",\"30 - 34\",\"Inpatient\",\"Encounter Only\"],[\"Male\",\"45 - 49\",\"Outpatient\",\"Encounter Only\"],[\"Male\",\"60 - 64\",\"Inpatient\",\"Encounter Only\"],[\"Male\",\"60 - 64\",\"Home Care\",\"Radiology\"],[\"Male\",\"25 - 29\",\"Emergency\",\"Encounter Only\"],[\"Male\",\"60 - 64\",\"Outpatient\",\"Encounter Only\"],[\"Male\",\"50 - 54\",\"Inpatient\",\"Encounter Only\"],[\"Male\",\"60 - 64\",\"Emergency\",\"General Lab\"],[\"Male\",\"60 - 64\",\"Other\",\"Encounter Only\"],[\"Female\",\"30 - 34\",\"Emergency\",\"General Lab\"],[\"Male\",\"50 - 54\",\"Emergency\",\"Encounter Only\"],[\"Male\",\"35 - 39\",\"Outpatient\",\"Encounter Only\"],[\"Female\",\"35 - 39\",\"Emergency\",\"General Lab\"],[\"Female\",\"35 - 39\",\"Emergency\",\"General Lab\"],[\"Female\",\"60 - 64\",\"Emergency\",\"Encounter Only\"],[\"Female\",\"50 - 54\",\"Recurring\",\"Encounter Only\"],[\"Male\",\"30 - 34\",\"Emergency\",\"Encounter Only\"],[\"Male\",\"25 - 29\",\"Recurring\",\"Surgery\"],[\"Male\",\"35 - 39\",\"Emergency\",\"Diagnosis\"],[\"Female\",\"60 - 64\",\"Emergency\",\"Encounter Only\"],[\"Female\",\"35 - 39\",\"Home Care\",\"Encounter Only\"],[\"Male\",\"45 - 49\",\"Other\",\"General Lab\"],[\"Male\",\"25 - 29\",\"Recurring\",\"Encounter Only\"],[\"Male\",\"35 - 39\",\"Emergency\",\"Encounter Only\"],[\"Female\",\"45 - 49\",\"Emergency\",\"General Lab\"],[\"Male\",\"25 - 29\",\"Emergency\",\"General Lab\"],[\"Female\",\"60 - 64\",\"Outpatient\",\"Encounter Only\"],[\"Female\",\"50 - 54\",\"Emergency\",\"Radiology\"],[\"Male\",\"35 - 39\",\"Outpatient\",\"Encounter Only\"],[\"Female\",\"60 - 64\",\"Emergency\",\"Radiology\"],[\"Male\",\"50 - 54\",\"Outpatient\",\"Encounter Only\"],[\"Male\",\"60 - 64\",\"Inpatient\",\"Encounter Only\"],[\"Female\",\"30 - 34\",\"Other\",\"General Lab\"],[\"Male\",\"45 - 49\",\"Inpatient\",\"General Lab\"],[\"Male\",\"45 - 49\",\"Inpatient\",\"Encounter Only\"],[\"Male\",\"60 - 64\",\"Other\",\"General Lab\"],[\"Male\",\"60 - 64\",\"Inpatient\",\"General Lab\"],[\"Male\",\"60 - 64\",\"Other\",\"General Lab\"],[\"Female\",\"35 - 39\",\"Emergency\",\"Encounter Only\"],[\"Male\",\"45 - 49\",\"Inpatient\",\"General Lab\"],[\"Female\",\"35 - 39\",\"Other\",\"Encounter Only\"],[\"Male\",\"20 - 24\",\"Inpatient\",\"Encounter Only\"],[\"Male\",\"45 - 49\",\"Inpatient\",\"General Lab\"],[\"Female\",\"60 - 64\",\"Emergency\",\"Encounter Only\"],[\"Male\",\"35 - 39\",\"Emergency\",\"Diagnosis\"],[\"Female\",\"45 - 49\",\"Inpatient\",\"Encounter Only\"],[\"Male\",\"45 - 49\",\"Emergency\",\"General Lab\"],[\"Male\",\"35 - 39\",\"Inpatient\",\"Encounter Only\"],[\"Male\",\"35 - 39\",\"Home Care\",\"Encounter Only\"],[\"Male\",\"30 - 34\",\"Outpatient\",\"Encounter Only\"],[\"Male\",\"35 - 39\",\"Inpatient\",\"Encounter Only\"],[\"Male\",\"60 - 64\",\"Emergency\",\"Encounter Only\"],[\"Female\",\"60 - 64\",\"Emergency\",\"General Lab\"],[\"Male\",\"25 - 29\",\"Outpatient\",\"Encounter Only\"],[\"Male\",\"35 - 39\",\"Recurring\",\"General Lab\"],[\"Male\",\"35 - 39\",\"Outpatient\",\"Encounter Only\"],[\"Female\",\"35 - 39\",\"Inpatient\",\"Surgery\"],[\"Male\",\"50 - 54\",\"Recurring\",\"General Lab\"],[\"Male\",\"30 - 34\",\"Emergency\",\"Encounter Only\"],[\"Male\",\"35 - 39\",\"Outpatient\",\"Encounter Only\"],[\"Male\",\"60 - 64\",\"Outpatient\",\"Encounter Only\"],[\"Female\",\"25 - 29\",\"Emergency\",\"Encounter Only\"],[\"Male\",\"35 - 39\",\"Recurring\",\"Encounter Only\"],[\"Female\",\"20 - 24\",\"Emergency\",\"General Lab\"],[\"Female\",\"35 - 39\",\"Inpatient\",\"Radiology\"],[\"Female\",\"45 - 49\",\"Inpatient\",\"Encounter Only\"],[\"Female\",\"50 - 54\",\"Recurring\",\"Radiology\"],[\"Male\",\"45 - 49\",\"Inpatient\",\"Encounter Only\"],[\"Male\",\"45 - 49\",\"Outpatient\",\"Encounter Only\"],[\"Male\",\"45 - 49\",\"Recurring\",\"Encounter Only\"],[\"Male\",\"45 - 49\",\"Outpatient\",\"Radiology\"],[\"Male\",\"45 - 49\",\"Inpatient\",\"General Lab\"],[\"Female\",\"20 - 24\",\"Recurring\",\"Radiology\"],[\"Male\",\"60 - 64\",\"Inpatient\",\"Diagnosis\"],[\"Male\",\"60 - 64\",\"Home Care\",\"General Lab\"],[\"Female\",\"20 - 24\",\"Inpatient\",\"Encounter Only\"],[\"Male\",\"20 - 24\",\"Inpatient\",\"General Lab\"],[\"Male\",\"60 - 64\",\"Other\",\"General Lab\"],[\"Male\",\"45 - 49\",\"Emergency\",\"General Lab\"],[\"Male\",\"45 - 49\",\"Inpatient\",\"General Lab\"],[\"Male\",\"60 - 64\",\"Inpatient\",\"Diagnosis\"],[\"Male\",\"60 - 64\",\"Inpatient\",\"General Lab\"],[\"Male\",\"20 - 24\",\"Inpatient\",\"Encounter Only\"],[\"Female\",\"45 - 49\",\"Inpatient\",\"General Lab\"],[\"Female\",\"35 - 39\",\"Inpatient\",\"Encounter Only\"],[\"Male\",\"45 - 49\",\"Inpatient\",\"Encounter Only\"],[\"Female\",\"20 - 24\",\"Inpatient\",\"Encounter Only\"],[\"Male\",\"35 - 39\",\"Inpatient\",\"Encounter Only\"],[\"Male\",\"45 - 49\",\"Other\",\"General Lab\"],[\"Female\",\"35 - 39\",\"Other\",\"Encounter Only\"],[\"Male\",\"60 - 64\",\"Emergency\",\"Encounter Only\"],[\"Male\",\"45 - 49\",\"Inpatient\",\"General Lab\"],[\"Female\",\"45 - 49\",\"Emergency\",\"General Lab\"],[\"Female\",\"60 - 64\",\"Home Care\",\"Radiology\"],[\"Female\",\"35 - 39\",\"Inpatient\",\"General Lab\"],[\"Male\",\"45 - 49\",\"Inpatient\",\"Encounter Only\"],[\"Female\",\"30 - 34\",\"Outpatient\",\"Encounter Only\"],[\"Male\",\"60 - 64\",\"Other\",\"Diagnosis\"],[\"Female\",\"35 - 39\",\"Recurring\",\"Encounter Only\"],[\"Male\",\"45 - 49\",\"Outpatient\",\"Encounter Only\"],[\"Male\",\"35 - 39\",\"Emergency\",\"General Lab\"],[\"Male\",\"35 - 39\",\"Other\",\"Encounter Only\"],[\"Female\",\"45 - 49\",\"Inpatient\",\"General Lab\"],[\"Female\",\"60 - 64\",\"Emergency\",\"General Lab\"],[\"Male\",\"50 - 54\",\"Inpatient\",\"Encounter Only\"],[\"Male\",\"45 - 49\",\"Inpatient\",\"General Lab\"],[\"Male\",\"20 - 24\",\"Inpatient\",\"General Lab\"],[\"Male\",\"35 - 39\",\"Inpatient\",\"Encounter Only\"],[\"Female\",\"50 - 54\",\"Inpatient\",\"Radiology\"],[\"Male\",\"45 - 49\",\"Inpatient\",\"Encounter Only\"],[\"Male\",\"45 - 49\",\"Inpatient\",\"General Lab\"],[\"Male\",\"45 - 49\",\"Inpatient\",\"General Lab\"],[\"Female\",\"60 - 64\",\"Inpatient\",\"Radiology\"],[\"Male\",\"60 - 64\",\"Inpatient\",\"General Lab\"],[\"Male\",\"35 - 39\",\"Emergency\",\"Encounter Only\"],[\"Male\",\"45 - 49\",\"Emergency\",\"Radiology\"],[\"Male\",\"60 - 64\",\"Outpatient\",\"Radiology\"],[\"Female\",\"30 - 34\",\"Emergency\",\"Encounter Only\"],[\"Female\",\"35 - 39\",\"Emergency\",\"Radiology\"],[\"Female\",\"45 - 49\",\"Outpatient\",\"Encounter Only\"],[\"Female\",\"45 - 49\",\"Home Care\",\"Encounter Only\"],[\"Female\",\"35 - 39\",\"Emergency\",\"Radiology\"],[\"Male\",\"60 - 64\",\"Other\",\"Encounter Only\"],[\"Female\",\"35 - 39\",\"Outpatient\",\"Encounter Only\"],[\"Male\",\"30 - 34\",\"Emergency\",\"Encounter Only\"],[\"Female\",\"35 - 39\",\"Inpatient\",\"General Lab\"],[\"Male\",\"60 - 64\",\"Other\",\"Micro\"],[\"Male\",\"45 - 49\",\"Emergency\",\"Diagnosis\"],[\"Female\",\"35 - 39\",\"Other\",\"Encounter Only\"],[\"Male\",\"60 - 64\",\"Emergency\",\"Encounter Only\"],[\"Male\",\"45 - 49\",\"Inpatient\",\"General Lab\"],[\"Male\",\"35 - 39\",\"Emergency\",\"Encounter Only\"],[\"Female\",\"60 - 64\",\"Outpatient\",\"Radiology\"],[\"Female\",\"50 - 54\",\"Other\",\"Encounter Only\"],[\"Female\",\"60 - 64\",\"Home Care\",\"Encounter Only\"],[\"Male\",\"60 - 64\",\"Inpatient\",\"Encounter Only\"],[\"Male\",\"60 - 64\",\"Emergency\",\"General Lab\"],[\"Male\",\"45 - 49\",\"Recurring\",\"Encounter Only\"],[\"Male\",\"45 - 49\",\"Inpatient\",\"Encounter Only\"],[\"Female\",\"45 - 49\",\"Other\",\"General Lab\"],[\"Female\",\"35 - 39\",\"Other\",\"Diagnosis\"],[\"Male\",\"45 - 49\",\"Emergency\",\"Encounter Only\"],[\"Male\",\"50 - 54\",\"Outpatient\",\"Encounter Only\"],[\"Female\",\"35 - 39\",\"Other\",\"General Lab\"],[\"Male\",\"60 - 64\",\"Outpatient\",\"Radiology\"],[\"Female\",\"35 - 39\",\"Emergency\",\"Encounter Only\"],[\"Male\",\"45 - 49\",\"Emergency\",\"Encounter Only\"],[\"Male\",\"60 - 64\",\"Inpatient\",\"General Lab\"],[\"Female\",\"20 - 24\",\"Outpatient\",\"Encounter Only\"],[\"Male\",\"45 - 49\",\"Emergency\",\"Encounter Only\"],[\"Male\",\"60 - 64\",\"Inpatient\",\"General Lab\"],[\"Male\",\"35 - 39\",\"Outpatient\",\"Encounter Only\"],[\"Female\",\"35 - 39\",\"Emergency\",\"Encounter Only\"],[\"Male\",\"45 - 49\",\"Recurring\",\"Encounter Only\"],[\"Male\",\"20 - 24\",\"Recurring\",\"Encounter Only\"],[\"Male\",\"60 - 64\",\"Inpatient\",\"General Lab\"],[\"Male\",\"45 - 49\",\"Outpatient\",\"Surgery\"],[\"Male\",\"45 - 49\",\"Other\",\"Radiology\"],[\"Male\",\"45 - 49\",\"Emergency\",\"Micro\"],[\"Male\",\"25 - 29\",\"Outpatient\",\"Encounter Only\"],[\"Male\",\"35 - 39\",\"Emergency\",\"General Lab\"],[\"Male\",\"45 - 49\",\"Inpatient\",\"Encounter Only\"],[\"Male\",\"60 - 64\",\"Inpatient\",\"General Lab\"],[\"Female\",\"45 - 49\",\"Recurring\",\"Encounter Only\"],[\"Male\",\"60 - 64\",\"Outpatient\",\"Encounter Only\"],[\"Male\",\"60 - 64\",\"Inpatient\",\"General Lab\"],[\"Female\",\"60 - 64\",\"Other\",\"Encounter Only\"],[\"Male\",\"20 - 24\",\"Recurring\",\"Diagnosis\"]]},[{\"stat_type\": \"categorical\", \"name\": \"id\", \"unique_values\": [\"1AB5C92\", \"977D203\", \"102DBC2\", \"C9B9133\", \"DC2302\", \"1A491A2\", \"8A1A543\", \"9A51A2\", \"7C1DB2\", \"2D98203\"]}, {\"stat_type\": \"categorical\", \"name\": \"gender\", \"unique_values\": [\"Female\", \"Male\"]}, {\"stat_type\": \"categorical\", \"name\": \"age_group\", \"unique_values\": [\"25 - 29\", \"45 - 49\", \"35 - 39\", \"60 - 64\", \"20 - 24\", \"50 - 54\", \"30 - 34\"]}, {\"stat_type\": \"categorical\", \"name\": \"encounter_id\", \"unique_values\": [42230255.0, 20125520.0, 36191729.0, 86996036.0, 55289445.0, 22083062.0, 29334171.0, 47136843.0, 33977348.0, 40405740.0, 41872894.0, 91664860.0, 39944218.0, 26276423.0, 40734987.0, 91674350.0, 35738526.0, 30060555.0, 25512557.0, 44186773.0, 36011436.0, 40274284.0, 31296668.0, 90188218.0, 20461999.0, 87120526.0, 43912921.0, 39756628.0, 37852481.0, 30357039.0, 37657794.0, 37587106.0, 42904960.0, 24929450.0, 88228925.0, 85708971.0, 29723724.0, 89048614.0, 45082180.0, 28544502.0, 88058166.0, 30326126.0, 19886380.0, 41529325.0, 20286984.0, 34530491.0, 34125343.0, 39225226.0, 29798796.0, 25439078.0, 41652293.0, 39815674.0, 29026413.0, 92068717.0, 24130052.0, 39174510.0, 29483966.0, 27393990.0, 91928883.0, 23424929.0, 88162301.0, 47202901.0, 91795528.0, 19818896.0, 25763847.0, 23860943.0, 28892619.0, 42143083.0, 43901372.0, 30575337.0, 92016369.0, 47012732.0, 29904969.0, 20015383.0, 33889837.0, 43294412.0, 24683873.0, 31467193.0, 87224056.0, 88001591.0, 25912238.0, 28224980.0, 87256532.0, 90640891.0, 42528226.0, 28765572.0, 37119780.0, 30202859.0, 92020489.0, 37988510.0, 28595579.0, 27196698.0, 25603783.0, 27512904.0, 30757601.0, 41491822.0, 42786155.0, 34221331.0, 32239042.0, 89758041.0, 22212730.0, 90629691.0, 35317685.0, 42685709.0, 85807367.0, 41113956.0, 26506596.0, 19975582.0, 29464770.0, 42338195.0, 20731114.0, 85331556.0, 34856946.0, 88451864.0, 31006937.0, 28264626.0, 84937891.0, 39264334.0, 37683060.0, 32201838.0, 30566397.0, 31633093.0, 36561033.0, 21553673.0, 45835799.0, 33446252.0, 42856468.0, 22075076.0, 89323079.0, 45560123.0, 45272228.0, 37874802.0, 88804502.0, 25133798.0, 91843985.0, 29166871.0, 84914188.0, 23333686.0, 22979819.0, 85733822.0, 33479887.0, 25124039.0, 35278510.0, 30130758.0, 86351658.0, 25101449.0, 23561737.0, 22902542.0, 91976820.0, 44110092.0, 91041652.0, 26746532.0, 88670467.0, 30083439.0, 43273238.0, 33598889.0, 19902049.0, 40058241.0, 85256547.0, 34290077.0, 20811117.0, 91574104.0, 22285096.0, 34289143.0, 41183554.0, 22323452.0, 27356692.0, 28762329.0, 42018847.0, 27505084.0, 87456582.0, 21391361.0, 42063635.0, 21080102.0, 27938824.0, 85808290.0, 30923138.0, 21515321.0, 41019519.0, 36546008.0, 30333420.0, 52766112.0, 22751968.0, 44098621.0, 26175573.0, 87290407.0, 36798243.0, 40362948.0, 89300625.0, 38121092.0, 36232656.0, 41227893.0, 39955884.0, 39285534.0, 34667311.0, 42711950.0, 27224295.0, 21690463.0, 35156450.0, 35488213.0, 87787211.0, 32491414.0, 29052699.0, 84445581.0, 85234680.0, 85325766.0, 19742002.0, 32426953.0, 36377395.0, 32215696.0, 29224331.0, 41160574.0, 21251468.0, 36791419.0, 25631963.0, 86727795.0, 36818812.0, 20827984.0, 33284279.0, 86008853.0]}, {\"stat_type\": \"categorical\", \"name\": \"encounter_class\", \"unique_values\": [\"Inpatient\", \"Recurring\", \"Emergency\", \"Other\", \"Outpatient\", \"Home Care\"]}, {\"stat_type\": \"categorical\", \"name\": \"encounter_type\", \"unique_values\": [\"Inpatient Acute\", \"MHAS - Residential\", \"MHAS - Acute Care\", \"Open Encounter\", \"Emergency\", \"Specimen\", \"Ambulatory\", \"Day Care\", \"Home Care\", \"Recurring/Series\"]}, {\"stat_type\": \"categorical\", \"name\": \"event_type\", \"unique_values\": [\"Encounter Only\", \"Surgery\", \"General Lab\", \"Radiology\", \"Diagnosis\", \"Micro\"]}, {\"stat_type\": \"categorical\", \"name\": \"event_title\", \"unique_values\": [\"Child, Youth & Family\", \"Mental Health\", \"NA\", \"Outpatient\", \"Surgery\", \"Medicine\", \"Laboratory\", \"Diagnostic Imaging\", \"Rehab\", \"Diseases of the digestive system\"]}, {\"stat_type\": \"categorical\", \"name\": \"event_detail\", \"unique_values\": [\"Maternity\", \"Adult Psychiatry\", \"NA\", \"Laboratory\", \"Medical Imaging\", \"Obstetrics\", \"Urology\", \"Colonoscopy (FIT Positive Yes CSP) SN\", \"Albumin Level\", \"ALT\", \"Bilirubin Total\", \"Complete Blood Count and Differential\", \"Confirmatory Hepatitis C Antibody\", \"Hepatitis C Antibody\", \"HIV Quantitative\", \"Potassium Level\", \"Protein Total\", \"Sodium Level\", \"xxAutomated Diff\", \"Hepatitis B Careset\", \"Alkaline Phosphatase\", \"Calcium Level\", \"Creatinine\", \"GGT\", \"Hepatitis A Antibody IgG\", \"Hepatitis B Core Antibody Total\", \"Hepatitis B Surface Antibody\", \"Hepatitis B Surface Antigen\", \"xxCD4\", \"CT Spine Lumbar w/o Contrast\", \"Outpatient\", \"Opthamology\", \"Acute Rehabilitation\", \"XR Tibia/Fibula Right\", \"Medicine Hospitalist\", \"Glucose Random\", \"INR\", \"Coag Panel Careset\", \"Macroscopic Urinalysis\", \"PTT\", \"Acute Hepatitis Careset\", \"Calcium Ionized Level\", \"Carbon Dioxide Total\", \"Chloride Level\", \"Hepatitis A Antibody IgM\", \"Magnesium Level\", \"Syphilis Serology\", \"Thyroid Stimulating Hormone\", \"xxCoagulation Hold Tube\", \"xxProtein Electrophoresis\", \"XR Chest 2 Views\", \"SI ED Basic Careset\", \"Anion Gap\", \"AST\", \"hCG Qualitative\", \"HIV Ag/Ab Combination Assay\", \"Lipase Level\", \"Protein Electrophoresis Careset\", \"HH ECG Electrocardiogram\", \"Medicine (Unspecified)\", \"XR Chest AP/PA 1 View\", \"MRI Spine Lumbar w/o Contrast\", \"Medicine Family Practice\", \"Surgery\", \"Pre-Admission Clinic\", \"Enterology\", \"Clinical Teaching Unit\", \"K42.9,  Umbilical hernia without obs or gangrene\", \"Plastic\", \"Medical Assessment\", \"CT Wrist w/o Contrast Left\", \"XR Wrist and Scaphoid Left\", \"XR Wrist Limited 2 Views Left\", \"Clinical Decision Unit\", \"Troponin T High Sensitivity\", \"Drug Screen Urine Qualitative\", \"xxMicroscopic Urinalysis\", \"Chem 7 Hem Careset\", \"Lactate Level\", \"Urine Culture\"]}, {\"stat_type\": \"categorical\", \"name\": \"event_year\", \"unique_values\": [2013.0, 2015.0, 2011.0, 2016.0, 2009.0, 2014.0, 2012.0, 2017.0, 2010.0, 2007.0]}, {\"stat_type\": \"categorical\", \"name\": \"event_month\", \"unique_values\": [1.0, 12.0, 6.0, 5.0, 7.0, 10.0, 4.0, 9.0, 11.0, 3.0, 2.0, 8.0]}, {\"stat_type\": \"realAdditive\", \"name\": \"start_day\"}, {\"stat_type\": \"realAdditive\", \"name\": \"end_day\"}, {\"stat_type\": \"realAdditive\", \"name\": \"duration_days\"}, {\"stat_type\": \"categorical\", \"name\": \"location_map_id\", \"unique_values\": [1673.0, 874.0, 903.0, 601.0, 1261.0, 2116.0, 1429.0, 807.0, 2230.0, 167.0, 2021.0, 1448.0, 139.0, 1582.0, 916.0, 1554.0, 1773.0, 1264.0, 1765.0, 1109.0, 483.0, 1853.0, 671.0, 1977.0, 227.0, 922.0, 1657.0, 388.0, 567.0, 718.0, 1514.0, 971.0, 520.0, 182.0, 1499.0, 251.0, 755.0, 1170.0, 1748.0, 1631.0, 595.0, 934.0, 768.0, 513.0, 1983.0, 766.0, 639.0, 2223.0, 1526.0, 243.0, 876.0, 1825.0, 787.0, 2232.0, 2180.0, 1177.0, 1487.0, 1612.0, 1181.0, 1810.0, 1819.0, 93.0, 209.0, 1611.0, 878.0, 34.0, 2076.0, 2038.0, 614.0, 1720.0, 296.0, 2125.0, 1032.0, 2119.0, 1723.0, 935.0, 132.0, 1490.0, 1365.0, 1718.0, 2035.0, 2190.0, 275.0, 947.0, 844.0, 2011.0, 390.0, 1601.0, 1408.0, 1033.0]}])"
      ],
      "text/plain": [
       "<IPython.core.display.Javascript object>"
      ]
     },
     "execution_count": 68,
     "metadata": {},
     "output_type": "execute_result"
    }
   ],
   "source": [
    "%%bql\n",
    ".interactive_pairplot --population=ehr_population \n",
    "SELECT\n",
    "\"gender\",\n",
    "\"age_group\",\n",
    "\"encounter_class\",\n",
    "\"event_type\"\n",
    "FROM simulated_data"
   ]
  },
  {
   "cell_type": "code",
   "execution_count": null,
   "metadata": {
    "collapsed": true
   },
   "outputs": [],
   "source": []
  },
  {
   "cell_type": "code",
   "execution_count": 65,
   "metadata": {
    "scrolled": false
   },
   "outputs": [
    {
     "data": {
      "application/javascript": [
       "function pairplot(df, schema) {\n",
       "  var myCell = element.is('.output_subarea') ? element : element.next();\n",
       "  if (typeof VizGPMReady === 'undefined') {\n",
       "    throw new Error('VizGPM Display Library not loaded')\n",
       "  }\n",
       "\n",
       "  var container = $('<div>')\n",
       "    .appendTo(myCell);\n",
       "\n",
       "  VizGPMReady.then(function(VizGPM) {\n",
       "    const _ = VizGPM._;\n",
       "\n",
       "    const SP = VizGPM.StateProperty\n",
       "\n",
       "    for (const col of schema) {\n",
       "      if (col.stat_type == 'numerical') {\n",
       "        col.stat_type = 'realAdditive';\n",
       "      }\n",
       "\n",
       "      if (col.stat_type == 'nominal') {\n",
       "        col.stat_type = 'categorical';\n",
       "      }\n",
       "    }\n",
       "\n",
       "    function rowProxy(__key) {\n",
       "      const obj = {__key};\n",
       "      for (const column of df.columns) {\n",
       "        obj[column] = df.data[__key].shift();\n",
       "      }\n",
       "      return obj;\n",
       "    }\n",
       "\n",
       "    const rows = [];\n",
       "    for(let index = 0; index < df.data.length; index++) {\n",
       "      rows.push(rowProxy(index));\n",
       "    }\n",
       "\n",
       "    var stateManager = new VizGPM.StateManager({\n",
       "      [SP.SCHEMA]: {columns: schema},\n",
       "      [SP.SELECTED_COLUMN_NAMES]: df.columns,\n",
       "      [SP.GET_COLUMN_FUNCTION]: col =>\n",
       "        VizGPM.GpmHandler.prototype._getColumn.call(stateManager, col),\n",
       "      [SP.DISPLAYED_ROWS]: rows,\n",
       "    });\n",
       "\n",
       "    const plot = new VizGPM.PairPlot({\n",
       "      root: container[0],\n",
       "      stateManager: stateManager,\n",
       "    });\n",
       "  })\n",
       "}\n",
       ";pairplot({\"columns\":[\"encounter_type\",\"encounter_class\",\"event_type\",\"event_title\"],\"index\":[0,1,2,3,4,5,6,7,8,9,10,11,12,13,14,15,16,17,18,19,20,21,22,23,24,25,26,27,28,29,30,31,32,33,34,35,36,37,38,39,40,41,42,43,44,45,46,47,48,49,50,51,52,53,54,55,56,57,58,59,60,61,62,63,64,65,66,67,68,69,70,71,72,73,74,75,76,77,78,79,80,81,82,83,84,85,86,87,88,89,90,91,92,93,94,95,96,97,98,99,100,101,102,103,104,105,106,107,108,109,110,111,112,113,114,115,116,117,118,119,120,121,122,123,124,125,126,127,128,129,130,131,132,133,134,135,136,137,138,139,140,141,142,143,144,145,146,147,148,149,150,151,152,153,154,155,156,157,158,159,160,161,162,163,164,165,166,167,168,169,170,171,172,173,174,175,176,177,178,179,180,181,182,183,184,185,186,187,188,189,190,191,192,193,194,195,196,197,198,199,200,201,202,203,204,205,206,207,208,209,210,211,212,213,214,215,216,217,218,219,220,221,222,223,224,225,226,227,228,229,230,231,232,233,234,235,236,237,238,239,240,241,242,243,244,245,246,247,248,249,250,251,252,253,254,255,256,257,258,259,260,261,262,263,264,265,266,267,268,269,270,271,272,273,274,275,276,277,278,279,280,281,282,283,284,285,286,287,288,289,290,291,292,293,294,295,296,297,298,299,300,301,302,303,304,305,306,307,308,309,310,311,312,313,314,315,316,317,318,319,320,321,322,323,324],\"data\":[[\"Inpatient Acute\",\"Inpatient\",\"Encounter Only\",\"Child, Youth & Family\"],[\"MHAS - Residential\",\"Inpatient\",\"Encounter Only\",\"Mental Health\"],[\"MHAS - Acute Care\",\"Inpatient\",\"Encounter Only\",\"Mental Health\"],[\"Open Encounter\",\"Recurring\",\"Encounter Only\",\"Mental Health\"],[\"Open Encounter\",\"Recurring\",\"Encounter Only\",\"Mental Health\"],[\"MHAS - Acute Care\",\"Inpatient\",\"Encounter Only\",\"Mental Health\"],[\"Emergency\",\"Emergency\",\"Encounter Only\",\"NA\"],[\"Specimen\",\"Other\",\"Encounter Only\",\"Outpatient\"],[\"Ambulatory\",\"Outpatient\",\"Encounter Only\",\"Outpatient\"],[\"Open Encounter\",\"Recurring\",\"Encounter Only\",\"Mental Health\"],[\"Open Encounter\",\"Recurring\",\"Encounter Only\",\"Mental Health\"],[\"Open Encounter\",\"Recurring\",\"Encounter Only\",\"Child, Youth & Family\"],[\"Day Care\",\"Outpatient\",\"Encounter Only\",\"Surgery\"],[\"MHAS - Acute Care\",\"Inpatient\",\"Encounter Only\",\"Mental Health\"],[\"MHAS - Acute Care\",\"Inpatient\",\"Encounter Only\",\"Mental Health\"],[\"MHAS - Residential\",\"Inpatient\",\"Encounter Only\",\"Mental Health\"],[\"MHAS - Acute Care\",\"Inpatient\",\"Encounter Only\",\"Mental Health\"],[\"MHAS - Acute Care\",\"Inpatient\",\"Encounter Only\",\"Mental Health\"],[\"MHAS - Acute Care\",\"Inpatient\",\"Encounter Only\",\"Mental Health\"],[\"MHAS - Acute Care\",\"Inpatient\",\"Encounter Only\",\"Mental Health\"],[\"MHAS - Acute Care\",\"Inpatient\",\"Encounter Only\",\"Mental Health\"],[\"MHAS - Acute Care\",\"Inpatient\",\"Encounter Only\",\"Mental Health\"],[\"MHAS - Acute Care\",\"Inpatient\",\"Encounter Only\",\"Mental Health\"],[\"MHAS - Residential\",\"Inpatient\",\"Encounter Only\",\"Mental Health\"],[\"MHAS - Residential\",\"Inpatient\",\"Encounter Only\",\"Mental Health\"],[\"MHAS - Residential\",\"Inpatient\",\"Encounter Only\",\"Mental Health\"],[\"MHAS - Acute Care\",\"Inpatient\",\"Encounter Only\",\"Mental Health\"],[\"MHAS - Acute Care\",\"Inpatient\",\"Encounter Only\",\"Mental Health\"],[\"MHAS - Acute Care\",\"Inpatient\",\"Encounter Only\",\"Mental Health\"],[\"Emergency\",\"Emergency\",\"Encounter Only\",\"NA\"],[\"Emergency\",\"Emergency\",\"Encounter Only\",\"NA\"],[\"Emergency\",\"Emergency\",\"Encounter Only\",\"NA\"],[\"Emergency\",\"Emergency\",\"Encounter Only\",\"NA\"],[\"Emergency\",\"Emergency\",\"Encounter Only\",\"NA\"],[\"Day Care\",\"Outpatient\",\"Surgery\",\"Medicine\"],[\"Specimen\",\"Other\",\"General Lab\",\"Laboratory\"],[\"Specimen\",\"Other\",\"General Lab\",\"Laboratory\"],[\"Specimen\",\"Other\",\"General Lab\",\"Laboratory\"],[\"Specimen\",\"Other\",\"General Lab\",\"Laboratory\"],[\"Specimen\",\"Other\",\"General Lab\",\"Laboratory\"],[\"Specimen\",\"Other\",\"General Lab\",\"Laboratory\"],[\"Specimen\",\"Other\",\"General Lab\",\"Laboratory\"],[\"Specimen\",\"Other\",\"General Lab\",\"Laboratory\"],[\"Specimen\",\"Other\",\"General Lab\",\"Laboratory\"],[\"Specimen\",\"Other\",\"General Lab\",\"Laboratory\"],[\"Specimen\",\"Other\",\"General Lab\",\"Laboratory\"],[\"Specimen\",\"Other\",\"General Lab\",\"Outpatient\"],[\"Specimen\",\"Other\",\"General Lab\",\"Laboratory\"],[\"Specimen\",\"Other\",\"General Lab\",\"Laboratory\"],[\"Specimen\",\"Other\",\"General Lab\",\"Laboratory\"],[\"Specimen\",\"Other\",\"General Lab\",\"Laboratory\"],[\"Specimen\",\"Other\",\"General Lab\",\"Laboratory\"],[\"Specimen\",\"Other\",\"General Lab\",\"Laboratory\"],[\"Specimen\",\"Other\",\"General Lab\",\"Laboratory\"],[\"Specimen\",\"Other\",\"General Lab\",\"Laboratory\"],[\"Specimen\",\"Other\",\"General Lab\",\"Laboratory\"],[\"Ambulatory\",\"Outpatient\",\"Encounter Only\",\"Outpatient\"],[\"Ambulatory\",\"Outpatient\",\"Radiology\",\"Diagnostic Imaging\"],[\"Ambulatory\",\"Outpatient\",\"Encounter Only\",\"Outpatient\"],[\"Ambulatory\",\"Outpatient\",\"Encounter Only\",\"Outpatient\"],[\"Ambulatory\",\"Outpatient\",\"Encounter Only\",\"Outpatient\"],[\"Ambulatory\",\"Outpatient\",\"Encounter Only\",\"Outpatient\"],[\"Open Encounter\",\"Recurring\",\"Encounter Only\",\"Outpatient\"],[\"Open Encounter\",\"Recurring\",\"Encounter Only\",\"Mental Health\"],[\"Ambulatory\",\"Outpatient\",\"Encounter Only\",\"NA\"],[\"Ambulatory\",\"Outpatient\",\"Encounter Only\",\"NA\"],[\"Ambulatory\",\"Outpatient\",\"Encounter Only\",\"NA\"],[\"Day Care\",\"Outpatient\",\"Encounter Only\",\"Surgery\"],[\"Ambulatory\",\"Outpatient\",\"Encounter Only\",\"NA\"],[\"MHAS - Acute Care\",\"Inpatient\",\"Encounter Only\",\"Mental Health\"],[\"MHAS - Acute Care\",\"Inpatient\",\"Encounter Only\",\"Mental Health\"],[\"MHAS - Acute Care\",\"Inpatient\",\"Encounter Only\",\"Mental Health\"],[\"MHAS - Acute Care\",\"Inpatient\",\"Encounter Only\",\"Mental Health\"],[\"MHAS - Residential\",\"Inpatient\",\"Encounter Only\",\"Mental Health\"],[\"MHAS - Acute Care\",\"Inpatient\",\"Encounter Only\",\"Mental Health\"],[\"MHAS - Acute Care\",\"Inpatient\",\"Encounter Only\",\"Mental Health\"],[\"MHAS - Acute Care\",\"Inpatient\",\"Encounter Only\",\"Mental Health\"],[\"MHAS - Acute Care\",\"Inpatient\",\"Encounter Only\",\"Mental Health\"],[\"MHAS - Residential\",\"Inpatient\",\"Encounter Only\",\"Mental Health\"],[\"MHAS - Residential\",\"Inpatient\",\"Encounter Only\",\"Mental Health\"],[\"MHAS - Residential\",\"Inpatient\",\"Encounter Only\",\"Mental Health\"],[\"MHAS - Acute Care\",\"Inpatient\",\"Encounter Only\",\"Mental Health\"],[\"MHAS - Residential\",\"Inpatient\",\"Encounter Only\",\"Mental Health\"],[\"Open Encounter\",\"Recurring\",\"Encounter Only\",\"Mental Health\"],[\"Emergency\",\"Emergency\",\"Encounter Only\",\"NA\"],[\"Emergency\",\"Emergency\",\"Encounter Only\",\"NA\"],[\"Emergency\",\"Emergency\",\"Encounter Only\",\"NA\"],[\"Emergency\",\"Emergency\",\"Encounter Only\",\"NA\"],[\"Emergency\",\"Emergency\",\"Encounter Only\",\"NA\"],[\"Emergency\",\"Emergency\",\"Encounter Only\",\"NA\"],[\"Emergency\",\"Emergency\",\"Encounter Only\",\"NA\"],[\"Ambulatory\",\"Outpatient\",\"Encounter Only\",\"Outpatient\"],[\"Open Encounter\",\"Recurring\",\"Encounter Only\",\"Rehab\"],[\"Open Encounter\",\"Recurring\",\"Encounter Only\",\"Mental Health\"],[\"Open Encounter\",\"Recurring\",\"Encounter Only\",\"Mental Health\"],[\"Open Encounter\",\"Recurring\",\"Encounter Only\",\"Mental Health\"],[\"Ambulatory\",\"Outpatient\",\"Encounter Only\",\"NA\"],[\"Ambulatory\",\"Outpatient\",\"Encounter Only\",\"NA\"],[\"Ambulatory\",\"Outpatient\",\"Radiology\",\"Diagnostic Imaging\"],[\"Ambulatory\",\"Outpatient\",\"Encounter Only\",\"NA\"],[\"Ambulatory\",\"Outpatient\",\"Encounter Only\",\"NA\"],[\"Inpatient Acute\",\"Inpatient\",\"Encounter Only\",\"Medicine\"],[\"MHAS - Residential\",\"Inpatient\",\"General Lab\",\"Laboratory\"],[\"MHAS - Residential\",\"Inpatient\",\"General Lab\",\"Laboratory\"],[\"MHAS - Residential\",\"Inpatient\",\"General Lab\",\"Laboratory\"],[\"MHAS - Residential\",\"Inpatient\",\"General Lab\",\"Mental Health\"],[\"MHAS - Residential\",\"Inpatient\",\"General Lab\",\"Laboratory\"],[\"MHAS - Residential\",\"Inpatient\",\"General Lab\",\"Laboratory\"],[\"MHAS - Residential\",\"Inpatient\",\"General Lab\",\"Laboratory\"],[\"Inpatient Acute\",\"Inpatient\",\"General Lab\",\"Laboratory\"],[\"Inpatient Acute\",\"Inpatient\",\"General Lab\",\"Laboratory\"],[\"Inpatient Acute\",\"Inpatient\",\"General Lab\",\"Laboratory\"],[\"Inpatient Acute\",\"Inpatient\",\"General Lab\",\"Laboratory\"],[\"Inpatient Acute\",\"Inpatient\",\"General Lab\",\"Laboratory\"],[\"Inpatient Acute\",\"Inpatient\",\"General Lab\",\"Laboratory\"],[\"Inpatient Acute\",\"Inpatient\",\"General Lab\",\"Laboratory\"],[\"Inpatient Acute\",\"Inpatient\",\"General Lab\",\"Laboratory\"],[\"Inpatient Acute\",\"Inpatient\",\"General Lab\",\"Laboratory\"],[\"Inpatient Acute\",\"Inpatient\",\"General Lab\",\"Laboratory\"],[\"Inpatient Acute\",\"Inpatient\",\"General Lab\",\"Laboratory\"],[\"Inpatient Acute\",\"Inpatient\",\"General Lab\",\"Laboratory\"],[\"Inpatient Acute\",\"Inpatient\",\"General Lab\",\"Laboratory\"],[\"Inpatient Acute\",\"Inpatient\",\"General Lab\",\"Laboratory\"],[\"Inpatient Acute\",\"Inpatient\",\"General Lab\",\"Laboratory\"],[\"Inpatient Acute\",\"Inpatient\",\"General Lab\",\"Laboratory\"],[\"Inpatient Acute\",\"Inpatient\",\"General Lab\",\"Laboratory\"],[\"Inpatient Acute\",\"Inpatient\",\"General Lab\",\"Laboratory\"],[\"Inpatient Acute\",\"Inpatient\",\"General Lab\",\"Laboratory\"],[\"Inpatient Acute\",\"Inpatient\",\"Radiology\",\"Diagnostic Imaging\"],[\"Inpatient Acute\",\"Inpatient\",\"General Lab\",\"Medicine\"],[\"Inpatient Acute\",\"Inpatient\",\"General Lab\",\"Laboratory\"],[\"Inpatient Acute\",\"Inpatient\",\"General Lab\",\"Laboratory\"],[\"Inpatient Acute\",\"Inpatient\",\"General Lab\",\"Laboratory\"],[\"Inpatient Acute\",\"Inpatient\",\"General Lab\",\"Laboratory\"],[\"Inpatient Acute\",\"Inpatient\",\"General Lab\",\"Laboratory\"],[\"Inpatient Acute\",\"Inpatient\",\"General Lab\",\"Laboratory\"],[\"Inpatient Acute\",\"Inpatient\",\"General Lab\",\"Laboratory\"],[\"Inpatient Acute\",\"Inpatient\",\"General Lab\",\"Laboratory\"],[\"Inpatient Acute\",\"Inpatient\",\"General Lab\",\"Laboratory\"],[\"Inpatient Acute\",\"Inpatient\",\"General Lab\",\"Laboratory\"],[\"Inpatient Acute\",\"Inpatient\",\"General Lab\",\"Laboratory\"],[\"Inpatient Acute\",\"Inpatient\",\"General Lab\",\"Laboratory\"],[\"Inpatient Acute\",\"Inpatient\",\"General Lab\",\"Laboratory\"],[\"Inpatient Acute\",\"Inpatient\",\"General Lab\",\"Laboratory\"],[\"Inpatient Acute\",\"Inpatient\",\"General Lab\",\"Laboratory\"],[\"Inpatient Acute\",\"Inpatient\",\"General Lab\",\"Laboratory\"],[\"Inpatient Acute\",\"Inpatient\",\"Radiology\",\"Diagnostic Imaging\"],[\"Emergency\",\"Emergency\",\"Encounter Only\",\"NA\"],[\"Emergency\",\"Emergency\",\"Encounter Only\",\"NA\"],[\"Emergency\",\"Emergency\",\"Encounter Only\",\"NA\"],[\"Ambulatory\",\"Outpatient\",\"Encounter Only\",\"Medicine\"],[\"Home Care\",\"Home Care\",\"Encounter Only\",\"NA\"],[\"Ambulatory\",\"Outpatient\",\"Encounter Only\",\"Outpatient\"],[\"Specimen\",\"Other\",\"Encounter Only\",\"Outpatient\"],[\"Ambulatory\",\"Outpatient\",\"Encounter Only\",\"Outpatient\"],[\"Ambulatory\",\"Outpatient\",\"Encounter Only\",\"Outpatient\"],[\"Ambulatory\",\"Outpatient\",\"Encounter Only\",\"Outpatient\"],[\"Specimen\",\"Other\",\"Encounter Only\",\"Outpatient\"],[\"Ambulatory\",\"Outpatient\",\"Encounter Only\",\"Outpatient\"],[\"Ambulatory\",\"Outpatient\",\"Encounter Only\",\"Outpatient\"],[\"Ambulatory\",\"Outpatient\",\"Encounter Only\",\"Outpatient\"],[\"Ambulatory\",\"Outpatient\",\"Encounter Only\",\"Outpatient\"],[\"Ambulatory\",\"Outpatient\",\"Radiology\",\"Diagnostic Imaging\"],[\"Ambulatory\",\"Outpatient\",\"Encounter Only\",\"Outpatient\"],[\"Ambulatory\",\"Outpatient\",\"Radiology\",\"Diagnostic Imaging\"],[\"Ambulatory\",\"Outpatient\",\"Encounter Only\",\"Outpatient\"],[\"Ambulatory\",\"Outpatient\",\"Encounter Only\",\"Outpatient\"],[\"Ambulatory\",\"Outpatient\",\"Radiology\",\"Diagnostic Imaging\"],[\"Ambulatory\",\"Outpatient\",\"Encounter Only\",\"Outpatient\"],[\"Open Encounter\",\"Recurring\",\"Encounter Only\",\"Mental Health\"],[\"Ambulatory\",\"Outpatient\",\"Encounter Only\",\"NA\"],[\"Open Encounter\",\"Recurring\",\"Encounter Only\",\"Rehab\"],[\"Inpatient Acute\",\"Inpatient\",\"Encounter Only\",\"Medicine\"],[\"Inpatient Acute\",\"Inpatient\",\"Encounter Only\",\"Surgery\"],[\"Inpatient Acute\",\"Inpatient\",\"Encounter Only\",\"Medicine\"],[\"Inpatient Acute\",\"Inpatient\",\"Encounter Only\",\"Surgery\"],[\"Ambulatory\",\"Outpatient\",\"Encounter Only\",\"Outpatient\"],[\"Day Care\",\"Outpatient\",\"Encounter Only\",\"Surgery\"],[\"Open Encounter\",\"Recurring\",\"Encounter Only\",\"Mental Health\"],[\"MHAS - Acute Care\",\"Inpatient\",\"Encounter Only\",\"Mental Health\"],[\"Emergency\",\"Emergency\",\"Encounter Only\",\"NA\"],[\"Emergency\",\"Emergency\",\"Encounter Only\",\"NA\"],[\"Emergency\",\"Emergency\",\"Encounter Only\",\"NA\"],[\"Ambulatory\",\"Outpatient\",\"Encounter Only\",\"Outpatient\"],[\"Open Encounter\",\"Recurring\",\"Encounter Only\",\"Mental Health\"],[\"Open Encounter\",\"Recurring\",\"Encounter Only\",\"Mental Health\"],[\"Inpatient Acute\",\"Inpatient\",\"Encounter Only\",\"Medicine\"],[\"Inpatient Acute\",\"Inpatient\",\"Encounter Only\",\"Medicine\"],[\"MHAS - Acute Care\",\"Inpatient\",\"Encounter Only\",\"Mental Health\"],[\"Emergency\",\"Emergency\",\"Encounter Only\",\"NA\"],[\"Specimen\",\"Other\",\"Encounter Only\",\"Outpatient\"],[\"Ambulatory\",\"Outpatient\",\"Diagnosis\",\"Diseases of the digestive system\"],[\"Ambulatory\",\"Outpatient\",\"Radiology\",\"Diagnostic Imaging\"],[\"MHAS - Residential\",\"Inpatient\",\"Encounter Only\",\"Mental Health\"],[\"Open Encounter\",\"Recurring\",\"Encounter Only\",\"Mental Health\"],[\"Open Encounter\",\"Recurring\",\"Encounter Only\",\"Mental Health\"],[\"Open Encounter\",\"Recurring\",\"Encounter Only\",\"NA\"],[\"Day Care\",\"Outpatient\",\"Encounter Only\",\"Surgery\"],[\"Recurring\\/Series\",\"Recurring\",\"Encounter Only\",\"NA\"],[\"Inpatient Acute\",\"Inpatient\",\"Encounter Only\",\"Medicine\"],[\"Open Encounter\",\"Recurring\",\"Encounter Only\",\"Mental Health\"],[\"Open Encounter\",\"Recurring\",\"Encounter Only\",\"Mental Health\"],[\"MHAS - Acute Care\",\"Inpatient\",\"Encounter Only\",\"Mental Health\"],[\"Emergency\",\"Emergency\",\"Radiology\",\"Diagnostic Imaging\"],[\"Emergency\",\"Emergency\",\"Radiology\",\"Diagnostic Imaging\"],[\"Emergency\",\"Emergency\",\"Radiology\",\"Diagnostic Imaging\"],[\"Emergency\",\"Emergency\",\"Encounter Only\",\"NA\"],[\"Emergency\",\"Emergency\",\"Encounter Only\",\"NA\"],[\"Emergency\",\"Emergency\",\"Encounter Only\",\"NA\"],[\"Emergency\",\"Emergency\",\"Encounter Only\",\"NA\"],[\"Emergency\",\"Emergency\",\"Radiology\",\"Diagnostic Imaging\"],[\"Ambulatory\",\"Outpatient\",\"Encounter Only\",\"Outpatient\"],[\"Specimen\",\"Other\",\"Encounter Only\",\"Outpatient\"],[\"Specimen\",\"Other\",\"Encounter Only\",\"Outpatient\"],[\"Ambulatory\",\"Outpatient\",\"Encounter Only\",\"Outpatient\"],[\"Inpatient Acute\",\"Inpatient\",\"Encounter Only\",\"Medicine\"],[\"Open Encounter\",\"Recurring\",\"Encounter Only\",\"Mental Health\"],[\"Open Encounter\",\"Recurring\",\"Encounter Only\",\"Mental Health\"],[\"Ambulatory\",\"Outpatient\",\"Encounter Only\",\"NA\"],[\"Ambulatory\",\"Outpatient\",\"Encounter Only\",\"NA\"],[\"Day Care\",\"Outpatient\",\"Encounter Only\",\"Surgery\"],[\"MHAS - Residential\",\"Inpatient\",\"Encounter Only\",\"Mental Health\"],[\"Open Encounter\",\"Recurring\",\"Encounter Only\",\"Mental Health\"],[\"MHAS - Acute Care\",\"Inpatient\",\"Encounter Only\",\"Mental Health\"],[\"Emergency\",\"Emergency\",\"Encounter Only\",\"NA\"],[\"Emergency\",\"Emergency\",\"Encounter Only\",\"NA\"],[\"Emergency\",\"Emergency\",\"Encounter Only\",\"NA\"],[\"Emergency\",\"Emergency\",\"Encounter Only\",\"NA\"],[\"Specimen\",\"Other\",\"Encounter Only\",\"Outpatient\"],[\"Inpatient Acute\",\"Inpatient\",\"Encounter Only\",\"Mental Health\"],[\"Open Encounter\",\"Recurring\",\"Encounter Only\",\"Mental Health\"],[\"MHAS - Residential\",\"Inpatient\",\"Encounter Only\",\"Mental Health\"],[\"Open Encounter\",\"Recurring\",\"Encounter Only\",\"Medicine\"],[\"Emergency\",\"Emergency\",\"Encounter Only\",\"NA\"],[\"Emergency\",\"Emergency\",\"Encounter Only\",\"NA\"],[\"Emergency\",\"Emergency\",\"Encounter Only\",\"NA\"],[\"Emergency\",\"Emergency\",\"General Lab\",\"NA\"],[\"Emergency\",\"Emergency\",\"General Lab\",\"Laboratory\"],[\"Emergency\",\"Emergency\",\"General Lab\",\"Laboratory\"],[\"Emergency\",\"Emergency\",\"General Lab\",\"Laboratory\"],[\"Emergency\",\"Emergency\",\"General Lab\",\"Laboratory\"],[\"Emergency\",\"Emergency\",\"General Lab\",\"Laboratory\"],[\"Emergency\",\"Emergency\",\"General Lab\",\"Laboratory\"],[\"Emergency\",\"Emergency\",\"General Lab\",\"Laboratory\"],[\"Emergency\",\"Emergency\",\"General Lab\",\"Laboratory\"],[\"Emergency\",\"Emergency\",\"General Lab\",\"Laboratory\"],[\"Emergency\",\"Emergency\",\"General Lab\",\"Laboratory\"],[\"Emergency\",\"Emergency\",\"Radiology\",\"Diagnostic Imaging\"],[\"Emergency\",\"Emergency\",\"General Lab\",\"Laboratory\"],[\"Emergency\",\"Emergency\",\"General Lab\",\"Laboratory\"],[\"Emergency\",\"Emergency\",\"General Lab\",\"Laboratory\"],[\"Emergency\",\"Emergency\",\"General Lab\",\"Laboratory\"],[\"Emergency\",\"Emergency\",\"General Lab\",\"Laboratory\"],[\"Emergency\",\"Emergency\",\"General Lab\",\"Laboratory\"],[\"Emergency\",\"Emergency\",\"General Lab\",\"Laboratory\"],[\"Emergency\",\"Emergency\",\"General Lab\",\"Laboratory\"],[\"Emergency\",\"Emergency\",\"General Lab\",\"Laboratory\"],[\"Emergency\",\"Emergency\",\"Encounter Only\",\"NA\"],[\"Emergency\",\"Emergency\",\"Encounter Only\",\"NA\"],[\"Specimen\",\"Other\",\"Encounter Only\",\"Outpatient\"],[\"Inpatient Acute\",\"Inpatient\",\"Encounter Only\",\"Medicine\"],[\"Inpatient Acute\",\"Inpatient\",\"General Lab\",\"Laboratory\"],[\"Inpatient Acute\",\"Inpatient\",\"General Lab\",\"Laboratory\"],[\"Inpatient Acute\",\"Inpatient\",\"General Lab\",\"Laboratory\"],[\"Inpatient Acute\",\"Inpatient\",\"Encounter Only\",\"Child, Youth & Family\"],[\"Inpatient Acute\",\"Inpatient\",\"Encounter Only\",\"Child, Youth & Family\"],[\"Inpatient Acute\",\"Inpatient\",\"Encounter Only\",\"Child, Youth & Family\"],[\"MHAS - Acute Care\",\"Inpatient\",\"Encounter Only\",\"Mental Health\"],[\"MHAS - Acute Care\",\"Inpatient\",\"Encounter Only\",\"Mental Health\"],[\"Open Encounter\",\"Recurring\",\"Encounter Only\",\"Mental Health\"],[\"MHAS - Acute Care\",\"Inpatient\",\"Encounter Only\",\"Mental Health\"],[\"MHAS - Acute Care\",\"Inpatient\",\"Encounter Only\",\"Mental Health\"],[\"MHAS - Acute Care\",\"Inpatient\",\"Encounter Only\",\"Mental Health\"],[\"Emergency\",\"Emergency\",\"Radiology\",\"Diagnostic Imaging\"],[\"Emergency\",\"Emergency\",\"Encounter Only\",\"NA\"],[\"Emergency\",\"Emergency\",\"Encounter Only\",\"NA\"],[\"Emergency\",\"Emergency\",\"General Lab\",\"NA\"],[\"Emergency\",\"Emergency\",\"General Lab\",\"Laboratory\"],[\"Emergency\",\"Emergency\",\"General Lab\",\"Laboratory\"],[\"Emergency\",\"Emergency\",\"General Lab\",\"Laboratory\"],[\"Emergency\",\"Emergency\",\"General Lab\",\"Laboratory\"],[\"Emergency\",\"Emergency\",\"General Lab\",\"Laboratory\"],[\"Emergency\",\"Emergency\",\"General Lab\",\"Laboratory\"],[\"Emergency\",\"Emergency\",\"General Lab\",\"Laboratory\"],[\"Emergency\",\"Emergency\",\"General Lab\",\"Laboratory\"],[\"Emergency\",\"Emergency\",\"General Lab\",\"Laboratory\"],[\"Emergency\",\"Emergency\",\"General Lab\",\"Laboratory\"],[\"Emergency\",\"Emergency\",\"General Lab\",\"Laboratory\"],[\"Emergency\",\"Emergency\",\"General Lab\",\"Laboratory\"],[\"Emergency\",\"Emergency\",\"General Lab\",\"Laboratory\"],[\"Emergency\",\"Emergency\",\"General Lab\",\"Laboratory\"],[\"Emergency\",\"Emergency\",\"Radiology\",\"Diagnostic Imaging\"],[\"Emergency\",\"Emergency\",\"Encounter Only\",\"NA\"],[\"Emergency\",\"Emergency\",\"Encounter Only\",\"NA\"],[\"Emergency\",\"Emergency\",\"Encounter Only\",\"NA\"],[\"Emergency\",\"Emergency\",\"Encounter Only\",\"NA\"],[\"Emergency\",\"Emergency\",\"Encounter Only\",\"NA\"],[\"Emergency\",\"Emergency\",\"Encounter Only\",\"NA\"],[\"Emergency\",\"Emergency\",\"Encounter Only\",\"NA\"],[\"Emergency\",\"Emergency\",\"Encounter Only\",\"NA\"],[\"Emergency\",\"Emergency\",\"Encounter Only\",\"NA\"],[\"Emergency\",\"Emergency\",\"Encounter Only\",\"NA\"],[\"Emergency\",\"Emergency\",\"Encounter Only\",\"NA\"],[\"Ambulatory\",\"Outpatient\",\"General Lab\",\"Laboratory\"],[\"Ambulatory\",\"Outpatient\",\"General Lab\",\"Laboratory\"],[\"Ambulatory\",\"Outpatient\",\"Micro\",\"Laboratory\"],[\"Specimen\",\"Other\",\"Encounter Only\",\"Outpatient\"],[\"Specimen\",\"Other\",\"Encounter Only\",\"Outpatient\"],[\"Ambulatory\",\"Outpatient\",\"Encounter Only\",\"Outpatient\"],[\"Ambulatory\",\"Outpatient\",\"Encounter Only\",\"Outpatient\"],[\"Specimen\",\"Other\",\"Encounter Only\",\"Outpatient\"],[\"Open Encounter\",\"Recurring\",\"Encounter Only\",\"Outpatient\"],[\"Ambulatory\",\"Outpatient\",\"Encounter Only\",\"Outpatient\"],[\"Ambulatory\",\"Outpatient\",\"Encounter Only\",\"Outpatient\"],[\"Ambulatory\",\"Outpatient\",\"Encounter Only\",\"Outpatient\"],[\"Ambulatory\",\"Outpatient\",\"Encounter Only\",\"Outpatient\"],[\"Ambulatory\",\"Outpatient\",\"Encounter Only\",\"Outpatient\"],[\"Ambulatory\",\"Outpatient\",\"Encounter Only\",\"Outpatient\"],[\"Ambulatory\",\"Outpatient\",\"Encounter Only\",\"Outpatient\"],[\"Ambulatory\",\"Outpatient\",\"Encounter Only\",\"Mental Health\"],[\"MHAS - Residential\",\"Inpatient\",\"Encounter Only\",\"Mental Health\"],[\"MHAS - Residential\",\"Inpatient\",\"Encounter Only\",\"Mental Health\"],[\"Open Encounter\",\"Recurring\",\"Encounter Only\",\"Mental Health\"],[\"Open Encounter\",\"Recurring\",\"Encounter Only\",\"Mental Health\"],[\"Ambulatory\",\"Outpatient\",\"Encounter Only\",\"Surgery\"]]},[{\"stat_type\": \"categorical\", \"name\": \"id\", \"unique_values\": [\"1AB5C92\", \"977D203\", \"102DBC2\", \"C9B9133\", \"DC2302\", \"1A491A2\", \"8A1A543\", \"9A51A2\", \"7C1DB2\", \"2D98203\"]}, {\"stat_type\": \"categorical\", \"name\": \"gender\", \"unique_values\": [\"Female\", \"Male\"]}, {\"stat_type\": \"categorical\", \"name\": \"age_group\", \"unique_values\": [\"25 - 29\", \"45 - 49\", \"35 - 39\", \"60 - 64\", \"20 - 24\", \"50 - 54\", \"30 - 34\"]}, {\"stat_type\": \"categorical\", \"name\": \"encounter_id\", \"unique_values\": [42230255.0, 20125520.0, 36191729.0, 86996036.0, 55289445.0, 22083062.0, 29334171.0, 47136843.0, 33977348.0, 40405740.0, 41872894.0, 91664860.0, 39944218.0, 26276423.0, 40734987.0, 91674350.0, 35738526.0, 30060555.0, 25512557.0, 44186773.0, 36011436.0, 40274284.0, 31296668.0, 90188218.0, 20461999.0, 87120526.0, 43912921.0, 39756628.0, 37852481.0, 30357039.0, 37657794.0, 37587106.0, 42904960.0, 24929450.0, 88228925.0, 85708971.0, 29723724.0, 89048614.0, 45082180.0, 28544502.0, 88058166.0, 30326126.0, 19886380.0, 41529325.0, 20286984.0, 34530491.0, 34125343.0, 39225226.0, 29798796.0, 25439078.0, 41652293.0, 39815674.0, 29026413.0, 92068717.0, 24130052.0, 39174510.0, 29483966.0, 27393990.0, 91928883.0, 23424929.0, 88162301.0, 47202901.0, 91795528.0, 19818896.0, 25763847.0, 23860943.0, 28892619.0, 42143083.0, 43901372.0, 30575337.0, 92016369.0, 47012732.0, 29904969.0, 20015383.0, 33889837.0, 43294412.0, 24683873.0, 31467193.0, 87224056.0, 88001591.0, 25912238.0, 28224980.0, 87256532.0, 90640891.0, 42528226.0, 28765572.0, 37119780.0, 30202859.0, 92020489.0, 37988510.0, 28595579.0, 27196698.0, 25603783.0, 27512904.0, 30757601.0, 41491822.0, 42786155.0, 34221331.0, 32239042.0, 89758041.0, 22212730.0, 90629691.0, 35317685.0, 42685709.0, 85807367.0, 41113956.0, 26506596.0, 19975582.0, 29464770.0, 42338195.0, 20731114.0, 85331556.0, 34856946.0, 88451864.0, 31006937.0, 28264626.0, 84937891.0, 39264334.0, 37683060.0, 32201838.0, 30566397.0, 31633093.0, 36561033.0, 21553673.0, 45835799.0, 33446252.0, 42856468.0, 22075076.0, 89323079.0, 45560123.0, 45272228.0, 37874802.0, 88804502.0, 25133798.0, 91843985.0, 29166871.0, 84914188.0, 23333686.0, 22979819.0, 85733822.0, 33479887.0, 25124039.0, 35278510.0, 30130758.0, 86351658.0, 25101449.0, 23561737.0, 22902542.0, 91976820.0, 44110092.0, 91041652.0, 26746532.0, 88670467.0, 30083439.0, 43273238.0, 33598889.0, 19902049.0, 40058241.0, 85256547.0, 34290077.0, 20811117.0, 91574104.0, 22285096.0, 34289143.0, 41183554.0, 22323452.0, 27356692.0, 28762329.0, 42018847.0, 27505084.0, 87456582.0, 21391361.0, 42063635.0, 21080102.0, 27938824.0, 85808290.0, 30923138.0, 21515321.0, 41019519.0, 36546008.0, 30333420.0, 52766112.0, 22751968.0, 44098621.0, 26175573.0, 87290407.0, 36798243.0, 40362948.0, 89300625.0, 38121092.0, 36232656.0, 41227893.0, 39955884.0, 39285534.0, 34667311.0, 42711950.0, 27224295.0, 21690463.0, 35156450.0, 35488213.0, 87787211.0, 32491414.0, 29052699.0, 84445581.0, 85234680.0, 85325766.0, 19742002.0, 32426953.0, 36377395.0, 32215696.0, 29224331.0, 41160574.0, 21251468.0, 36791419.0, 25631963.0, 86727795.0, 36818812.0, 20827984.0, 33284279.0, 86008853.0]}, {\"stat_type\": \"categorical\", \"name\": \"encounter_class\", \"unique_values\": [\"Inpatient\", \"Recurring\", \"Emergency\", \"Other\", \"Outpatient\", \"Home Care\"]}, {\"stat_type\": \"categorical\", \"name\": \"encounter_type\", \"unique_values\": [\"Inpatient Acute\", \"MHAS - Residential\", \"MHAS - Acute Care\", \"Open Encounter\", \"Emergency\", \"Specimen\", \"Ambulatory\", \"Day Care\", \"Home Care\", \"Recurring/Series\"]}, {\"stat_type\": \"categorical\", \"name\": \"event_type\", \"unique_values\": [\"Encounter Only\", \"Surgery\", \"General Lab\", \"Radiology\", \"Diagnosis\", \"Micro\"]}, {\"stat_type\": \"categorical\", \"name\": \"event_title\", \"unique_values\": [\"Child, Youth & Family\", \"Mental Health\", \"NA\", \"Outpatient\", \"Surgery\", \"Medicine\", \"Laboratory\", \"Diagnostic Imaging\", \"Rehab\", \"Diseases of the digestive system\"]}, {\"stat_type\": \"categorical\", \"name\": \"event_detail\", \"unique_values\": [\"Maternity\", \"Adult Psychiatry\", \"NA\", \"Laboratory\", \"Medical Imaging\", \"Obstetrics\", \"Urology\", \"Colonoscopy (FIT Positive Yes CSP) SN\", \"Albumin Level\", \"ALT\", \"Bilirubin Total\", \"Complete Blood Count and Differential\", \"Confirmatory Hepatitis C Antibody\", \"Hepatitis C Antibody\", \"HIV Quantitative\", \"Potassium Level\", \"Protein Total\", \"Sodium Level\", \"xxAutomated Diff\", \"Hepatitis B Careset\", \"Alkaline Phosphatase\", \"Calcium Level\", \"Creatinine\", \"GGT\", \"Hepatitis A Antibody IgG\", \"Hepatitis B Core Antibody Total\", \"Hepatitis B Surface Antibody\", \"Hepatitis B Surface Antigen\", \"xxCD4\", \"CT Spine Lumbar w/o Contrast\", \"Outpatient\", \"Opthamology\", \"Acute Rehabilitation\", \"XR Tibia/Fibula Right\", \"Medicine Hospitalist\", \"Glucose Random\", \"INR\", \"Coag Panel Careset\", \"Macroscopic Urinalysis\", \"PTT\", \"Acute Hepatitis Careset\", \"Calcium Ionized Level\", \"Carbon Dioxide Total\", \"Chloride Level\", \"Hepatitis A Antibody IgM\", \"Magnesium Level\", \"Syphilis Serology\", \"Thyroid Stimulating Hormone\", \"xxCoagulation Hold Tube\", \"xxProtein Electrophoresis\", \"XR Chest 2 Views\", \"SI ED Basic Careset\", \"Anion Gap\", \"AST\", \"hCG Qualitative\", \"HIV Ag/Ab Combination Assay\", \"Lipase Level\", \"Protein Electrophoresis Careset\", \"HH ECG Electrocardiogram\", \"Medicine (Unspecified)\", \"XR Chest AP/PA 1 View\", \"MRI Spine Lumbar w/o Contrast\", \"Medicine Family Practice\", \"Surgery\", \"Pre-Admission Clinic\", \"Enterology\", \"Clinical Teaching Unit\", \"K42.9,  Umbilical hernia without obs or gangrene\", \"Plastic\", \"Medical Assessment\", \"CT Wrist w/o Contrast Left\", \"XR Wrist and Scaphoid Left\", \"XR Wrist Limited 2 Views Left\", \"Clinical Decision Unit\", \"Troponin T High Sensitivity\", \"Drug Screen Urine Qualitative\", \"xxMicroscopic Urinalysis\", \"Chem 7 Hem Careset\", \"Lactate Level\", \"Urine Culture\"]}, {\"stat_type\": \"categorical\", \"name\": \"event_year\", \"unique_values\": [2013.0, 2015.0, 2011.0, 2016.0, 2009.0, 2014.0, 2012.0, 2017.0, 2010.0, 2007.0]}, {\"stat_type\": \"categorical\", \"name\": \"event_month\", \"unique_values\": [1.0, 12.0, 6.0, 5.0, 7.0, 10.0, 4.0, 9.0, 11.0, 3.0, 2.0, 8.0]}, {\"stat_type\": \"realAdditive\", \"name\": \"start_day\"}, {\"stat_type\": \"realAdditive\", \"name\": \"end_day\"}, {\"stat_type\": \"realAdditive\", \"name\": \"duration_days\"}, {\"stat_type\": \"categorical\", \"name\": \"location_map_id\", \"unique_values\": [1673.0, 874.0, 903.0, 601.0, 1261.0, 2116.0, 1429.0, 807.0, 2230.0, 167.0, 2021.0, 1448.0, 139.0, 1582.0, 916.0, 1554.0, 1773.0, 1264.0, 1765.0, 1109.0, 483.0, 1853.0, 671.0, 1977.0, 227.0, 922.0, 1657.0, 388.0, 567.0, 718.0, 1514.0, 971.0, 520.0, 182.0, 1499.0, 251.0, 755.0, 1170.0, 1748.0, 1631.0, 595.0, 934.0, 768.0, 513.0, 1983.0, 766.0, 639.0, 2223.0, 1526.0, 243.0, 876.0, 1825.0, 787.0, 2232.0, 2180.0, 1177.0, 1487.0, 1612.0, 1181.0, 1810.0, 1819.0, 93.0, 209.0, 1611.0, 878.0, 34.0, 2076.0, 2038.0, 614.0, 1720.0, 296.0, 2125.0, 1032.0, 2119.0, 1723.0, 935.0, 132.0, 1490.0, 1365.0, 1718.0, 2035.0, 2190.0, 275.0, 947.0, 844.0, 2011.0, 390.0, 1601.0, 1408.0, 1033.0]}])"
      ],
      "text/plain": [
       "<IPython.core.display.Javascript object>"
      ]
     },
     "execution_count": 65,
     "metadata": {},
     "output_type": "execute_result"
    }
   ],
   "source": [
    "%%bql\n",
    ".interactive_pairplot --population=ehr_population \n",
    "SELECT\n",
    "\"encounter_type\",\n",
    "\"encounter_class\",\n",
    "\"event_type\",\n",
    "\"event_title\"\n",
    "FROM ds"
   ]
  },
  {
   "cell_type": "code",
   "execution_count": 66,
   "metadata": {},
   "outputs": [
    {
     "data": {
      "application/javascript": [
       "function pairplot(df, schema) {\n",
       "  var myCell = element.is('.output_subarea') ? element : element.next();\n",
       "  if (typeof VizGPMReady === 'undefined') {\n",
       "    throw new Error('VizGPM Display Library not loaded')\n",
       "  }\n",
       "\n",
       "  var container = $('<div>')\n",
       "    .appendTo(myCell);\n",
       "\n",
       "  VizGPMReady.then(function(VizGPM) {\n",
       "    const _ = VizGPM._;\n",
       "\n",
       "    const SP = VizGPM.StateProperty\n",
       "\n",
       "    for (const col of schema) {\n",
       "      if (col.stat_type == 'numerical') {\n",
       "        col.stat_type = 'realAdditive';\n",
       "      }\n",
       "\n",
       "      if (col.stat_type == 'nominal') {\n",
       "        col.stat_type = 'categorical';\n",
       "      }\n",
       "    }\n",
       "\n",
       "    function rowProxy(__key) {\n",
       "      const obj = {__key};\n",
       "      for (const column of df.columns) {\n",
       "        obj[column] = df.data[__key].shift();\n",
       "      }\n",
       "      return obj;\n",
       "    }\n",
       "\n",
       "    const rows = [];\n",
       "    for(let index = 0; index < df.data.length; index++) {\n",
       "      rows.push(rowProxy(index));\n",
       "    }\n",
       "\n",
       "    var stateManager = new VizGPM.StateManager({\n",
       "      [SP.SCHEMA]: {columns: schema},\n",
       "      [SP.SELECTED_COLUMN_NAMES]: df.columns,\n",
       "      [SP.GET_COLUMN_FUNCTION]: col =>\n",
       "        VizGPM.GpmHandler.prototype._getColumn.call(stateManager, col),\n",
       "      [SP.DISPLAYED_ROWS]: rows,\n",
       "    });\n",
       "\n",
       "    const plot = new VizGPM.PairPlot({\n",
       "      root: container[0],\n",
       "      stateManager: stateManager,\n",
       "    });\n",
       "  })\n",
       "}\n",
       ";pairplot({\"columns\":[\"encounter_type\",\"encounter_class\",\"event_type\",\"event_title\"],\"index\":[0,1,2,3,4,5,6,7,8,9,10,11,12,13,14,15,16,17,18,19,20,21,22,23,24,25,26,27,28,29,30,31,32,33,34,35,36,37,38,39,40,41,42,43,44,45,46,47,48,49,50,51,52,53,54,55,56,57,58,59,60,61,62,63,64,65,66,67,68,69,70,71,72,73,74,75,76,77,78,79,80,81,82,83,84,85,86,87,88,89,90,91,92,93,94,95,96,97,98,99,100,101,102,103,104,105,106,107,108,109,110,111,112,113,114,115,116,117,118,119,120,121,122,123,124,125,126,127,128,129,130,131,132,133,134,135,136,137,138,139,140,141,142,143,144,145,146,147,148,149,150,151,152,153,154,155,156,157,158,159,160,161,162,163,164,165,166,167,168,169,170,171,172,173,174,175,176,177,178,179,180,181,182,183,184,185,186,187,188,189,190,191,192,193,194,195,196,197,198,199,200,201,202,203,204,205,206,207,208,209,210,211,212,213,214,215,216,217,218,219,220,221,222,223,224,225,226,227,228,229,230,231,232,233,234,235,236,237,238,239,240,241,242,243,244,245,246,247,248,249,250,251,252,253,254,255,256,257,258,259,260,261,262,263,264,265,266,267,268,269,270,271,272,273,274,275,276,277,278,279,280,281,282,283,284,285,286,287,288,289,290,291,292,293,294,295,296,297,298,299,300,301,302,303,304,305,306,307,308,309,310,311,312,313,314,315,316,317,318,319,320,321,322,323,324],\"data\":[[\"Emergency\",\"Inpatient\",\"General Lab\",\"NA\"],[\"Open Encounter\",\"Inpatient\",\"Encounter Only\",\"Mental Health\"],[\"MHAS - Acute Care\",\"Inpatient\",\"Encounter Only\",\"Mental Health\"],[\"Emergency\",\"Outpatient\",\"General Lab\",\"NA\"],[\"Emergency\",\"Emergency\",\"Micro\",\"NA\"],[\"Emergency\",\"Emergency\",\"Encounter Only\",\"NA\"],[\"MHAS - Residential\",\"Inpatient\",\"General Lab\",\"Laboratory\"],[\"Recurring\\/Series\",\"Emergency\",\"Encounter Only\",\"NA\"],[\"Open Encounter\",\"Inpatient\",\"Encounter Only\",\"Mental Health\"],[\"MHAS - Residential\",\"Inpatient\",\"Encounter Only\",\"Mental Health\"],[\"Emergency\",\"Emergency\",\"Encounter Only\",\"NA\"],[\"Specimen\",\"Outpatient\",\"Encounter Only\",\"Laboratory\"],[\"Ambulatory\",\"Emergency\",\"Encounter Only\",\"NA\"],[\"Inpatient Acute\",\"Other\",\"General Lab\",\"Laboratory\"],[\"Recurring\\/Series\",\"Recurring\",\"Encounter Only\",\"Mental Health\"],[\"Emergency\",\"Emergency\",\"General Lab\",\"NA\"],[\"MHAS - Acute Care\",\"Inpatient\",\"Encounter Only\",\"Mental Health\"],[\"Specimen\",\"Inpatient\",\"General Lab\",\"Laboratory\"],[\"Emergency\",\"Inpatient\",\"Encounter Only\",\"Diseases of the digestive system\"],[\"Specimen\",\"Emergency\",\"General Lab\",\"Laboratory\"],[\"Inpatient Acute\",\"Outpatient\",\"General Lab\",\"Laboratory\"],[\"Emergency\",\"Emergency\",\"General Lab\",\"Laboratory\"],[\"Inpatient Acute\",\"Inpatient\",\"General Lab\",\"Laboratory\"],[\"Inpatient Acute\",\"Inpatient\",\"General Lab\",\"Laboratory\"],[\"Home Care\",\"Other\",\"General Lab\",\"Laboratory\"],[\"MHAS - Acute Care\",\"Recurring\",\"Encounter Only\",\"Mental Health\"],[\"Emergency\",\"Emergency\",\"Diagnosis\",\"NA\"],[\"Emergency\",\"Emergency\",\"General Lab\",\"Laboratory\"],[\"MHAS - Acute Care\",\"Recurring\",\"Diagnosis\",\"Mental Health\"],[\"Ambulatory\",\"Outpatient\",\"Encounter Only\",\"Rehab\"],[\"MHAS - Acute Care\",\"Inpatient\",\"Encounter Only\",\"Mental Health\"],[\"Inpatient Acute\",\"Inpatient\",\"General Lab\",\"Laboratory\"],[\"Inpatient Acute\",\"Inpatient\",\"General Lab\",\"Laboratory\"],[\"Open Encounter\",\"Inpatient\",\"Radiology\",\"Mental Health\"],[\"Ambulatory\",\"Inpatient\",\"General Lab\",\"Laboratory\"],[\"Inpatient Acute\",\"Inpatient\",\"Radiology\",\"Laboratory\"],[\"Emergency\",\"Emergency\",\"Encounter Only\",\"NA\"],[\"Inpatient Acute\",\"Emergency\",\"General Lab\",\"Laboratory\"],[\"Ambulatory\",\"Inpatient\",\"General Lab\",\"Laboratory\"],[\"Specimen\",\"Emergency\",\"General Lab\",\"Mental Health\"],[\"Emergency\",\"Emergency\",\"Encounter Only\",\"NA\"],[\"Day Care\",\"Outpatient\",\"Encounter Only\",\"Outpatient\"],[\"MHAS - Residential\",\"Inpatient\",\"Encounter Only\",\"Mental Health\"],[\"Emergency\",\"Emergency\",\"General Lab\",\"Laboratory\"],[\"Emergency\",\"Emergency\",\"Encounter Only\",\"NA\"],[\"Emergency\",\"Emergency\",\"Encounter Only\",\"NA\"],[\"MHAS - Acute Care\",\"Emergency\",\"General Lab\",\"Laboratory\"],[\"Emergency\",\"Emergency\",\"Encounter Only\",\"Child, Youth & Family\"],[\"Ambulatory\",\"Outpatient\",\"Encounter Only\",\"Laboratory\"],[\"Open Encounter\",\"Recurring\",\"Radiology\",\"Mental Health\"],[\"Inpatient Acute\",\"Inpatient\",\"General Lab\",\"Outpatient\"],[\"MHAS - Acute Care\",\"Inpatient\",\"Encounter Only\",\"NA\"],[\"Day Care\",\"Emergency\",\"Encounter Only\",\"Mental Health\"],[\"Ambulatory\",\"Outpatient\",\"Encounter Only\",\"Outpatient\"],[\"Inpatient Acute\",\"Emergency\",\"General Lab\",\"Laboratory\"],[\"Open Encounter\",\"Inpatient\",\"Encounter Only\",\"Mental Health\"],[\"Inpatient Acute\",\"Outpatient\",\"Encounter Only\",\"NA\"],[\"Ambulatory\",\"Outpatient\",\"Encounter Only\",\"Outpatient\"],[\"Day Care\",\"Outpatient\",\"Encounter Only\",\"Diagnostic Imaging\"],[\"MHAS - Acute Care\",\"Recurring\",\"Encounter Only\",\"Mental Health\"],[\"Inpatient Acute\",\"Emergency\",\"Radiology\",\"Laboratory\"],[\"Day Care\",\"Outpatient\",\"Encounter Only\",\"Outpatient\"],[\"Inpatient Acute\",\"Inpatient\",\"Encounter Only\",\"Mental Health\"],[\"Specimen\",\"Other\",\"General Lab\",\"Mental Health\"],[\"Open Encounter\",\"Inpatient\",\"Encounter Only\",\"Mental Health\"],[\"Recurring\\/Series\",\"Inpatient\",\"Encounter Only\",\"Mental Health\"],[\"MHAS - Residential\",\"Inpatient\",\"Encounter Only\",\"Outpatient\"],[\"Emergency\",\"Emergency\",\"Encounter Only\",\"NA\"],[\"Specimen\",\"Inpatient\",\"General Lab\",\"Laboratory\"],[\"Inpatient Acute\",\"Inpatient\",\"General Lab\",\"Laboratory\"],[\"Inpatient Acute\",\"Inpatient\",\"General Lab\",\"Laboratory\"],[\"Emergency\",\"Emergency\",\"Encounter Only\",\"NA\"],[\"Inpatient Acute\",\"Inpatient\",\"General Lab\",\"Laboratory\"],[\"Emergency\",\"Emergency\",\"Encounter Only\",\"NA\"],[\"Emergency\",\"Emergency\",\"Encounter Only\",\"NA\"],[\"Inpatient Acute\",\"Emergency\",\"General Lab\",\"Laboratory\"],[\"Day Care\",\"Inpatient\",\"General Lab\",\"Medicine\"],[\"MHAS - Residential\",\"Recurring\",\"Radiology\",\"Mental Health\"],[\"Emergency\",\"Emergency\",\"Encounter Only\",\"Diseases of the digestive system\"],[\"Emergency\",\"Emergency\",\"Radiology\",\"Diagnostic Imaging\"],[\"Ambulatory\",\"Emergency\",\"Encounter Only\",\"NA\"],[\"Ambulatory\",\"Emergency\",\"General Lab\",\"Laboratory\"],[\"Emergency\",\"Emergency\",\"Encounter Only\",\"NA\"],[\"MHAS - Residential\",\"Outpatient\",\"Encounter Only\",\"Child, Youth & Family\"],[\"Inpatient Acute\",\"Emergency\",\"General Lab\",\"Laboratory\"],[\"MHAS - Residential\",\"Inpatient\",\"Encounter Only\",\"Mental Health\"],[\"Emergency\",\"Emergency\",\"Surgery\",\"Diagnostic Imaging\"],[\"Specimen\",\"Other\",\"General Lab\",\"Laboratory\"],[\"Recurring\\/Series\",\"Home Care\",\"General Lab\",\"Laboratory\"],[\"Emergency\",\"Inpatient\",\"Radiology\",\"Diagnostic Imaging\"],[\"Ambulatory\",\"Outpatient\",\"Encounter Only\",\"NA\"],[\"MHAS - Residential\",\"Outpatient\",\"Encounter Only\",\"Outpatient\"],[\"Emergency\",\"Emergency\",\"Encounter Only\",\"Mental Health\"],[\"Emergency\",\"Emergency\",\"Encounter Only\",\"Outpatient\"],[\"MHAS - Residential\",\"Inpatient\",\"Radiology\",\"Laboratory\"],[\"MHAS - Residential\",\"Recurring\",\"General Lab\",\"Mental Health\"],[\"MHAS - Residential\",\"Inpatient\",\"Encounter Only\",\"Mental Health\"],[\"Specimen\",\"Outpatient\",\"Encounter Only\",\"NA\"],[\"Specimen\",\"Emergency\",\"Micro\",\"Laboratory\"],[\"Inpatient Acute\",\"Inpatient\",\"Surgery\",\"Laboratory\"],[\"Ambulatory\",\"Other\",\"Encounter Only\",\"NA\"],[\"Inpatient Acute\",\"Emergency\",\"Encounter Only\",\"NA\"],[\"MHAS - Acute Care\",\"Inpatient\",\"Encounter Only\",\"Mental Health\"],[\"Emergency\",\"Emergency\",\"Encounter Only\",\"NA\"],[\"Emergency\",\"Inpatient\",\"Encounter Only\",\"NA\"],[\"Inpatient Acute\",\"Inpatient\",\"General Lab\",\"Laboratory\"],[\"Ambulatory\",\"Outpatient\",\"Encounter Only\",\"Outpatient\"],[\"Specimen\",\"Other\",\"General Lab\",\"Laboratory\"],[\"Inpatient Acute\",\"Inpatient\",\"General Lab\",\"Laboratory\"],[\"Ambulatory\",\"Inpatient\",\"Encounter Only\",\"Outpatient\"],[\"Inpatient Acute\",\"Emergency\",\"General Lab\",\"Laboratory\"],[\"Inpatient Acute\",\"Inpatient\",\"General Lab\",\"Medicine\"],[\"MHAS - Acute Care\",\"Inpatient\",\"Encounter Only\",\"Mental Health\"],[\"MHAS - Acute Care\",\"Recurring\",\"Encounter Only\",\"Rehab\"],[\"Ambulatory\",\"Emergency\",\"Encounter Only\",\"NA\"],[\"MHAS - Acute Care\",\"Inpatient\",\"Encounter Only\",\"Mental Health\"],[\"Emergency\",\"Outpatient\",\"Encounter Only\",\"Outpatient\"],[\"Ambulatory\",\"Outpatient\",\"Encounter Only\",\"NA\"],[\"Ambulatory\",\"Emergency\",\"Encounter Only\",\"Outpatient\"],[\"Emergency\",\"Emergency\",\"Encounter Only\",\"NA\"],[\"Emergency\",\"Inpatient\",\"General Lab\",\"Laboratory\"],[\"Ambulatory\",\"Other\",\"Encounter Only\",\"Outpatient\"],[\"Inpatient Acute\",\"Inpatient\",\"General Lab\",\"Laboratory\"],[\"Home Care\",\"Other\",\"Radiology\",\"Mental Health\"],[\"Open Encounter\",\"Inpatient\",\"Encounter Only\",\"Mental Health\"],[\"Ambulatory\",\"Inpatient\",\"General Lab\",\"Laboratory\"],[\"Specimen\",\"Other\",\"General Lab\",\"Laboratory\"],[\"Inpatient Acute\",\"Inpatient\",\"Encounter Only\",\"Diseases of the digestive system\"],[\"MHAS - Acute Care\",\"Recurring\",\"Micro\",\"Diagnostic Imaging\"],[\"MHAS - Residential\",\"Inpatient\",\"Encounter Only\",\"Mental Health\"],[\"Ambulatory\",\"Emergency\",\"General Lab\",\"Diagnostic Imaging\"],[\"Home Care\",\"Emergency\",\"General Lab\",\"Laboratory\"],[\"MHAS - Residential\",\"Inpatient\",\"Encounter Only\",\"Mental Health\"],[\"Specimen\",\"Outpatient\",\"Encounter Only\",\"Outpatient\"],[\"Ambulatory\",\"Outpatient\",\"Encounter Only\",\"Laboratory\"],[\"Emergency\",\"Emergency\",\"Encounter Only\",\"NA\"],[\"MHAS - Acute Care\",\"Inpatient\",\"Encounter Only\",\"Mental Health\"],[\"Emergency\",\"Recurring\",\"Encounter Only\",\"NA\"],[\"Home Care\",\"Other\",\"Encounter Only\",\"Mental Health\"],[\"Specimen\",\"Emergency\",\"General Lab\",\"Laboratory\"],[\"Emergency\",\"Outpatient\",\"Encounter Only\",\"Outpatient\"],[\"Inpatient Acute\",\"Inpatient\",\"Micro\",\"Diagnostic Imaging\"],[\"MHAS - Residential\",\"Recurring\",\"Encounter Only\",\"Child, Youth & Family\"],[\"Inpatient Acute\",\"Inpatient\",\"Radiology\",\"Laboratory\"],[\"MHAS - Acute Care\",\"Inpatient\",\"Encounter Only\",\"Mental Health\"],[\"Ambulatory\",\"Outpatient\",\"Encounter Only\",\"Outpatient\"],[\"Specimen\",\"Inpatient\",\"Encounter Only\",\"Diseases of the digestive system\"],[\"Inpatient Acute\",\"Outpatient\",\"Encounter Only\",\"Outpatient\"],[\"Specimen\",\"Emergency\",\"Encounter Only\",\"NA\"],[\"Ambulatory\",\"Emergency\",\"Encounter Only\",\"Child, Youth & Family\"],[\"Inpatient Acute\",\"Inpatient\",\"General Lab\",\"Diagnostic Imaging\"],[\"MHAS - Acute Care\",\"Inpatient\",\"Encounter Only\",\"Mental Health\"],[\"MHAS - Residential\",\"Inpatient\",\"Micro\",\"Mental Health\"],[\"MHAS - Residential\",\"Emergency\",\"Radiology\",\"Laboratory\"],[\"Inpatient Acute\",\"Outpatient\",\"Encounter Only\",\"Medicine\"],[\"MHAS - Acute Care\",\"Recurring\",\"Encounter Only\",\"Mental Health\"],[\"Emergency\",\"Emergency\",\"Encounter Only\",\"NA\"],[\"MHAS - Acute Care\",\"Inpatient\",\"Encounter Only\",\"Mental Health\"],[\"Inpatient Acute\",\"Outpatient\",\"Encounter Only\",\"Mental Health\"],[\"Emergency\",\"Inpatient\",\"Encounter Only\",\"NA\"],[\"Inpatient Acute\",\"Home Care\",\"Radiology\",\"Laboratory\"],[\"Ambulatory\",\"Emergency\",\"Encounter Only\",\"NA\"],[\"Ambulatory\",\"Outpatient\",\"Encounter Only\",\"Diagnostic Imaging\"],[\"Specimen\",\"Inpatient\",\"Encounter Only\",\"Child, Youth & Family\"],[\"Inpatient Acute\",\"Emergency\",\"General Lab\",\"Mental Health\"],[\"Inpatient Acute\",\"Other\",\"Encounter Only\",\"Laboratory\"],[\"Emergency\",\"Emergency\",\"General Lab\",\"Laboratory\"],[\"Home Care\",\"Emergency\",\"Encounter Only\",\"NA\"],[\"Ambulatory\",\"Outpatient\",\"Encounter Only\",\"Outpatient\"],[\"Emergency\",\"Emergency\",\"General Lab\",\"Laboratory\"],[\"Inpatient Acute\",\"Emergency\",\"General Lab\",\"Mental Health\"],[\"Emergency\",\"Emergency\",\"Encounter Only\",\"NA\"],[\"MHAS - Acute Care\",\"Recurring\",\"Encounter Only\",\"Mental Health\"],[\"Emergency\",\"Emergency\",\"Encounter Only\",\"NA\"],[\"MHAS - Acute Care\",\"Recurring\",\"Surgery\",\"Mental Health\"],[\"Emergency\",\"Emergency\",\"Diagnosis\",\"NA\"],[\"Open Encounter\",\"Emergency\",\"Encounter Only\",\"NA\"],[\"Emergency\",\"Home Care\",\"Encounter Only\",\"Outpatient\"],[\"Specimen\",\"Other\",\"General Lab\",\"Laboratory\"],[\"MHAS - Acute Care\",\"Recurring\",\"Encounter Only\",\"Mental Health\"],[\"Emergency\",\"Emergency\",\"Encounter Only\",\"NA\"],[\"Inpatient Acute\",\"Emergency\",\"General Lab\",\"Laboratory\"],[\"Emergency\",\"Emergency\",\"General Lab\",\"NA\"],[\"Ambulatory\",\"Outpatient\",\"Encounter Only\",\"Surgery\"],[\"Ambulatory\",\"Emergency\",\"Radiology\",\"Laboratory\"],[\"Emergency\",\"Outpatient\",\"Encounter Only\",\"NA\"],[\"Home Care\",\"Emergency\",\"Radiology\",\"Diseases of the digestive system\"],[\"Ambulatory\",\"Outpatient\",\"Encounter Only\",\"NA\"],[\"Open Encounter\",\"Inpatient\",\"Encounter Only\",\"Mental Health\"],[\"Inpatient Acute\",\"Other\",\"General Lab\",\"Child, Youth & Family\"],[\"Emergency\",\"Inpatient\",\"General Lab\",\"Laboratory\"],[\"Open Encounter\",\"Inpatient\",\"Encounter Only\",\"Medicine\"],[\"Inpatient Acute\",\"Other\",\"General Lab\",\"Laboratory\"],[\"Inpatient Acute\",\"Inpatient\",\"General Lab\",\"Laboratory\"],[\"Inpatient Acute\",\"Other\",\"General Lab\",\"Laboratory\"],[\"Specimen\",\"Emergency\",\"Encounter Only\",\"NA\"],[\"Specimen\",\"Inpatient\",\"General Lab\",\"NA\"],[\"Ambulatory\",\"Other\",\"Encounter Only\",\"NA\"],[\"Open Encounter\",\"Inpatient\",\"Encounter Only\",\"Mental Health\"],[\"Inpatient Acute\",\"Inpatient\",\"General Lab\",\"Medicine\"],[\"Emergency\",\"Emergency\",\"Encounter Only\",\"NA\"],[\"Emergency\",\"Emergency\",\"Diagnosis\",\"NA\"],[\"MHAS - Acute Care\",\"Inpatient\",\"Encounter Only\",\"Mental Health\"],[\"Emergency\",\"Emergency\",\"General Lab\",\"Laboratory\"],[\"Open Encounter\",\"Inpatient\",\"Encounter Only\",\"Mental Health\"],[\"Emergency\",\"Home Care\",\"Encounter Only\",\"Outpatient\"],[\"Emergency\",\"Outpatient\",\"Encounter Only\",\"NA\"],[\"Open Encounter\",\"Inpatient\",\"Encounter Only\",\"Mental Health\"],[\"Specimen\",\"Emergency\",\"Encounter Only\",\"NA\"],[\"Emergency\",\"Emergency\",\"General Lab\",\"Laboratory\"],[\"Ambulatory\",\"Outpatient\",\"Encounter Only\",\"Outpatient\"],[\"Specimen\",\"Recurring\",\"General Lab\",\"Laboratory\"],[\"Ambulatory\",\"Outpatient\",\"Encounter Only\",\"NA\"],[\"Open Encounter\",\"Inpatient\",\"Surgery\",\"Child, Youth & Family\"],[\"Specimen\",\"Recurring\",\"General Lab\",\"Outpatient\"],[\"Emergency\",\"Emergency\",\"Encounter Only\",\"NA\"],[\"Ambulatory\",\"Outpatient\",\"Encounter Only\",\"Surgery\"],[\"Ambulatory\",\"Outpatient\",\"Encounter Only\",\"Outpatient\"],[\"Emergency\",\"Emergency\",\"Encounter Only\",\"Diseases of the digestive system\"],[\"MHAS - Acute Care\",\"Recurring\",\"Encounter Only\",\"Mental Health\"],[\"Home Care\",\"Emergency\",\"General Lab\",\"Child, Youth & Family\"],[\"Emergency\",\"Inpatient\",\"Radiology\",\"Laboratory\"],[\"MHAS - Acute Care\",\"Inpatient\",\"Encounter Only\",\"Mental Health\"],[\"Open Encounter\",\"Recurring\",\"Radiology\",\"Laboratory\"],[\"Emergency\",\"Inpatient\",\"Encounter Only\",\"Outpatient\"],[\"Ambulatory\",\"Outpatient\",\"Encounter Only\",\"Medicine\"],[\"MHAS - Residential\",\"Recurring\",\"Encounter Only\",\"NA\"],[\"Ambulatory\",\"Outpatient\",\"Radiology\",\"Outpatient\"],[\"Emergency\",\"Inpatient\",\"General Lab\",\"Laboratory\"],[\"Open Encounter\",\"Recurring\",\"Radiology\",\"NA\"],[\"Inpatient Acute\",\"Inpatient\",\"Diagnosis\",\"Laboratory\"],[\"Emergency\",\"Home Care\",\"General Lab\",\"Outpatient\"],[\"MHAS - Residential\",\"Inpatient\",\"Encounter Only\",\"Mental Health\"],[\"Specimen\",\"Inpatient\",\"General Lab\",\"Laboratory\"],[\"Inpatient Acute\",\"Other\",\"General Lab\",\"Diagnostic Imaging\"],[\"Inpatient Acute\",\"Emergency\",\"General Lab\",\"Laboratory\"],[\"Inpatient Acute\",\"Inpatient\",\"General Lab\",\"Laboratory\"],[\"Inpatient Acute\",\"Inpatient\",\"Diagnosis\",\"Surgery\"],[\"Emergency\",\"Inpatient\",\"General Lab\",\"Laboratory\"],[\"Open Encounter\",\"Inpatient\",\"Encounter Only\",\"Mental Health\"],[\"Specimen\",\"Inpatient\",\"General Lab\",\"Laboratory\"],[\"MHAS - Acute Care\",\"Inpatient\",\"Encounter Only\",\"Outpatient\"],[\"Ambulatory\",\"Inpatient\",\"Encounter Only\",\"Child, Youth & Family\"],[\"Open Encounter\",\"Inpatient\",\"Encounter Only\",\"Mental Health\"],[\"MHAS - Acute Care\",\"Inpatient\",\"Encounter Only\",\"Mental Health\"],[\"Emergency\",\"Other\",\"General Lab\",\"Diagnostic Imaging\"],[\"Ambulatory\",\"Other\",\"Encounter Only\",\"Rehab\"],[\"Emergency\",\"Emergency\",\"Encounter Only\",\"Outpatient\"],[\"Emergency\",\"Inpatient\",\"General Lab\",\"Mental Health\"],[\"Specimen\",\"Emergency\",\"General Lab\",\"Diagnostic Imaging\"],[\"Specimen\",\"Home Care\",\"Radiology\",\"Laboratory\"],[\"Inpatient Acute\",\"Inpatient\",\"General Lab\",\"Laboratory\"],[\"MHAS - Acute Care\",\"Inpatient\",\"Encounter Only\",\"Mental Health\"],[\"Ambulatory\",\"Outpatient\",\"Encounter Only\",\"NA\"],[\"Emergency\",\"Other\",\"Diagnosis\",\"Diagnostic Imaging\"],[\"Ambulatory\",\"Recurring\",\"Encounter Only\",\"NA\"],[\"MHAS - Residential\",\"Outpatient\",\"Encounter Only\",\"Mental Health\"],[\"Emergency\",\"Emergency\",\"General Lab\",\"Laboratory\"],[\"Inpatient Acute\",\"Other\",\"Encounter Only\",\"Surgery\"],[\"Inpatient Acute\",\"Inpatient\",\"General Lab\",\"Laboratory\"],[\"Inpatient Acute\",\"Emergency\",\"General Lab\",\"Laboratory\"],[\"Day Care\",\"Inpatient\",\"Encounter Only\",\"Surgery\"],[\"Inpatient Acute\",\"Inpatient\",\"General Lab\",\"Laboratory\"],[\"Inpatient Acute\",\"Inpatient\",\"General Lab\",\"Laboratory\"],[\"MHAS - Acute Care\",\"Inpatient\",\"Encounter Only\",\"Mental Health\"],[\"Open Encounter\",\"Inpatient\",\"Radiology\",\"Mental Health\"],[\"MHAS - Acute Care\",\"Inpatient\",\"Encounter Only\",\"Mental Health\"],[\"Emergency\",\"Inpatient\",\"General Lab\",\"Laboratory\"],[\"Specimen\",\"Inpatient\",\"General Lab\",\"Laboratory\"],[\"Inpatient Acute\",\"Inpatient\",\"Radiology\",\"Laboratory\"],[\"MHAS - Residential\",\"Inpatient\",\"General Lab\",\"Laboratory\"],[\"Emergency\",\"Emergency\",\"Encounter Only\",\"NA\"],[\"Inpatient Acute\",\"Emergency\",\"Radiology\",\"Laboratory\"],[\"Ambulatory\",\"Outpatient\",\"Radiology\",\"Surgery\"],[\"Emergency\",\"Emergency\",\"Encounter Only\",\"NA\"],[\"Ambulatory\",\"Emergency\",\"Radiology\",\"Laboratory\"],[\"Emergency\",\"Outpatient\",\"Encounter Only\",\"Outpatient\"],[\"MHAS - Acute Care\",\"Home Care\",\"Encounter Only\",\"Mental Health\"],[\"MHAS - Residential\",\"Emergency\",\"Radiology\",\"Diseases of the digestive system\"],[\"MHAS - Acute Care\",\"Other\",\"Encounter Only\",\"Outpatient\"],[\"Open Encounter\",\"Outpatient\",\"Encounter Only\",\"Diagnostic Imaging\"],[\"Emergency\",\"Emergency\",\"Encounter Only\",\"NA\"],[\"Inpatient Acute\",\"Inpatient\",\"General Lab\",\"NA\"],[\"Ambulatory\",\"Other\",\"Micro\",\"Outpatient\"],[\"Emergency\",\"Emergency\",\"Diagnosis\",\"NA\"],[\"Inpatient Acute\",\"Other\",\"Encounter Only\",\"Medicine\"],[\"Emergency\",\"Emergency\",\"Encounter Only\",\"NA\"],[\"Inpatient Acute\",\"Inpatient\",\"General Lab\",\"Diagnostic Imaging\"],[\"MHAS - Acute Care\",\"Emergency\",\"Encounter Only\",\"Mental Health\"],[\"Ambulatory\",\"Outpatient\",\"Radiology\",\"NA\"],[\"Home Care\",\"Other\",\"Encounter Only\",\"Outpatient\"],[\"Specimen\",\"Home Care\",\"Encounter Only\",\"Outpatient\"],[\"Open Encounter\",\"Inpatient\",\"Encounter Only\",\"Mental Health\"],[\"MHAS - Residential\",\"Emergency\",\"General Lab\",\"Laboratory\"],[\"Open Encounter\",\"Recurring\",\"Encounter Only\",\"NA\"],[\"MHAS - Residential\",\"Inpatient\",\"Encounter Only\",\"Mental Health\"],[\"Emergency\",\"Other\",\"General Lab\",\"Laboratory\"],[\"Ambulatory\",\"Other\",\"Diagnosis\",\"Diagnostic Imaging\"],[\"Emergency\",\"Emergency\",\"Encounter Only\",\"Outpatient\"],[\"Ambulatory\",\"Outpatient\",\"Encounter Only\",\"NA\"],[\"Emergency\",\"Other\",\"General Lab\",\"Laboratory\"],[\"Inpatient Acute\",\"Outpatient\",\"Radiology\",\"Rehab\"],[\"Home Care\",\"Emergency\",\"Encounter Only\",\"NA\"],[\"Emergency\",\"Emergency\",\"Encounter Only\",\"Rehab\"],[\"Specimen\",\"Inpatient\",\"General Lab\",\"Diagnostic Imaging\"],[\"Day Care\",\"Outpatient\",\"Encounter Only\",\"Laboratory\"],[\"Emergency\",\"Emergency\",\"Encounter Only\",\"Medicine\"],[\"Inpatient Acute\",\"Inpatient\",\"General Lab\",\"Laboratory\"],[\"Ambulatory\",\"Outpatient\",\"Encounter Only\",\"Medicine\"],[\"Emergency\",\"Emergency\",\"Encounter Only\",\"Outpatient\"],[\"Open Encounter\",\"Recurring\",\"Encounter Only\",\"Surgery\"],[\"Emergency\",\"Recurring\",\"Encounter Only\",\"Medicine\"],[\"Emergency\",\"Inpatient\",\"General Lab\",\"Surgery\"],[\"Ambulatory\",\"Outpatient\",\"Surgery\",\"Outpatient\"],[\"Ambulatory\",\"Other\",\"Radiology\",\"Laboratory\"],[\"Emergency\",\"Emergency\",\"Micro\",\"NA\"],[\"MHAS - Residential\",\"Outpatient\",\"Encounter Only\",\"Outpatient\"],[\"Emergency\",\"Emergency\",\"General Lab\",\"Laboratory\"],[\"MHAS - Residential\",\"Inpatient\",\"Encounter Only\",\"Mental Health\"],[\"Inpatient Acute\",\"Inpatient\",\"General Lab\",\"Medicine\"],[\"MHAS - Acute Care\",\"Recurring\",\"Encounter Only\",\"Mental Health\"],[\"Ambulatory\",\"Outpatient\",\"Encounter Only\",\"Child, Youth & Family\"],[\"Inpatient Acute\",\"Inpatient\",\"General Lab\",\"Laboratory\"],[\"Ambulatory\",\"Other\",\"Encounter Only\",\"Surgery\"],[\"Open Encounter\",\"Recurring\",\"Diagnosis\",\"Mental Health\"]]},[{\"stat_type\": \"categorical\", \"name\": \"id\", \"unique_values\": [\"1AB5C92\", \"977D203\", \"102DBC2\", \"C9B9133\", \"DC2302\", \"1A491A2\", \"8A1A543\", \"9A51A2\", \"7C1DB2\", \"2D98203\"]}, {\"stat_type\": \"categorical\", \"name\": \"gender\", \"unique_values\": [\"Female\", \"Male\"]}, {\"stat_type\": \"categorical\", \"name\": \"age_group\", \"unique_values\": [\"25 - 29\", \"45 - 49\", \"35 - 39\", \"60 - 64\", \"20 - 24\", \"50 - 54\", \"30 - 34\"]}, {\"stat_type\": \"categorical\", \"name\": \"encounter_id\", \"unique_values\": [42230255.0, 20125520.0, 36191729.0, 86996036.0, 55289445.0, 22083062.0, 29334171.0, 47136843.0, 33977348.0, 40405740.0, 41872894.0, 91664860.0, 39944218.0, 26276423.0, 40734987.0, 91674350.0, 35738526.0, 30060555.0, 25512557.0, 44186773.0, 36011436.0, 40274284.0, 31296668.0, 90188218.0, 20461999.0, 87120526.0, 43912921.0, 39756628.0, 37852481.0, 30357039.0, 37657794.0, 37587106.0, 42904960.0, 24929450.0, 88228925.0, 85708971.0, 29723724.0, 89048614.0, 45082180.0, 28544502.0, 88058166.0, 30326126.0, 19886380.0, 41529325.0, 20286984.0, 34530491.0, 34125343.0, 39225226.0, 29798796.0, 25439078.0, 41652293.0, 39815674.0, 29026413.0, 92068717.0, 24130052.0, 39174510.0, 29483966.0, 27393990.0, 91928883.0, 23424929.0, 88162301.0, 47202901.0, 91795528.0, 19818896.0, 25763847.0, 23860943.0, 28892619.0, 42143083.0, 43901372.0, 30575337.0, 92016369.0, 47012732.0, 29904969.0, 20015383.0, 33889837.0, 43294412.0, 24683873.0, 31467193.0, 87224056.0, 88001591.0, 25912238.0, 28224980.0, 87256532.0, 90640891.0, 42528226.0, 28765572.0, 37119780.0, 30202859.0, 92020489.0, 37988510.0, 28595579.0, 27196698.0, 25603783.0, 27512904.0, 30757601.0, 41491822.0, 42786155.0, 34221331.0, 32239042.0, 89758041.0, 22212730.0, 90629691.0, 35317685.0, 42685709.0, 85807367.0, 41113956.0, 26506596.0, 19975582.0, 29464770.0, 42338195.0, 20731114.0, 85331556.0, 34856946.0, 88451864.0, 31006937.0, 28264626.0, 84937891.0, 39264334.0, 37683060.0, 32201838.0, 30566397.0, 31633093.0, 36561033.0, 21553673.0, 45835799.0, 33446252.0, 42856468.0, 22075076.0, 89323079.0, 45560123.0, 45272228.0, 37874802.0, 88804502.0, 25133798.0, 91843985.0, 29166871.0, 84914188.0, 23333686.0, 22979819.0, 85733822.0, 33479887.0, 25124039.0, 35278510.0, 30130758.0, 86351658.0, 25101449.0, 23561737.0, 22902542.0, 91976820.0, 44110092.0, 91041652.0, 26746532.0, 88670467.0, 30083439.0, 43273238.0, 33598889.0, 19902049.0, 40058241.0, 85256547.0, 34290077.0, 20811117.0, 91574104.0, 22285096.0, 34289143.0, 41183554.0, 22323452.0, 27356692.0, 28762329.0, 42018847.0, 27505084.0, 87456582.0, 21391361.0, 42063635.0, 21080102.0, 27938824.0, 85808290.0, 30923138.0, 21515321.0, 41019519.0, 36546008.0, 30333420.0, 52766112.0, 22751968.0, 44098621.0, 26175573.0, 87290407.0, 36798243.0, 40362948.0, 89300625.0, 38121092.0, 36232656.0, 41227893.0, 39955884.0, 39285534.0, 34667311.0, 42711950.0, 27224295.0, 21690463.0, 35156450.0, 35488213.0, 87787211.0, 32491414.0, 29052699.0, 84445581.0, 85234680.0, 85325766.0, 19742002.0, 32426953.0, 36377395.0, 32215696.0, 29224331.0, 41160574.0, 21251468.0, 36791419.0, 25631963.0, 86727795.0, 36818812.0, 20827984.0, 33284279.0, 86008853.0]}, {\"stat_type\": \"categorical\", \"name\": \"encounter_class\", \"unique_values\": [\"Inpatient\", \"Recurring\", \"Emergency\", \"Other\", \"Outpatient\", \"Home Care\"]}, {\"stat_type\": \"categorical\", \"name\": \"encounter_type\", \"unique_values\": [\"Inpatient Acute\", \"MHAS - Residential\", \"MHAS - Acute Care\", \"Open Encounter\", \"Emergency\", \"Specimen\", \"Ambulatory\", \"Day Care\", \"Home Care\", \"Recurring/Series\"]}, {\"stat_type\": \"categorical\", \"name\": \"event_type\", \"unique_values\": [\"Encounter Only\", \"Surgery\", \"General Lab\", \"Radiology\", \"Diagnosis\", \"Micro\"]}, {\"stat_type\": \"categorical\", \"name\": \"event_title\", \"unique_values\": [\"Child, Youth & Family\", \"Mental Health\", \"NA\", \"Outpatient\", \"Surgery\", \"Medicine\", \"Laboratory\", \"Diagnostic Imaging\", \"Rehab\", \"Diseases of the digestive system\"]}, {\"stat_type\": \"categorical\", \"name\": \"event_detail\", \"unique_values\": [\"Maternity\", \"Adult Psychiatry\", \"NA\", \"Laboratory\", \"Medical Imaging\", \"Obstetrics\", \"Urology\", \"Colonoscopy (FIT Positive Yes CSP) SN\", \"Albumin Level\", \"ALT\", \"Bilirubin Total\", \"Complete Blood Count and Differential\", \"Confirmatory Hepatitis C Antibody\", \"Hepatitis C Antibody\", \"HIV Quantitative\", \"Potassium Level\", \"Protein Total\", \"Sodium Level\", \"xxAutomated Diff\", \"Hepatitis B Careset\", \"Alkaline Phosphatase\", \"Calcium Level\", \"Creatinine\", \"GGT\", \"Hepatitis A Antibody IgG\", \"Hepatitis B Core Antibody Total\", \"Hepatitis B Surface Antibody\", \"Hepatitis B Surface Antigen\", \"xxCD4\", \"CT Spine Lumbar w/o Contrast\", \"Outpatient\", \"Opthamology\", \"Acute Rehabilitation\", \"XR Tibia/Fibula Right\", \"Medicine Hospitalist\", \"Glucose Random\", \"INR\", \"Coag Panel Careset\", \"Macroscopic Urinalysis\", \"PTT\", \"Acute Hepatitis Careset\", \"Calcium Ionized Level\", \"Carbon Dioxide Total\", \"Chloride Level\", \"Hepatitis A Antibody IgM\", \"Magnesium Level\", \"Syphilis Serology\", \"Thyroid Stimulating Hormone\", \"xxCoagulation Hold Tube\", \"xxProtein Electrophoresis\", \"XR Chest 2 Views\", \"SI ED Basic Careset\", \"Anion Gap\", \"AST\", \"hCG Qualitative\", \"HIV Ag/Ab Combination Assay\", \"Lipase Level\", \"Protein Electrophoresis Careset\", \"HH ECG Electrocardiogram\", \"Medicine (Unspecified)\", \"XR Chest AP/PA 1 View\", \"MRI Spine Lumbar w/o Contrast\", \"Medicine Family Practice\", \"Surgery\", \"Pre-Admission Clinic\", \"Enterology\", \"Clinical Teaching Unit\", \"K42.9,  Umbilical hernia without obs or gangrene\", \"Plastic\", \"Medical Assessment\", \"CT Wrist w/o Contrast Left\", \"XR Wrist and Scaphoid Left\", \"XR Wrist Limited 2 Views Left\", \"Clinical Decision Unit\", \"Troponin T High Sensitivity\", \"Drug Screen Urine Qualitative\", \"xxMicroscopic Urinalysis\", \"Chem 7 Hem Careset\", \"Lactate Level\", \"Urine Culture\"]}, {\"stat_type\": \"categorical\", \"name\": \"event_year\", \"unique_values\": [2013.0, 2015.0, 2011.0, 2016.0, 2009.0, 2014.0, 2012.0, 2017.0, 2010.0, 2007.0]}, {\"stat_type\": \"categorical\", \"name\": \"event_month\", \"unique_values\": [1.0, 12.0, 6.0, 5.0, 7.0, 10.0, 4.0, 9.0, 11.0, 3.0, 2.0, 8.0]}, {\"stat_type\": \"realAdditive\", \"name\": \"start_day\"}, {\"stat_type\": \"realAdditive\", \"name\": \"end_day\"}, {\"stat_type\": \"realAdditive\", \"name\": \"duration_days\"}, {\"stat_type\": \"categorical\", \"name\": \"location_map_id\", \"unique_values\": [1673.0, 874.0, 903.0, 601.0, 1261.0, 2116.0, 1429.0, 807.0, 2230.0, 167.0, 2021.0, 1448.0, 139.0, 1582.0, 916.0, 1554.0, 1773.0, 1264.0, 1765.0, 1109.0, 483.0, 1853.0, 671.0, 1977.0, 227.0, 922.0, 1657.0, 388.0, 567.0, 718.0, 1514.0, 971.0, 520.0, 182.0, 1499.0, 251.0, 755.0, 1170.0, 1748.0, 1631.0, 595.0, 934.0, 768.0, 513.0, 1983.0, 766.0, 639.0, 2223.0, 1526.0, 243.0, 876.0, 1825.0, 787.0, 2232.0, 2180.0, 1177.0, 1487.0, 1612.0, 1181.0, 1810.0, 1819.0, 93.0, 209.0, 1611.0, 878.0, 34.0, 2076.0, 2038.0, 614.0, 1720.0, 296.0, 2125.0, 1032.0, 2119.0, 1723.0, 935.0, 132.0, 1490.0, 1365.0, 1718.0, 2035.0, 2190.0, 275.0, 947.0, 844.0, 2011.0, 390.0, 1601.0, 1408.0, 1033.0]}])"
      ],
      "text/plain": [
       "<IPython.core.display.Javascript object>"
      ]
     },
     "execution_count": 66,
     "metadata": {},
     "output_type": "execute_result"
    }
   ],
   "source": [
    "%%bql\n",
    ".interactive_pairplot --population=ehr_population \n",
    "SELECT\n",
    "\"encounter_type\",\n",
    "\"encounter_class\",\n",
    "\"event_type\",\n",
    "\"event_title\"\n",
    "FROM simulated_data"
   ]
  },
  {
   "cell_type": "markdown",
   "metadata": {
    "collapsed": true
   },
   "source": [
    "# Conclusions and next steps\n",
    "\n",
    "* It is possible to simulate EHR data using BayesDB and this appears to preserve the frequencies with which values appear, as well as certain second order relationships between variables\n",
    "\n",
    "* A next step is to use Venture to force certain variable relationships to take a specified functional form, for example that a single patient ID can only have one gender.\n",
    "\n",
    "* We may further improve the match between real and simulated EHR data by running analysis for a longer time. This tradeoff can be made precise using a runtime-accuracy analysis.\n",
    "\n",
    "* It is very easy to simulate data in a .csv file using BayesDB: the simulation step takes just one line of code"
   ]
  },
  {
   "cell_type": "markdown",
   "metadata": {},
   "source": [
    "## Slides\n",
    "* Who you are and where this data comes from\n",
    "* A slide describing the rows and columns \n",
    "* A slide listing total runtime and CrossCat models (and maybe the analysis step code)\n",
    "* A slide showing dependencies heatmap\n",
    "* A slide comparing SELECT to SIMULATE showing 1st order structure (counts of different categories, histogram of numerical variables) is preserved\n",
    "* A slide showing that certain second order sturcutre (between pairs of variables) is preserved:\n",
    "    - male female vs age group\n",
    "    - event type and encounter class, etc\n",
    "* End day minus start day - second order relationship preserved (in probability) even if that difference was not in the original data set\n",
    "* Conclusions and next steps with text above"
   ]
  },
  {
   "cell_type": "code",
   "execution_count": null,
   "metadata": {
    "collapsed": true
   },
   "outputs": [],
   "source": []
  }
 ],
 "metadata": {
  "kernelspec": {
   "display_name": "Python 2",
   "language": "python",
   "name": "python2"
  },
  "language_info": {
   "codemirror_mode": {
    "name": "ipython",
    "version": 2
   },
   "file_extension": ".py",
   "mimetype": "text/x-python",
   "name": "python",
   "nbconvert_exporter": "python",
   "pygments_lexer": "ipython2",
   "version": "2.7.12"
  }
 },
 "nbformat": 4,
 "nbformat_minor": 2
}
